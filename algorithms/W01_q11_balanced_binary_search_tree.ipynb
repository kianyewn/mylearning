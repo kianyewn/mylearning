{
 "cells": [
  {
   "cell_type": "code",
   "execution_count": 3,
   "id": "2aac6d24",
   "metadata": {},
   "outputs": [],
   "source": [
    "from typing import List"
   ]
  },
  {
   "cell_type": "markdown",
   "id": "8736ab45",
   "metadata": {},
   "source": [
    "# How to construct a Binary Search Tree \n",
    "- from a list\n",
    "- Input: root = [3,9,20,null,null,15,7]\n",
    "\n",
    "- https://stackoverflow.com/questions/43097045/best-way-to-construct-a-binary-tree-from-a-list-in-python\n",
    "    - gs: how to construct a binary tree python from list"
   ]
  },
  {
   "cell_type": "code",
   "execution_count": 1,
   "id": "ce6f027e",
   "metadata": {},
   "outputs": [],
   "source": [
    "input_list = [3,9,20,None,None,15,7]"
   ]
  },
  {
   "cell_type": "code",
   "execution_count": 8,
   "id": "f954bdaf",
   "metadata": {
    "scrolled": true
   },
   "outputs": [
    {
     "ename": "IndexError",
     "evalue": "list index out of range",
     "output_type": "error",
     "traceback": [
      "\u001b[0;31m---------------------------------------------------------------------------\u001b[0m",
      "\u001b[0;31mIndexError\u001b[0m                                Traceback (most recent call last)",
      "Cell \u001b[0;32mIn[8], line 25\u001b[0m\n\u001b[1;32m     21\u001b[0m         \u001b[38;5;66;03m# do the same for the other nodes\u001b[39;00m\n\u001b[1;32m     23\u001b[0m     \u001b[38;5;28;01mreturn\u001b[39;00m inner()\n\u001b[0;32m---> 25\u001b[0m \u001b[43mconstruct_tree\u001b[49m\u001b[43m(\u001b[49m\u001b[43minput_list\u001b[49m\u001b[43m)\u001b[49m\n",
      "Cell \u001b[0;32mIn[8], line 23\u001b[0m, in \u001b[0;36mconstruct_tree\u001b[0;34m(node_list)\u001b[0m\n\u001b[1;32m     20\u001b[0m     \u001b[38;5;28;01mreturn\u001b[39;00m root\n\u001b[1;32m     21\u001b[0m     \u001b[38;5;66;03m# do the same for the other nodes\u001b[39;00m\n\u001b[0;32m---> 23\u001b[0m \u001b[38;5;28;01mreturn\u001b[39;00m \u001b[43minner\u001b[49m\u001b[43m(\u001b[49m\u001b[43m)\u001b[49m\n",
      "Cell \u001b[0;32mIn[8], line 19\u001b[0m, in \u001b[0;36mconstruct_tree.<locals>.inner\u001b[0;34m(index)\u001b[0m\n\u001b[1;32m     17\u001b[0m root \u001b[38;5;241m=\u001b[39m Node(val\u001b[38;5;241m=\u001b[39mnode_val, left\u001b[38;5;241m=\u001b[39mleft_node_val, right \u001b[38;5;241m=\u001b[39m right_node_val)\n\u001b[1;32m     18\u001b[0m inner(index\u001b[38;5;241m*\u001b[39m\u001b[38;5;241m2\u001b[39m \u001b[38;5;241m+\u001b[39m\u001b[38;5;241m1\u001b[39m)\n\u001b[0;32m---> 19\u001b[0m \u001b[43minner\u001b[49m\u001b[43m(\u001b[49m\u001b[43mindex\u001b[49m\u001b[38;5;241;43m*\u001b[39;49m\u001b[38;5;241;43m2\u001b[39;49m\u001b[43m \u001b[49m\u001b[38;5;241;43m+\u001b[39;49m\u001b[38;5;241;43m2\u001b[39;49m\u001b[43m)\u001b[49m\n\u001b[1;32m     20\u001b[0m \u001b[38;5;28;01mreturn\u001b[39;00m root\n",
      "Cell \u001b[0;32mIn[8], line 18\u001b[0m, in \u001b[0;36mconstruct_tree.<locals>.inner\u001b[0;34m(index)\u001b[0m\n\u001b[1;32m     16\u001b[0m right_node_val \u001b[38;5;241m=\u001b[39m node_list[index\u001b[38;5;241m*\u001b[39m\u001b[38;5;241m2\u001b[39m \u001b[38;5;241m+\u001b[39m \u001b[38;5;241m2\u001b[39m]\n\u001b[1;32m     17\u001b[0m root \u001b[38;5;241m=\u001b[39m Node(val\u001b[38;5;241m=\u001b[39mnode_val, left\u001b[38;5;241m=\u001b[39mleft_node_val, right \u001b[38;5;241m=\u001b[39m right_node_val)\n\u001b[0;32m---> 18\u001b[0m \u001b[43minner\u001b[49m\u001b[43m(\u001b[49m\u001b[43mindex\u001b[49m\u001b[38;5;241;43m*\u001b[39;49m\u001b[38;5;241;43m2\u001b[39;49m\u001b[43m \u001b[49m\u001b[38;5;241;43m+\u001b[39;49m\u001b[38;5;241;43m1\u001b[39;49m\u001b[43m)\u001b[49m\n\u001b[1;32m     19\u001b[0m inner(index\u001b[38;5;241m*\u001b[39m\u001b[38;5;241m2\u001b[39m \u001b[38;5;241m+\u001b[39m\u001b[38;5;241m2\u001b[39m)\n\u001b[1;32m     20\u001b[0m \u001b[38;5;28;01mreturn\u001b[39;00m root\n",
      "Cell \u001b[0;32mIn[8], line 15\u001b[0m, in \u001b[0;36mconstruct_tree.<locals>.inner\u001b[0;34m(index)\u001b[0m\n\u001b[1;32m     13\u001b[0m     \u001b[38;5;28;01mreturn\u001b[39;00m \u001b[38;5;28;01mNone\u001b[39;00m\n\u001b[1;32m     14\u001b[0m node_val \u001b[38;5;241m=\u001b[39m node_list[index]\n\u001b[0;32m---> 15\u001b[0m left_node_val \u001b[38;5;241m=\u001b[39m \u001b[43mnode_list\u001b[49m\u001b[43m[\u001b[49m\u001b[43mindex\u001b[49m\u001b[38;5;241;43m*\u001b[39;49m\u001b[38;5;241;43m2\u001b[39;49m\u001b[43m \u001b[49m\u001b[38;5;241;43m+\u001b[39;49m\u001b[43m \u001b[49m\u001b[38;5;241;43m1\u001b[39;49m\u001b[43m]\u001b[49m \n\u001b[1;32m     16\u001b[0m right_node_val \u001b[38;5;241m=\u001b[39m node_list[index\u001b[38;5;241m*\u001b[39m\u001b[38;5;241m2\u001b[39m \u001b[38;5;241m+\u001b[39m \u001b[38;5;241m2\u001b[39m]\n\u001b[1;32m     17\u001b[0m root \u001b[38;5;241m=\u001b[39m Node(val\u001b[38;5;241m=\u001b[39mnode_val, left\u001b[38;5;241m=\u001b[39mleft_node_val, right \u001b[38;5;241m=\u001b[39m right_node_val)\n",
      "\u001b[0;31mIndexError\u001b[0m: list index out of range"
     ]
    }
   ],
   "source": [
    "class Node:\n",
    "    def __init__(self, val, left=None, right=None):\n",
    "        self.val = val\n",
    "        self.left = left\n",
    "        self.right = right\n",
    "    def __repr__(self):\n",
    "        return f'node:{self.val}, left: {self.left.val}, right: {self.right.val}'\n",
    "    \n",
    "def construct_tree(node_list:List)-> Node:\n",
    "    ## root index will be at 0\n",
    "    def inner(index=0):\n",
    "        if index > len(node_list) or node_list[index] is None:\n",
    "            return None\n",
    "        node_val = node_list[index]\n",
    "        left_node_val = node_list[index*2 + 1] \n",
    "        right_node_val = node_list[index*2 + 2]\n",
    "        root = Node(val=node_val, left=left_node_val, right = right_node_val)\n",
    "        inner(index*2 +1)\n",
    "        inner(index*2 +2)\n",
    "        return root\n",
    "        # do the same for the other nodes\n",
    "        \n",
    "    return inner()\n",
    "\n",
    "construct_tree(input_list)"
   ]
  },
  {
   "cell_type": "code",
   "execution_count": 8,
   "id": "6ec339a6",
   "metadata": {},
   "outputs": [],
   "source": [
    "class Node:\n",
    "    def __init__(self, val, left=None, right=None):\n",
    "        self.val = val\n",
    "        self.left = left\n",
    "        self.right = right\n",
    "    def __repr__(self):\n",
    "        return f'node:{self.val}, left: {self.left}, right: {self.right}'\n",
    "    \n",
    "    def printTree_helper(self, node, level=0):\n",
    "        if node != None:\n",
    "            self.printTree_helper(node.left, level + 1)\n",
    "            print(f\"{' ' * 4 * level} -> {node.value:02}\")\n",
    "            self.printTree_helper(node.right, level + 1)\n",
    "        \n",
    "    def printTree(self):\n",
    "        return self.printTree_helper(self, 0)\n",
    "    \n",
    "def construct_tree(node_list:List)-> Node:\n",
    "    ## root index will be at 0\n",
    "    def inner(index=0):\n",
    "        if index > len(node_list) or node_list[index] is None:\n",
    "            return None\n",
    "        node_val = node_list[index]\n",
    "        left_node_val = node_list[index*2 + 1] if (index *2 +1) < len(node_list) else None\n",
    "        right_node_val = node_list[index*2 + 2] if (index *2 +2) < len(node_list) else None\n",
    "        root = Node(val=node_val, left=left_node_val, right = right_node_val)\n",
    "        inner(index*2 +1)\n",
    "        inner(index*2 +2)\n",
    "        return root\n",
    "        # do the same for the other nodes\n",
    "        \n",
    "    return inner()\n",
    "\n",
    "n = construct_tree(input_list)"
   ]
  },
  {
   "cell_type": "code",
   "execution_count": 10,
   "id": "3e54b328",
   "metadata": {},
   "outputs": [
    {
     "ename": "AttributeError",
     "evalue": "'int' object has no attribute 'left'",
     "output_type": "error",
     "traceback": [
      "\u001b[0;31m---------------------------------------------------------------------------\u001b[0m",
      "\u001b[0;31mAttributeError\u001b[0m                            Traceback (most recent call last)",
      "Cell \u001b[0;32mIn[10], line 1\u001b[0m\n\u001b[0;32m----> 1\u001b[0m \u001b[43mn\u001b[49m\u001b[38;5;241;43m.\u001b[39;49m\u001b[43mprintTree\u001b[49m\u001b[43m(\u001b[49m\u001b[43m)\u001b[49m\n",
      "Cell \u001b[0;32mIn[8], line 16\u001b[0m, in \u001b[0;36mNode.printTree\u001b[0;34m(self)\u001b[0m\n\u001b[1;32m     15\u001b[0m \u001b[38;5;28;01mdef\u001b[39;00m \u001b[38;5;21mprintTree\u001b[39m(\u001b[38;5;28mself\u001b[39m):\n\u001b[0;32m---> 16\u001b[0m     \u001b[38;5;28;01mreturn\u001b[39;00m \u001b[38;5;28;43mself\u001b[39;49m\u001b[38;5;241;43m.\u001b[39;49m\u001b[43mprintTree_helper\u001b[49m\u001b[43m(\u001b[49m\u001b[38;5;28;43mself\u001b[39;49m\u001b[43m,\u001b[49m\u001b[43m \u001b[49m\u001b[38;5;241;43m0\u001b[39;49m\u001b[43m)\u001b[49m\n",
      "Cell \u001b[0;32mIn[8], line 11\u001b[0m, in \u001b[0;36mNode.printTree_helper\u001b[0;34m(self, node, level)\u001b[0m\n\u001b[1;32m      9\u001b[0m \u001b[38;5;28;01mdef\u001b[39;00m \u001b[38;5;21mprintTree_helper\u001b[39m(\u001b[38;5;28mself\u001b[39m, node, level\u001b[38;5;241m=\u001b[39m\u001b[38;5;241m0\u001b[39m):\n\u001b[1;32m     10\u001b[0m     \u001b[38;5;28;01mif\u001b[39;00m node \u001b[38;5;241m!=\u001b[39m \u001b[38;5;28;01mNone\u001b[39;00m:\n\u001b[0;32m---> 11\u001b[0m         \u001b[38;5;28;43mself\u001b[39;49m\u001b[38;5;241;43m.\u001b[39;49m\u001b[43mprintTree_helper\u001b[49m\u001b[43m(\u001b[49m\u001b[43mnode\u001b[49m\u001b[38;5;241;43m.\u001b[39;49m\u001b[43mleft\u001b[49m\u001b[43m,\u001b[49m\u001b[43m \u001b[49m\u001b[43mlevel\u001b[49m\u001b[43m \u001b[49m\u001b[38;5;241;43m+\u001b[39;49m\u001b[43m \u001b[49m\u001b[38;5;241;43m1\u001b[39;49m\u001b[43m)\u001b[49m\n\u001b[1;32m     12\u001b[0m         \u001b[38;5;28mprint\u001b[39m(\u001b[38;5;124mf\u001b[39m\u001b[38;5;124m\"\u001b[39m\u001b[38;5;132;01m{\u001b[39;00m\u001b[38;5;124m'\u001b[39m\u001b[38;5;124m \u001b[39m\u001b[38;5;124m'\u001b[39m\u001b[38;5;250m \u001b[39m\u001b[38;5;241m*\u001b[39m\u001b[38;5;250m \u001b[39m\u001b[38;5;241m4\u001b[39m\u001b[38;5;250m \u001b[39m\u001b[38;5;241m*\u001b[39m\u001b[38;5;250m \u001b[39mlevel\u001b[38;5;132;01m}\u001b[39;00m\u001b[38;5;124m -> \u001b[39m\u001b[38;5;132;01m{\u001b[39;00mnode\u001b[38;5;241m.\u001b[39mvalue\u001b[38;5;132;01m:\u001b[39;00m\u001b[38;5;124m02\u001b[39m\u001b[38;5;132;01m}\u001b[39;00m\u001b[38;5;124m\"\u001b[39m)\n\u001b[1;32m     13\u001b[0m         \u001b[38;5;28mself\u001b[39m\u001b[38;5;241m.\u001b[39mprintTree_helper(node\u001b[38;5;241m.\u001b[39mright, level \u001b[38;5;241m+\u001b[39m \u001b[38;5;241m1\u001b[39m)\n",
      "Cell \u001b[0;32mIn[8], line 11\u001b[0m, in \u001b[0;36mNode.printTree_helper\u001b[0;34m(self, node, level)\u001b[0m\n\u001b[1;32m      9\u001b[0m \u001b[38;5;28;01mdef\u001b[39;00m \u001b[38;5;21mprintTree_helper\u001b[39m(\u001b[38;5;28mself\u001b[39m, node, level\u001b[38;5;241m=\u001b[39m\u001b[38;5;241m0\u001b[39m):\n\u001b[1;32m     10\u001b[0m     \u001b[38;5;28;01mif\u001b[39;00m node \u001b[38;5;241m!=\u001b[39m \u001b[38;5;28;01mNone\u001b[39;00m:\n\u001b[0;32m---> 11\u001b[0m         \u001b[38;5;28mself\u001b[39m\u001b[38;5;241m.\u001b[39mprintTree_helper(\u001b[43mnode\u001b[49m\u001b[38;5;241;43m.\u001b[39;49m\u001b[43mleft\u001b[49m, level \u001b[38;5;241m+\u001b[39m \u001b[38;5;241m1\u001b[39m)\n\u001b[1;32m     12\u001b[0m         \u001b[38;5;28mprint\u001b[39m(\u001b[38;5;124mf\u001b[39m\u001b[38;5;124m\"\u001b[39m\u001b[38;5;132;01m{\u001b[39;00m\u001b[38;5;124m'\u001b[39m\u001b[38;5;124m \u001b[39m\u001b[38;5;124m'\u001b[39m\u001b[38;5;250m \u001b[39m\u001b[38;5;241m*\u001b[39m\u001b[38;5;250m \u001b[39m\u001b[38;5;241m4\u001b[39m\u001b[38;5;250m \u001b[39m\u001b[38;5;241m*\u001b[39m\u001b[38;5;250m \u001b[39mlevel\u001b[38;5;132;01m}\u001b[39;00m\u001b[38;5;124m -> \u001b[39m\u001b[38;5;132;01m{\u001b[39;00mnode\u001b[38;5;241m.\u001b[39mvalue\u001b[38;5;132;01m:\u001b[39;00m\u001b[38;5;124m02\u001b[39m\u001b[38;5;132;01m}\u001b[39;00m\u001b[38;5;124m\"\u001b[39m)\n\u001b[1;32m     13\u001b[0m         \u001b[38;5;28mself\u001b[39m\u001b[38;5;241m.\u001b[39mprintTree_helper(node\u001b[38;5;241m.\u001b[39mright, level \u001b[38;5;241m+\u001b[39m \u001b[38;5;241m1\u001b[39m)\n",
      "\u001b[0;31mAttributeError\u001b[0m: 'int' object has no attribute 'left'"
     ]
    }
   ],
   "source": [
    "n.printTree() "
   ]
  },
  {
   "cell_type": "markdown",
   "id": "26cbe87d",
   "metadata": {},
   "source": [
    "comments:\n",
    "- The method above will not work because it is iteratively trying to create the Node on the fly.\n",
    "- There is no way to reference the left and right node, since the input is an integer. Your input needs to also be a Node\n",
    "- This means that we dont have a simple method to check that the index is out of range"
   ]
  },
  {
   "cell_type": "code",
   "execution_count": 15,
   "id": "64d0e24e",
   "metadata": {},
   "outputs": [
    {
     "data": {
      "text/plain": [
       "node:3, left: 9, right: 20"
      ]
     },
     "execution_count": 15,
     "metadata": {},
     "output_type": "execute_result"
    }
   ],
   "source": [
    "def construct_tree(input_list: List) -> Node:\n",
    "    def inner(index):\n",
    "        if index > len(input_list) or input_list[index] is None:\n",
    "            return None\n",
    "        root = Node(input_list[index])\n",
    "        root.left = inner(index*2+1)\n",
    "        root.right = inner(index*2+2)\n",
    "        return root\n",
    "    return inner(0)\n",
    "construct_tree(input_list)"
   ]
  },
  {
   "cell_type": "markdown",
   "id": "2eb2db9e",
   "metadata": {},
   "source": [
    "- We can see that this simplistic way of printing the tree is not good.\n",
    "- A better way is the following"
   ]
  },
  {
   "cell_type": "code",
   "execution_count": 53,
   "id": "5dfc3b69",
   "metadata": {},
   "outputs": [],
   "source": [
    "class Node:\n",
    "    def __init__(self, value, left=None, right=None):\n",
    "        self.value = value\n",
    "        self.left = left\n",
    "        self.right = right\n",
    "        \n",
    "    def __repr__(self):\n",
    "        return f'node:{self.value}, left: {self.left}, right: {self.right}'\n",
    "    \n",
    "    def printTree_helper(self, node, level=0):\n",
    "        if node != None:\n",
    "            self.printTree_helper(node.left, level + 1)\n",
    "            print(f\"{' ' * 4 * level} -> {node.value:02}\")\n",
    "            self.printTree_helper(node.right, level + 1)\n",
    "        \n",
    "    def printTree(self):\n",
    "        return self.printTree_helper(self, 0)\n",
    "    \n",
    "    def __str__(self) -> str:\n",
    "        return str(self.value)\n",
    "    \n",
    "def construct_tree(input_list: List) -> Node:\n",
    "    def inner(index):\n",
    "        if index > len(input_list) or input_list[index] is None:\n",
    "            return None\n",
    "        root = Node(input_list[index])\n",
    "        root.left = inner(index*2+1)\n",
    "        root.right = inner(index*2+2)\n",
    "        return root\n",
    "    return inner(0)\n",
    "\n",
    "root = construct_tree(input_list)"
   ]
  },
  {
   "cell_type": "markdown",
   "id": "c5af4ba0",
   "metadata": {},
   "source": [
    "### Time complexity\n",
    "- The time complexity of this algorithm is O(N), we make N/2 recursive inner() calls because inner() will only be called when the index is in range of our input list(constructing our root.left and root.right accesses 3 elements per inner function call) "
   ]
  },
  {
   "cell_type": "code",
   "execution_count": 44,
   "id": "c581f701",
   "metadata": {},
   "outputs": [
    {
     "name": "stdout",
     "output_type": "stream",
     "text": [
      "     -> 09\n",
      " -> 03\n",
      "         -> 15\n",
      "     -> 20\n",
      "         -> 07\n"
     ]
    }
   ],
   "source": [
    "root.printTree()"
   ]
  },
  {
   "cell_type": "markdown",
   "id": "bd75ba16",
   "metadata": {},
   "source": [
    "# How to determine if a tree is balanced\n",
    "- https://leetcode.com/problems/balanced-binary-tree/description/"
   ]
  },
  {
   "cell_type": "code",
   "execution_count": 67,
   "id": "a291c70c",
   "metadata": {},
   "outputs": [
    {
     "data": {
      "text/plain": [
       "True"
      ]
     },
     "execution_count": 67,
     "metadata": {},
     "output_type": "execute_result"
    }
   ],
   "source": [
    "# find depth of a node\n",
    "def depth(node):\n",
    "    if node is None:\n",
    "        return 0\n",
    "    return max(depth(node.left), depth(node.right)) + 1\n",
    "    \n",
    "def isBalanced(node):\n",
    "    if not node:\n",
    "        return True\n",
    "    left_depth = depth(node.left)\n",
    "    right_depth = depth(node.right)\n",
    "    return (abs(left_depth - right_depth) <= 1) & isBalanced(node.left)\\\n",
    "            & isBalanced(node.right)\n",
    "\n",
    "isBalanced(root)"
   ]
  },
  {
   "cell_type": "markdown",
   "id": "0cb4b8b8",
   "metadata": {},
   "source": [
    "# Time complexity\n",
    "- Time complexity is O(N^2). This is because make N isBalanced() function call since we check if the root, left and right node is balanced. \n",
    "- In each isBalanced() function call, we get the depth of its left and right node which is O(N) because traversing both left and right means that we are traversing the entire node.\n",
    "    - TLDR: each isBalanced() call is O(N)\n",
    "-  If we call isBalanced() on each of the N elements, time complexity will be O(N^2)"
   ]
  },
  {
   "cell_type": "code",
   "execution_count": null,
   "id": "2ba9ed92",
   "metadata": {},
   "outputs": [],
   "source": []
  },
  {
   "cell_type": "markdown",
   "id": "c4e72e7d",
   "metadata": {},
   "source": [
    "# Better solution\n",
    "- A better solution will be to make use of the definition of binary search tree\n",
    "- We can just make use of the DFS method"
   ]
  },
  {
   "cell_type": "code",
   "execution_count": 54,
   "id": "9b35d9d5",
   "metadata": {},
   "outputs": [
    {
     "data": {
      "text/plain": [
       "node:3, left: 9, right: 20"
      ]
     },
     "execution_count": 54,
     "metadata": {},
     "output_type": "execute_result"
    }
   ],
   "source": [
    "root"
   ]
  },
  {
   "cell_type": "code",
   "execution_count": 55,
   "id": "59c9bb62",
   "metadata": {},
   "outputs": [
    {
     "data": {
      "text/plain": [
       "node:9, left: None, right: None"
      ]
     },
     "execution_count": 55,
     "metadata": {},
     "output_type": "execute_result"
    }
   ],
   "source": [
    "root.left"
   ]
  },
  {
   "cell_type": "code",
   "execution_count": 56,
   "id": "e6bf15c8",
   "metadata": {},
   "outputs": [
    {
     "data": {
      "text/plain": [
       "node:20, left: 15, right: 7"
      ]
     },
     "execution_count": 56,
     "metadata": {},
     "output_type": "execute_result"
    }
   ],
   "source": [
    "root.right"
   ]
  },
  {
   "cell_type": "code",
   "execution_count": 58,
   "id": "246ddd2a",
   "metadata": {},
   "outputs": [
    {
     "data": {
      "text/plain": [
       "node:20, left: 15, right: 7"
      ]
     },
     "execution_count": 58,
     "metadata": {},
     "output_type": "execute_result"
    }
   ],
   "source": [
    "root.right"
   ]
  },
  {
   "cell_type": "code",
   "execution_count": 63,
   "id": "b3989a28",
   "metadata": {},
   "outputs": [
    {
     "name": "stdout",
     "output_type": "stream",
     "text": [
      "left_depth: 0\n",
      "right_depth: 0\n",
      "left_depth: 0\n",
      "right_depth: 1\n"
     ]
    },
    {
     "data": {
      "text/plain": [
       "2"
      ]
     },
     "execution_count": 63,
     "metadata": {},
     "output_type": "execute_result"
    }
   ],
   "source": [
    "# def dfs(node, level):\n",
    "#     if node is None:\n",
    "#         return 0\n",
    "    \n",
    "#     left_depth = dfs(node.left, level+1)\n",
    "#     right_depth = dfs(node.right, level+1)\n",
    "    \n",
    "#     print(f'left_depth: {left_depth}')\n",
    "#     print(f'right_depth: {right_depth}')\n",
    "    \n",
    "#     if (left_depth <0) or (right_depth < 0):\n",
    "#         return -1\n",
    "    \n",
    "#     if abs(left_depth - right_depth) > 1:\n",
    "#         return -1\n",
    "    \n",
    "#     return max(left_depth, right_depth) + 1\n",
    "\n",
    "def dfs(node):\n",
    "    if (node.left is None) or (node.right is None):\n",
    "        return 0\n",
    "    \n",
    "    left_depth = dfs(node.left)\n",
    "    right_depth = dfs(node.right)\n",
    "    \n",
    "    print(f'left_depth: {left_depth}')\n",
    "    print(f'right_depth: {right_depth}')\n",
    "    \n",
    "    if (left_depth <0) or (right_depth < 0):\n",
    "        return -1\n",
    "    \n",
    "    if abs(left_depth - right_depth) > 1:\n",
    "        return -1\n",
    "    \n",
    "    return max(left_depth, right_depth) + 1\n",
    "\n",
    "root = construct_tree(input_list)\n",
    "\n",
    "dfs(root)"
   ]
  },
  {
   "cell_type": "markdown",
   "id": "acdd35f1",
   "metadata": {},
   "source": [
    "# Time complexity\n",
    "- In this more efficient version, time complexity is O(N). This is because we are only calling depth() for each node Once"
   ]
  }
 ],
 "metadata": {
  "kernelspec": {
   "display_name": "Python 3 (ipykernel)",
   "language": "python",
   "name": "python3"
  },
  "language_info": {
   "codemirror_mode": {
    "name": "ipython",
    "version": 3
   },
   "file_extension": ".py",
   "mimetype": "text/x-python",
   "name": "python",
   "nbconvert_exporter": "python",
   "pygments_lexer": "ipython3",
   "version": "3.11.3"
  }
 },
 "nbformat": 4,
 "nbformat_minor": 5
}
