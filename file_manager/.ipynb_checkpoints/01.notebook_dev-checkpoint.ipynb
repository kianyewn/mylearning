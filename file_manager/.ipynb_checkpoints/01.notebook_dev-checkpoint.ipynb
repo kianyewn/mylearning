{
 "cells": [
  {
   "cell_type": "markdown",
   "id": "fe792b7a",
   "metadata": {},
   "source": [
    "# glob.glob"
   ]
  },
  {
   "cell_type": "markdown",
   "id": "3d6f996e",
   "metadata": {},
   "source": [
    "The function `glob.glob(os.path.join(source_dir, f\"**/*{ext}\"), recursive=True)` will return a list of file paths that match the specified pattern. It will return all files in the source directory (`source_dir`) and its subdirectories that have the specified file extension (`ext`).\n",
    "\n",
    "If there are subdirectories within the source directory, the function will also search within those subdirectories recursively. It means that files in nested subdirectories will be included in the returned list if they have the specified file extension.\n",
    "\n",
    "For example, let's say you have the following directory structure:\n",
    "\n",
    "```\n",
    "source_dir/\n",
    "├── file1.txt\n",
    "├── subdirectory1/\n",
    "│   ├── file2.txt\n",
    "│   └── subdirectory2/\n",
    "│       └── file3.txt\n",
    "└── subdirectory3/\n",
    "    └── file4.txt\n",
    "```\n",
    "\n",
    "If you use `glob.glob(os.path.join(source_dir, f\"**/*txt\"), recursive=True)`, it will return a list containing the file paths for `file1.txt`, `subdirectory1/file2.txt`, `subdirectory1/subdirectory2/file3.txt`, and `subdirectory3/file4.txt`. It includes all the files with the `.txt` extension in the source directory and its subdirectories, including nested subdirectories.\n",
    "\n",
    "So, to summarize, the function returns all files in the source directory and its subdirectories that match the specified file extension."
   ]
  },
  {
   "cell_type": "code",
   "execution_count": 3,
   "id": "641d0d5a",
   "metadata": {},
   "outputs": [],
   "source": [
    "## Exmaple from privateGPT\n",
    "import os\n",
    "import glob\n",
    "from typing import List\n",
    "\n",
    "## good use of a dictonary as a factory\n",
    "\n",
    "# Map file extensions to document loaders and their arguments\n",
    "LOADER_MAPPING = {\n",
    "    \".csv\": (CSVLoader, {}),\n",
    "    # \".docx\": (Docx2txtLoader, {}),\n",
    "    \".docx\": (UnstructuredWordDocumentLoader, {}),\n",
    "    \".enex\": (EverNoteLoader, {}),\n",
    "    \".eml\": (UnstructuredEmailLoader, {}),\n",
    "    \".epub\": (UnstructuredEPubLoader, {}),\n",
    "    \".html\": (UnstructuredHTMLLoader, {}),\n",
    "    \".md\": (UnstructuredMarkdownLoader, {}),\n",
    "    \".odt\": (UnstructuredODTLoader, {}),\n",
    "    \".pdf\": (PDFMinerLoader, {}),\n",
    "    \".pptx\": (UnstructuredPowerPointLoader, {}),\n",
    "    \".txt\": (TextLoader, {\"encoding\": \"utf8\"}),\n",
    "    # Add more mappings for other file extensions and loaders as needed\n",
    "}\n",
    "class Document:\n",
    "    hi = 2 \n",
    "def load_documents(source_dir: str) -> List[Document]:\n",
    "    \"\"\"\n",
    "    Search for all the files in the source_directory with the file extension.\n",
    "    Retur\n",
    "    \"\"\"\n",
    "    # Loads all documents from source documents directory\n",
    "    all_files = []\n",
    "    for ext in LOADER_MAPPING:\n",
    "        \n",
    "        \n",
    "        all_files.extend(\n",
    "            glob.glob(os.path.join(source_dir, f\"**/*{ext}\"), recursive=True)\n",
    "        )\n",
    "    return all_files # [load_single_document(file_path) for file_path in all_files]\n",
    "\n",
    "\n",
    "## compare this with load a single document\n",
    "\n",
    "def load_single_document(file_path: str) -> Document:\n",
    "    ext = \".\" + file_path.rsplit(\".\", 1)[-1]\n",
    "    if ext in LOADER_MAPPING:\n",
    "        loader_class, loader_args = LOADER_MAPPING[ext]\n",
    "        loader = loader_class(file_path, **loader_args)\n",
    "        return loader.load()[0]\n",
    "\n",
    "    raise ValueError(f\"Unsupported file extension '{ext}'\")"
   ]
  }
 ],
 "metadata": {
  "kernelspec": {
   "display_name": "Python 3 (ipykernel)",
   "language": "python",
   "name": "python3"
  },
  "language_info": {
   "codemirror_mode": {
    "name": "ipython",
    "version": 3
   },
   "file_extension": ".py",
   "mimetype": "text/x-python",
   "name": "python",
   "nbconvert_exporter": "python",
   "pygments_lexer": "ipython3",
   "version": "3.9.6"
  }
 },
 "nbformat": 4,
 "nbformat_minor": 5
}
