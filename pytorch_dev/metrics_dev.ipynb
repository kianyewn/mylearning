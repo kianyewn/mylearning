{
 "cells": [
  {
   "cell_type": "code",
   "execution_count": 3,
   "id": "0752fed8",
   "metadata": {},
   "outputs": [],
   "source": [
    "import numpy as np\n",
    "import pandas as pd\n",
    "import matplotlib.pyplot as plt\n",
    "%matplotlib inline"
   ]
  },
  {
   "cell_type": "code",
   "execution_count": 6,
   "id": "316a2808",
   "metadata": {},
   "outputs": [
    {
     "data": {
      "text/html": [
       "<div>\n",
       "<style scoped>\n",
       "    .dataframe tbody tr th:only-of-type {\n",
       "        vertical-align: middle;\n",
       "    }\n",
       "\n",
       "    .dataframe tbody tr th {\n",
       "        vertical-align: top;\n",
       "    }\n",
       "\n",
       "    .dataframe thead th {\n",
       "        text-align: right;\n",
       "    }\n",
       "</style>\n",
       "<table border=\"1\" class=\"dataframe\">\n",
       "  <thead>\n",
       "    <tr style=\"text-align: right;\">\n",
       "      <th></th>\n",
       "      <th>PassengerId</th>\n",
       "      <th>Survived</th>\n",
       "      <th>Pclass</th>\n",
       "      <th>Name</th>\n",
       "      <th>Sex</th>\n",
       "      <th>Age</th>\n",
       "      <th>SibSp</th>\n",
       "      <th>Parch</th>\n",
       "      <th>Ticket</th>\n",
       "      <th>Fare</th>\n",
       "      <th>Cabin</th>\n",
       "      <th>Embarked</th>\n",
       "    </tr>\n",
       "  </thead>\n",
       "  <tbody>\n",
       "    <tr>\n",
       "      <th>0</th>\n",
       "      <td>1</td>\n",
       "      <td>0</td>\n",
       "      <td>3</td>\n",
       "      <td>Braund, Mr. Owen Harris</td>\n",
       "      <td>male</td>\n",
       "      <td>22.0</td>\n",
       "      <td>1</td>\n",
       "      <td>0</td>\n",
       "      <td>A/5 21171</td>\n",
       "      <td>7.2500</td>\n",
       "      <td>NaN</td>\n",
       "      <td>S</td>\n",
       "    </tr>\n",
       "    <tr>\n",
       "      <th>1</th>\n",
       "      <td>2</td>\n",
       "      <td>1</td>\n",
       "      <td>1</td>\n",
       "      <td>Cumings, Mrs. John Bradley (Florence Briggs Th...</td>\n",
       "      <td>female</td>\n",
       "      <td>38.0</td>\n",
       "      <td>1</td>\n",
       "      <td>0</td>\n",
       "      <td>PC 17599</td>\n",
       "      <td>71.2833</td>\n",
       "      <td>C85</td>\n",
       "      <td>C</td>\n",
       "    </tr>\n",
       "    <tr>\n",
       "      <th>2</th>\n",
       "      <td>3</td>\n",
       "      <td>1</td>\n",
       "      <td>3</td>\n",
       "      <td>Heikkinen, Miss. Laina</td>\n",
       "      <td>female</td>\n",
       "      <td>26.0</td>\n",
       "      <td>0</td>\n",
       "      <td>0</td>\n",
       "      <td>STON/O2. 3101282</td>\n",
       "      <td>7.9250</td>\n",
       "      <td>NaN</td>\n",
       "      <td>S</td>\n",
       "    </tr>\n",
       "    <tr>\n",
       "      <th>3</th>\n",
       "      <td>4</td>\n",
       "      <td>1</td>\n",
       "      <td>1</td>\n",
       "      <td>Futrelle, Mrs. Jacques Heath (Lily May Peel)</td>\n",
       "      <td>female</td>\n",
       "      <td>35.0</td>\n",
       "      <td>1</td>\n",
       "      <td>0</td>\n",
       "      <td>113803</td>\n",
       "      <td>53.1000</td>\n",
       "      <td>C123</td>\n",
       "      <td>S</td>\n",
       "    </tr>\n",
       "    <tr>\n",
       "      <th>4</th>\n",
       "      <td>5</td>\n",
       "      <td>0</td>\n",
       "      <td>3</td>\n",
       "      <td>Allen, Mr. William Henry</td>\n",
       "      <td>male</td>\n",
       "      <td>35.0</td>\n",
       "      <td>0</td>\n",
       "      <td>0</td>\n",
       "      <td>373450</td>\n",
       "      <td>8.0500</td>\n",
       "      <td>NaN</td>\n",
       "      <td>S</td>\n",
       "    </tr>\n",
       "  </tbody>\n",
       "</table>\n",
       "</div>"
      ],
      "text/plain": [
       "   PassengerId  Survived  Pclass  \\\n",
       "0            1         0       3   \n",
       "1            2         1       1   \n",
       "2            3         1       3   \n",
       "3            4         1       1   \n",
       "4            5         0       3   \n",
       "\n",
       "                                                Name     Sex   Age  SibSp  \\\n",
       "0                            Braund, Mr. Owen Harris    male  22.0      1   \n",
       "1  Cumings, Mrs. John Bradley (Florence Briggs Th...  female  38.0      1   \n",
       "2                             Heikkinen, Miss. Laina  female  26.0      0   \n",
       "3       Futrelle, Mrs. Jacques Heath (Lily May Peel)  female  35.0      1   \n",
       "4                           Allen, Mr. William Henry    male  35.0      0   \n",
       "\n",
       "   Parch            Ticket     Fare Cabin Embarked  \n",
       "0      0         A/5 21171   7.2500   NaN        S  \n",
       "1      0          PC 17599  71.2833   C85        C  \n",
       "2      0  STON/O2. 3101282   7.9250   NaN        S  \n",
       "3      0            113803  53.1000  C123        S  \n",
       "4      0            373450   8.0500   NaN        S  "
      ]
     },
     "execution_count": 6,
     "metadata": {},
     "output_type": "execute_result"
    }
   ],
   "source": [
    "data = pd.read_csv('../data/train.csv')\n",
    "data.head()"
   ]
  },
  {
   "cell_type": "code",
   "execution_count": 12,
   "id": "4863d3af",
   "metadata": {},
   "outputs": [],
   "source": [
    "data['predicted_proba'] = np.random.rand(data.shape[0])"
   ]
  },
  {
   "cell_type": "code",
   "execution_count": 13,
   "id": "21d6f140",
   "metadata": {},
   "outputs": [
    {
     "data": {
      "text/plain": [
       "count    891.000000\n",
       "mean       0.506796\n",
       "std        0.292783\n",
       "min        0.000004\n",
       "25%        0.252300\n",
       "50%        0.520446\n",
       "75%        0.754618\n",
       "max        0.999992\n",
       "Name: predicted_proba, dtype: float64"
      ]
     },
     "execution_count": 13,
     "metadata": {},
     "output_type": "execute_result"
    }
   ],
   "source": [
    "data['predicted_proba'].describe()"
   ]
  },
  {
   "cell_type": "code",
   "execution_count": 29,
   "id": "5b32e49b",
   "metadata": {},
   "outputs": [],
   "source": [
    "label = 'Survived'\n",
    "threshold = 0.5\n",
    "data['predicted'] = data['predicted_proba'] > threshold"
   ]
  },
  {
   "cell_type": "markdown",
   "id": "3e7ba4bb",
   "metadata": {},
   "source": [
    "# Accuracy\n",
    "- $$ \\frac{tp + tn}{tp+tn+fn+fp}$$"
   ]
  },
  {
   "cell_type": "code",
   "execution_count": 104,
   "id": "21ffb413",
   "metadata": {},
   "outputs": [
    {
     "data": {
      "text/plain": [
       "0.49158249158249157"
      ]
     },
     "execution_count": 104,
     "metadata": {},
     "output_type": "execute_result"
    }
   ],
   "source": [
    "tp = ((data['predicted'] == 1) & (data[label] == 1)).sum()\n",
    "fp = ((data['predicted'] == 1) & (data[label] == 0)).sum()\n",
    "tn = ((data['predicted'] == 0) & (data[label] == 0)).sum()\n",
    "fn = ((data['predicted'] == 0) & (data[label] == 1)).sum()\n",
    "\n",
    "(tp+tn) / (tp+tn+fp+fn)"
   ]
  },
  {
   "cell_type": "code",
   "execution_count": 39,
   "id": "6b136f99",
   "metadata": {},
   "outputs": [
    {
     "data": {
      "text/plain": [
       "0.49158249158249157"
      ]
     },
     "execution_count": 39,
     "metadata": {},
     "output_type": "execute_result"
    }
   ],
   "source": [
    "acc = (data['predicted'] == data[label]).mean()\n",
    "acc"
   ]
  },
  {
   "cell_type": "code",
   "execution_count": 43,
   "id": "5bbe2576",
   "metadata": {},
   "outputs": [
    {
     "data": {
      "text/plain": [
       "0.49158249158249157"
      ]
     },
     "execution_count": 43,
     "metadata": {},
     "output_type": "execute_result"
    }
   ],
   "source": [
    "from sklearn.metrics import accuracy_score\n",
    "y_true = data[label]\n",
    "y_pred = data['predicted']\n",
    "accuracy_score(y_true, y_pred)"
   ]
  },
  {
   "cell_type": "markdown",
   "id": "9fc4b91a",
   "metadata": {},
   "source": [
    "# Recall\n",
    "- $$\\frac{tp}{tp+fn}$$"
   ]
  },
  {
   "cell_type": "code",
   "execution_count": 32,
   "id": "42c74379",
   "metadata": {},
   "outputs": [
    {
     "data": {
      "text/plain": [
       "0.5175438596491229"
      ]
     },
     "execution_count": 32,
     "metadata": {},
     "output_type": "execute_result"
    }
   ],
   "source": [
    "tp = ((data['predicted']==1) & (data[label]==1)).sum()\n",
    "fn = ((data['predicted']==0) & (data[label]==1)).sum()\n",
    "recall = tp / (tp+fn)\n",
    "recall"
   ]
  },
  {
   "cell_type": "code",
   "execution_count": 35,
   "id": "d95ddfa9",
   "metadata": {},
   "outputs": [
    {
     "data": {
      "text/plain": [
       "0.5175438596491229"
      ]
     },
     "execution_count": 35,
     "metadata": {},
     "output_type": "execute_result"
    }
   ],
   "source": [
    "from sklearn.metrics import recall_score\n",
    "y_true = data[label]\n",
    "y_pred = data['predicted']\n",
    "recall_score(y_true, y_pred)"
   ]
  },
  {
   "cell_type": "code",
   "execution_count": 50,
   "id": "96174bfd",
   "metadata": {},
   "outputs": [
    {
     "data": {
      "text/plain": [
       "0.5175438596491229"
      ]
     },
     "execution_count": 50,
     "metadata": {},
     "output_type": "execute_result"
    }
   ],
   "source": [
    "def recall(y_true, y_pred):\n",
    "    tp = ((y_true==1) & (y_pred==1)).sum()\n",
    "    fn = ((y_true==1) & (y_pred==0)).sum()\n",
    "    return tp / (tp+fn)\n",
    "recall(y_true, y_pred)"
   ]
  },
  {
   "cell_type": "markdown",
   "id": "42b03346",
   "metadata": {},
   "source": [
    "# Precision\n",
    "- $$\\frac{tp}{tp+fp}$$"
   ]
  },
  {
   "cell_type": "code",
   "execution_count": 28,
   "id": "c1cc33ff",
   "metadata": {},
   "outputs": [
    {
     "data": {
      "text/plain": [
       "0.38064516129032255"
      ]
     },
     "execution_count": 28,
     "metadata": {},
     "output_type": "execute_result"
    }
   ],
   "source": [
    "threshold = 0.5\n",
    "data['predicted'] = data['predicted_proba'] > threshold\n",
    "\n",
    "# tp = (data['predicted'] == data[label]).sum()\n",
    "tp = ((data['predicted']==1) & (data[label]==1)).sum()\n",
    "fp = ((data['predicted'] == 1) & (data[label] == 0)).sum()\n",
    "precision = tp / (tp+fp)\n",
    "precision"
   ]
  },
  {
   "cell_type": "code",
   "execution_count": 56,
   "id": "3605c8dc",
   "metadata": {},
   "outputs": [
    {
     "data": {
      "text/plain": [
       "0"
      ]
     },
     "execution_count": 56,
     "metadata": {},
     "output_type": "execute_result"
    }
   ],
   "source": [
    "def precision(y_true, y_pred):\n",
    "    tp = ((y_pred == 1) & (y_true==1)).sum()\n",
    "    fp = ((y_pred == 1) & (y_true==0)).sum()\n",
    "    \n",
    "    ## possible that there are no labels predicted as 1\n",
    "    if (tp+fp) == 0:\n",
    "        return 0\n",
    "    \n",
    "    return tp / (tp+fp)\n",
    "\n",
    "precision(y_true, y_pred)"
   ]
  },
  {
   "cell_type": "code",
   "execution_count": 25,
   "id": "40340a63",
   "metadata": {},
   "outputs": [
    {
     "data": {
      "text/plain": [
       "0.38064516129032255"
      ]
     },
     "execution_count": 25,
     "metadata": {},
     "output_type": "execute_result"
    }
   ],
   "source": [
    "from sklearn.metrics import precision_score\n",
    "\n",
    "y_true, y_pred = data[label], data['predicted'] \n",
    "precision_score(y_true, y_pred)"
   ]
  },
  {
   "cell_type": "markdown",
   "id": "f48145eb",
   "metadata": {},
   "source": [
    "# Precision and recall curve"
   ]
  },
  {
   "cell_type": "code",
   "execution_count": 69,
   "id": "74dbbe5e",
   "metadata": {
    "scrolled": false
   },
   "outputs": [
    {
     "data": {
      "image/png": "[encoded data removed]",
      "text/plain": [
       "<Figure size 640x480 with 1 Axes>"
      ]
     },
     "metadata": {},
     "output_type": "display_data"
    }
   ],
   "source": [
    "thresholds = np.linspace(start=0, stop = 1, num=100)\n",
    "recalls = []\n",
    "precisions = []\n",
    "for thresh in thresholds:\n",
    "    y_pred = data['predicted_proba'] > thresh\n",
    "    recall_score = recall(y_true, y_pred)\n",
    "    precision_score = precision(y_true, y_pred)\n",
    "    recalls.append(recall_score)\n",
    "    precisions.append(precision_score)\n",
    "\n",
    "plt.figure()\n",
    "plt.plot(thresholds, recalls, label='recall')\n",
    "plt.plot(thresholds, precisions, label='precision')\n",
    "plt.legend()\n",
    "plt.show()"
   ]
  },
  {
   "cell_type": "markdown",
   "id": "9432c91c",
   "metadata": {},
   "source": [
    "- Recall should decrease as thresholds increase, because it is harder for examples to be predicted as 1, therefore the number of False negatives willl increase\n",
    "- Precision should increase as threshold increase, because it is harder for examples to be predicted as 1, therefore the number of true positives will increase, false positives should decrease"
   ]
  },
  {
   "cell_type": "markdown",
   "id": "eae6f199",
   "metadata": {},
   "source": [
    "# F1 score\n",
    "- $$ \\frac{2P*R}{P+R}$$"
   ]
  },
  {
   "cell_type": "code",
   "execution_count": 71,
   "id": "1ae32e1a",
   "metadata": {},
   "outputs": [
    {
     "data": {
      "text/plain": [
       "0.43866171003717475"
      ]
     },
     "execution_count": 71,
     "metadata": {},
     "output_type": "execute_result"
    }
   ],
   "source": [
    "y_true = data[label]\n",
    "y_pred = data['predicted']\n",
    "precision_s = precision(y_true, y_pred)\n",
    "recall_s = recall(y_true, y_pred)\n",
    "f1_score = (2* precision_s * recall_s) / (recall_s + precision_s)\n",
    "f1_score"
   ]
  },
  {
   "cell_type": "code",
   "execution_count": 73,
   "id": "ed5fd844",
   "metadata": {},
   "outputs": [
    {
     "data": {
      "text/plain": [
       "0.43866171003717475"
      ]
     },
     "execution_count": 73,
     "metadata": {},
     "output_type": "execute_result"
    }
   ],
   "source": [
    "from sklearn.metrics import f1_score\n",
    "f1_score(y_true, y_pred)"
   ]
  },
  {
   "cell_type": "markdown",
   "id": "2139cf8d",
   "metadata": {},
   "source": [
    "# Other common naming conventions for recall and precision\n",
    "- True positive rate: Recall / Sensitivity\n",
    "- False positive rate: $$\\frac{fp}{tn + fp}$$ \n",
    "- (Note that this is not Precision)\n",
    "- True negative rate: $$1-fpr$$ or $$\\frac{tn}{tn+fp}$$\n",
    "- 1 - False positive rate: True negative rate / Specificity"
   ]
  },
  {
   "cell_type": "code",
   "execution_count": 76,
   "id": "3cd63d77",
   "metadata": {},
   "outputs": [
    {
     "data": {
      "text/plain": [
       "0.5175438596491229"
      ]
     },
     "execution_count": 76,
     "metadata": {},
     "output_type": "execute_result"
    }
   ],
   "source": [
    "tpr = recall(y_true, y_pred)\n",
    "tpr"
   ]
  },
  {
   "cell_type": "code",
   "execution_count": 83,
   "id": "8b859e05",
   "metadata": {},
   "outputs": [
    {
     "data": {
      "text/plain": [
       "0.5175438596491229"
      ]
     },
     "execution_count": 83,
     "metadata": {},
     "output_type": "execute_result"
    }
   ],
   "source": [
    "def true_positive_rate(y_true, y_pred):\n",
    "    return recall(y_true, y_pred)\n",
    "\n",
    "true_positive_rate(y_true, y_pred)"
   ]
  },
  {
   "cell_type": "code",
   "execution_count": 78,
   "id": "40f715a6",
   "metadata": {},
   "outputs": [
    {
     "data": {
      "text/plain": [
       "0.47540983606557374"
      ]
     },
     "execution_count": 78,
     "metadata": {},
     "output_type": "execute_result"
    }
   ],
   "source": [
    "# true negative rate\n",
    "tn = ((y_true==0) & (y_pred==0)).sum()\n",
    "fp = ((y_true==0) & (y_pred==1)).sum()\n",
    "tnr = tn / (tn+fp)\n",
    "tnr"
   ]
  },
  {
   "cell_type": "code",
   "execution_count": 80,
   "id": "b5f54d6b",
   "metadata": {},
   "outputs": [
    {
     "data": {
      "text/plain": [
       "0.5245901639344263"
      ]
     },
     "execution_count": 80,
     "metadata": {},
     "output_type": "execute_result"
    }
   ],
   "source": [
    "## false positive rate\n",
    "fpr = 1- tnr\n",
    "fpr"
   ]
  },
  {
   "cell_type": "code",
   "execution_count": 81,
   "id": "cb054b72",
   "metadata": {},
   "outputs": [
    {
     "data": {
      "text/plain": [
       "0.5245901639344263"
      ]
     },
     "execution_count": 81,
     "metadata": {},
     "output_type": "execute_result"
    }
   ],
   "source": [
    "# alternative calculation\n",
    "fpr = fp / (fp+tn)\n",
    "fpr"
   ]
  },
  {
   "cell_type": "code",
   "execution_count": 84,
   "id": "bf92a482",
   "metadata": {},
   "outputs": [
    {
     "data": {
      "text/plain": [
       "0.5245901639344263"
      ]
     },
     "execution_count": 84,
     "metadata": {},
     "output_type": "execute_result"
    }
   ],
   "source": [
    "def false_positive_rate(y_true, y_pred):\n",
    "    fp = ((y_true==0) & (y_pred==1)).sum()\n",
    "    tn = ((y_true==0) & (y_pred==0)).sum()\n",
    "    return fp / (fp + tn)\n",
    "false_positive_rate(y_true, y_pred)"
   ]
  },
  {
   "cell_type": "markdown",
   "id": "002ab3a1",
   "metadata": {},
   "source": [
    "# AUC ROC "
   ]
  },
  {
   "cell_type": "code",
   "execution_count": 94,
   "id": "9c08ac04",
   "metadata": {},
   "outputs": [
    {
     "data": {
      "text/plain": [
       "<matplotlib.collections.PolyCollection at 0x283ac8ad0>"
      ]
     },
     "execution_count": 94,
     "metadata": {},
     "output_type": "execute_result"
    },
    {
     "data": {
      "image/png": "[encoded data removed]",
      "text/plain": [
       "<Figure size 640x480 with 1 Axes>"
      ]
     },
     "metadata": {},
     "output_type": "display_data"
    }
   ],
   "source": [
    "thresholds = np.linspace(start=0, stop=1, num=100)\n",
    "tpr_s = []\n",
    "fpr_s = []\n",
    "for thresh in thresholds:\n",
    "    y_pred = data['predicted_proba'] > thresh\n",
    "    tpr = true_positive_rate(y_true, y_pred)\n",
    "    fpr = false_positive_rate(y_true, y_pred)\n",
    "    tpr_s.append(tpr)\n",
    "    fpr_s.append(fpr)\n",
    "plt.figure()\n",
    "plt.plot(fpr_s, tpr_s, label='auc_roc')\n",
    "plt.fill_between(fpr_s,tpr_s,alpha=0.2)"
   ]
  },
  {
   "cell_type": "code",
   "execution_count": 91,
   "id": "a6f6554b",
   "metadata": {},
   "outputs": [
    {
     "data": {
      "text/plain": [
       "0.5"
      ]
     },
     "execution_count": 91,
     "metadata": {},
     "output_type": "execute_result"
    }
   ],
   "source": [
    "from sklearn.metrics import roc_auc_score\n",
    "roc_auc_score(y_true, y_pred)"
   ]
  },
  {
   "cell_type": "markdown",
   "id": "01f5fccb",
   "metadata": {},
   "source": [
    "# LogLoss\n",
    "- $$ LogLoss=-1.0 * (target *log(prediction) + (1- target) * log(1-prediction))$$\n",
    "- Thus, our implementation is correct. Implementation of log loss is easy.\n",
    "Interpretation may seem a bit difficult. You must remember that log loss penalizes\n",
    "a lot more than other metrics"
   ]
  },
  {
   "cell_type": "code",
   "execution_count": 97,
   "id": "30583140",
   "metadata": {},
   "outputs": [
    {
     "data": {
      "text/plain": [
       "1.050170499195288"
      ]
     },
     "execution_count": 97,
     "metadata": {},
     "output_type": "execute_result"
    }
   ],
   "source": [
    "target = y_true\n",
    "prediction = data['predicted_proba']\n",
    "log_loss = -1 * (target * np.log(prediction) + (1-target) * np.log(1-prediction)).mean()\n",
    "log_loss"
   ]
  },
  {
   "cell_type": "code",
   "execution_count": 102,
   "id": "6543197a",
   "metadata": {},
   "outputs": [
    {
     "data": {
      "text/plain": [
       "1.050170499195288"
      ]
     },
     "execution_count": 102,
     "metadata": {},
     "output_type": "execute_result"
    }
   ],
   "source": [
    "from sklearn.metrics import log_loss\n",
    "log_loss(target, prediction)"
   ]
  },
  {
   "cell_type": "code",
   "execution_count": 99,
   "id": "ada41ea2",
   "metadata": {},
   "outputs": [],
   "source": [
    "def log_loss(y_true, y_pred):\n",
    "    log_loss = -1 * (y_true * np.log(y_pred) + (1- y_true) * np.log(1-y_pred)).mean()\n",
    "    return log_loss"
   ]
  },
  {
   "cell_type": "code",
   "execution_count": 101,
   "id": "4a397182",
   "metadata": {},
   "outputs": [
    {
     "data": {
      "text/plain": [
       "0.49882711861432294"
      ]
     },
     "execution_count": 101,
     "metadata": {},
     "output_type": "execute_result"
    }
   ],
   "source": [
    "y_true = np.array([0, 0, 0, 0, 1, 0, 1, 0, 0, 1, 0, 1, 0, 0, 1])\n",
    "y_proba = np.array([0.1, 0.3, 0.2, 0.6, 0.8, 0.05, 0.9, 0.5, 0.3, 0.66, 0.3, 0.2, 0.85, 0.15, 0.99])\n",
    "log_loss(y_true, y_proba)"
   ]
  },
  {
   "cell_type": "markdown",
   "id": "2572c36e",
   "metadata": {},
   "source": [
    "# Multi class classification metrics"
   ]
  }
 ],
 "metadata": {
  "kernelspec": {
   "display_name": "Python 3 (ipykernel)",
   "language": "python",
   "name": "python3"
  },
  "language_info": {
   "codemirror_mode": {
    "name": "ipython",
    "version": 3
   },
   "file_extension": ".py",
   "mimetype": "text/x-python",
   "name": "python",
   "nbconvert_exporter": "python",
   "pygments_lexer": "ipython3",
   "version": "3.11.3"
  }
 },
 "nbformat": 4,
 "nbformat_minor": 5
}
