{
 "cells": [
  {
   "cell_type": "markdown",
   "id": "1108d461",
   "metadata": {},
   "source": [
    "nano gpt by Andrej Karparthy"
   ]
  },
  {
   "cell_type": "markdown",
   "id": "739f5f78",
   "metadata": {},
   "source": [
    "# Steps\n",
    "1. Encode all the text first and then create the train and test\n",
    "2. batch Sample from each dataset, where targets are inputs shifted backwards by timestep = 1 \n",
    "    - input: [1,2,3,4,5]\n",
    "    - output: [2,3,4,5]\n",
    "3. Create bigram model, where logits are the output from the embedding layer\n",
    "4. Create optimizer, train and evaluate the batch\n",
    "5. Generate outputs\n",
    "    - Start with context of size = (1,1) for a certain max"
   ]
  },
  {
   "cell_type": "code",
   "execution_count": 4,
   "id": "f25c09af",
   "metadata": {},
   "outputs": [],
   "source": [
    "import torch\n",
    "import torch.nn as nn\n",
    "from torch.nn import functional as F\n",
    "\n",
    "# hyperparameters\n",
    "batch_size = 32 # how many independent sequences will we process in parallel?\n",
    "block_size = 8 # what is the maximum context length for predictions?\n",
    "max_iters = 3000\n",
    "eval_interval = 300\n",
    "learning_rate = 1e-2\n",
    "device = 'cuda' if torch.cuda.is_available() else 'cpu'\n",
    "eval_iters = 200\n",
    "# ------------\n",
    "\n",
    "torch.manual_seed(1337)\n",
    "\n",
    "# wget https://raw.githubusercontent.com/karpathy/char-rnn/master/data/tinyshakespeare/input.txt\n",
    "with open('ng-video-lecture/input.txt', 'r', encoding='utf-8') as f:\n",
    "    text = f.read()\n",
    "\n",
    "# here are all the unique characters that occur in this text\n",
    "chars = sorted(list(set(text)))\n",
    "vocab_size = len(chars)\n",
    "# create a mapping from characters to integers\n",
    "stoi = { ch:i for i,ch in enumerate(chars) }\n",
    "itos = { i:ch for i,ch in enumerate(chars) }\n",
    "encode = lambda s: [stoi[c] for c in s] # encoder: take a string, output a list of integers\n",
    "decode = lambda l: ''.join([itos[i] for i in l]) # decoder: take a list of integers, output a string\n",
    "\n",
    "# Train and test splits\n",
    "data = torch.tensor(encode(text), dtype=torch.long)\n",
    "n = int(0.9*len(data)) # first 90% will be train, rest val\n",
    "train_data = data[:n]\n",
    "val_data = data[n:]"
   ]
  },
  {
   "cell_type": "code",
   "execution_count": 29,
   "id": "63ca2109",
   "metadata": {},
   "outputs": [],
   "source": [
    "batch_size = 32\n",
    "block_size = 8\n",
    "\n",
    "def get_batch(split):\n",
    "    data = train_data if split == 'train' else val_data\n",
    "    ix = torch.randint(len(data)-block_size, (batch_size,))\n",
    "    xs = torch.stack([data[i: i + block_size] for i in ix])\n",
    "    ys = torch.stack([data[i+1: i + block_size +1] for i in ix])\n",
    "    return xs, ys\n",
    "\n",
    "train_batch = get_batch('train')"
   ]
  },
  {
   "cell_type": "code",
   "execution_count": 23,
   "id": "7a40088a",
   "metadata": {},
   "outputs": [],
   "source": [
    "def estimate_loss():\n",
    "    out = {}\n",
    "    model.eval()\n",
    "    for split in ['train', 'val']:\n",
    "        losses = torch.zeros(eval_iters)\n",
    "        for k in range(eval_iters):\n",
    "            x, y = get_batch(split)\n",
    "            logits, loss = model(x, y)\n",
    "            losses[k] = loss.item()\n",
    "        out[split] = losses.mean()\n",
    "    model.train()\n",
    "    return out"
   ]
  },
  {
   "cell_type": "code",
   "execution_count": 46,
   "id": "c054ef60",
   "metadata": {},
   "outputs": [
    {
     "name": "stdout",
     "output_type": "stream",
     "text": [
      "Step 0: train loss 4.609667, val loss 4.624401\n",
      "Step 300: train loss 4.607289, val loss 4.617493\n",
      "Step 600: train loss 4.592505, val loss 4.600222\n",
      "Step 900: train loss 4.585400, val loss 4.595136\n",
      "Step 1200: train loss 4.569260, val loss 4.582810\n",
      "Step 1500: train loss 4.566514, val loss 4.564946\n",
      "Step 1800: train loss 4.539031, val loss 4.546776\n",
      "Step 2100: train loss 4.532931, val loss 4.552556\n",
      "Step 2400: train loss 4.522796, val loss 4.531307\n",
      "Step 2700: train loss 4.513802, val loss 4.521536\n"
     ]
    }
   ],
   "source": [
    "class BigramLanguageModel(nn.Module):\n",
    "    def __init__(self, vocab_size):\n",
    "        super().__init__()\n",
    "        self.vocab_size = vocab_size\n",
    "        self.embedding = nn.Embedding(vocab_size, vocab_size)\n",
    "    def forward(self, x, target=None):\n",
    "        B, T = x.shape\n",
    "        logits = self.embedding(x) \n",
    "        # do not do this because we want to get the original logits during inference\n",
    "#         logits = embedding_out.view(B * T, -1) # (B * T , C)\n",
    "        \n",
    "        if target is None:\n",
    "            loss = None\n",
    "        else:\n",
    "            logits = logits.view(B * T, -1)\n",
    "#             target = target.view(-1, 1) # (B*T, 1)\n",
    "            target = target.view(-1)\n",
    "            loss = F.cross_entropy(logits, target)\n",
    "        return logits, loss\n",
    "    \n",
    "model = BigramLanguageModel(vocab_size)\n",
    "# logit, loss = bgm(train_batch[0])\n",
    "\n",
    "optimizer = torch.optim.AdamW(model.parameters(), lr=learning_rate)\n",
    "for it in range(max_iters):\n",
    "    if it % eval_interval == 0:\n",
    "        losses = estimate_loss()\n",
    "        print(f\"Step {it}: train loss {losses['train']:4f}, val loss {losses['val']:4f}\")\n",
    "        \n",
    "        xb, yb = get_batch('train')\n",
    "        \n",
    "        logits, loss = model(xb, yb)\n",
    "        optimizer.zero_grad()\n",
    "        loss.backward()\n",
    "        optimizer.step()"
   ]
  },
  {
   "cell_type": "code",
   "execution_count": 68,
   "id": "e02c19ae",
   "metadata": {},
   "outputs": [
    {
     "data": {
      "text/plain": [
       "'\\n;v$ebjJmslGQWJWwEYWAZTuGIT-UQ!lqClGQ:OmM:zMxW,ZRlWMdxaGOdVMG!mlZUi qJvrrSBjELP-aTjc&YwEUzvY\\nVccV-\\n?LyFne3sUddVjVaZaaa&MKrbg-YwuLsanAj wkkp-U$,kd\\nT-UyIsIxF LJj TySyQH:t KNqeLWWSE?G:t\\neXW,pTt?DmMfRKe,SuDVpLKeDEvNKPHanPMfV.GkXHDcPzPqqqvu$WMdVUOVpIlEnTpddSuVv$WxHyp FH,kAM:pOVwKcsSgtHjrAZqStbkpVnvztvJlqdsuy!PUwusfMBcF.$WdA.KgtvZldSLndDrt!Xv$WW:qdWmWDOv$FxggtnSELooXub$:koBgAmyFrRHv$:O aZW pI-mstiYwD?aikaH,p-vzP-hlEnfYC!mHDdKPC\\nBuHFqqmPMMxcgN!rSp.hPlWS!gmWSupBE-eIaBlErSuWleF!F\\nRGDZCd.Z\\n?oHbyfL!DLlEPzZh'"
      ]
     },
     "execution_count": 68,
     "metadata": {},
     "output_type": "execute_result"
    }
   ],
   "source": [
    "def generate(idx, max_new_tokens):\n",
    "    for _ in range(max_new_tokens):\n",
    "        logits, loss = model(idx)\n",
    "        logit = logits[:,-1,:] # get last timestep, (B, C)\n",
    "        probs = torch.softmax(logit, dim=-1)  # (B, C)\n",
    "        idx_next = torch.multinomial(probs, num_samples=1)\n",
    "        idx = torch.cat([idx, idx_next], dim=1)\n",
    "    return idx\n",
    "\n",
    "idx = torch.zeros((1,1), dtype = torch.long)\n",
    "sample = generate(idx, 500)\n",
    "decode(sample[0].tolist())"
   ]
  }
 ],
 "metadata": {
  "kernelspec": {
   "display_name": "Python 3 (ipykernel)",
   "language": "python",
   "name": "python3"
  },
  "language_info": {
   "codemirror_mode": {
    "name": "ipython",
    "version": 3
   },
   "file_extension": ".py",
   "mimetype": "text/x-python",
   "name": "python",
   "nbconvert_exporter": "python",
   "pygments_lexer": "ipython3",
   "version": "3.11.3"
  }
 },
 "nbformat": 4,
 "nbformat_minor": 5
}
