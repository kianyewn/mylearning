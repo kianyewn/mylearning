{
 "cells": [
  {
   "cell_type": "code",
   "execution_count": 1,
   "id": "540ae509",
   "metadata": {},
   "outputs": [],
   "source": [
    "import numpy as np"
   ]
  },
  {
   "cell_type": "markdown",
   "id": "98abde95",
   "metadata": {},
   "source": [
    "resource: https://github.com/rougier/numpy-100/tree/master\n",
    "- Note that because the goal is to improve my skills in numpy for deep learning, only selected exercises which I think will be useful are done in this notebook"
   ]
  },
  {
   "cell_type": "markdown",
   "id": "7fdf5cef",
   "metadata": {},
   "source": [
    "#### 4. How to find the memory size of any array (★☆☆) "
   ]
  },
  {
   "cell_type": "code",
   "execution_count": 43,
   "id": "53ce06a7",
   "metadata": {},
   "outputs": [
    {
     "name": "stdout",
     "output_type": "stream",
     "text": [
      "800 bytes\n",
      "megabytes (Mb): 0.0008\n"
     ]
    }
   ],
   "source": [
    "#### 4. How to find the memory size of any array (★☆☆)\n",
    "\n",
    "Z = np.zeros((10,10))\n",
    "# float and integers are 8 bytes\n",
    "# string\n",
    "print(\"%d bytes\" % (Z.size * Z.itemsize))\n",
    "# alternatively\n",
    "z_bytes = Z.nbytes\n",
    "print(f'megabytes (Mb): {(Z.size * Z.itemsize) / 1e6}')"
   ]
  },
  {
   "cell_type": "code",
   "execution_count": 177,
   "id": "91dac325",
   "metadata": {},
   "outputs": [],
   "source": [
    "# each value in double is 8 bytes\n",
    "assert np.double(2).itemsize == 8\n",
    "\n",
    "# float32 is 4 bytes each\n",
    "assert np.float32(2).itemsize == 4\n",
    "\n",
    "# flaot64 is 8 bytes each\n",
    "assert np.float64(2).itemsize == 8\n",
    "\n",
    "# each character in string contains 4 bytes\n",
    "assert np.str_('4').itemsize == 4\n",
    "assert np.str_('42').itemsize == 8\n",
    "assert np.str_('423').itemsize == 12\n",
    "\n",
    "# empty list if 8 bytes\n",
    "assert np.array([]).itemsize == 8\n",
    "\n",
    "# Get the entire item size of a list\n",
    "a1 = np.array(['a','b','c'])\n",
    "assert a1.itemsize * a1.size == 3 * 4 == 12\n",
    "\n",
    "# # if different datatype in list, the bytes are not simple addition\n",
    "a2 = np.array(['s',np.float32(4)]) \n",
    "assert a2.itemsize * a2.size != 4 + 4 \n",
    "assert a2.itemsize * a2.size == 256 # not sure what is the calculation\n",
    "# instead of calculating the byte size using `.itemsize` and `.size`, can use .nbytes\n",
    "assert a2.nbytes == 256\n",
    "\n",
    "\n",
    "# Use this if want the size of the numerical elements plus the whole reference machinery\n",
    "# Else use itemsize\n",
    "# b.__sizeof__() is equivalent to sys.getsizeof(b)\n",
    "import sys\n",
    "assert sys.getsizeof(a2) == a2.__sizeof__()\n",
    "\n",
    "\n",
    "# Size of an numpy array\n",
    "a3 = np.random.randn(2,3) # dtype == np.float64\n",
    "assert a3.nbytes == 2 * 3 * 8 == 48"
   ]
  },
  {
   "cell_type": "code",
   "execution_count": 329,
   "id": "66e9fe3a",
   "metadata": {},
   "outputs": [],
   "source": [
    "dt = np.dtype([('name', np.str_, 16), ('grades', np.float64, (2,))])"
   ]
  },
  {
   "cell_type": "markdown",
   "id": "74418beb",
   "metadata": {},
   "source": [
    "Summarizing: If you want to know the size of the numerical elements use array.nbytes and it will work independently of whether there is a view or not. If you, on the other hand, want the size of the numerical elements plus the whole reference machinery you want to use getsizeof(array.base) to get reliable estimates independent of your view status.\n",
    "- https://numpy.org/doc/stable/reference/generated/numpy.dtype.itemsize.html\n",
    "- gs:find memory of numpy array"
   ]
  },
  {
   "cell_type": "markdown",
   "id": "e0bd0c38",
   "metadata": {},
   "source": [
    "#### 15. Create a 2d array with 0 on the border and 1 inside (★☆☆)"
   ]
  },
  {
   "cell_type": "code",
   "execution_count": 191,
   "id": "d93eb2d4",
   "metadata": {},
   "outputs": [
    {
     "data": {
      "text/plain": [
       "array([[0, 0, 0, 0],\n",
       "       [0, 1, 1, 0],\n",
       "       [0, 0, 0, 0]])"
      ]
     },
     "execution_count": 191,
     "metadata": {},
     "output_type": "execute_result"
    }
   ],
   "source": [
    "arr = np.full((3,4),1)\n",
    "arr[0,:] = 0\n",
    "arr[-1,:] = 0\n",
    "arr[:,0] = 0\n",
    "arr[:,0-1] = 0\n",
    "arr"
   ]
  },
  {
   "cell_type": "code",
   "execution_count": 197,
   "id": "3f823d01",
   "metadata": {},
   "outputs": [
    {
     "data": {
      "text/plain": [
       "array([[0, 0, 0, 0],\n",
       "       [0, 1, 1, 0],\n",
       "       [0, 0, 0, 0]])"
      ]
     },
     "execution_count": 197,
     "metadata": {},
     "output_type": "execute_result"
    }
   ],
   "source": [
    "# alternatively\n",
    "arr = np.full((3,4),0)\n",
    "# fill up the inside with 0\n",
    "arr[1:-1,1:-1] = 1\n",
    "arr"
   ]
  },
  {
   "cell_type": "markdown",
   "id": "f6086b59",
   "metadata": {},
   "source": [
    "#### 15.2 Create a 2d array with 1 on the border and 0 inside (★☆☆)"
   ]
  },
  {
   "cell_type": "code",
   "execution_count": 196,
   "id": "351529ac",
   "metadata": {},
   "outputs": [
    {
     "data": {
      "text/plain": [
       "array([[1, 1, 1, 1],\n",
       "       [1, 0, 0, 1],\n",
       "       [1, 1, 1, 1]])"
      ]
     },
     "execution_count": 196,
     "metadata": {},
     "output_type": "execute_result"
    }
   ],
   "source": [
    "arr = np.full((3,4),1)\n",
    "# fill up the inside with 0\n",
    "arr[1:-1,1:-1] = 0\n",
    "arr"
   ]
  },
  {
   "cell_type": "markdown",
   "id": "a60430e4",
   "metadata": {},
   "source": [
    "#### 16. How to add a border (filled with 0's) around an existing array? (★☆☆)\n"
   ]
  },
  {
   "cell_type": "code",
   "execution_count": 203,
   "id": "233aaabc",
   "metadata": {},
   "outputs": [
    {
     "data": {
      "text/plain": [
       "array([[0., 0., 0., 0., 0., 0.],\n",
       "       [0., 1., 1., 1., 1., 0.],\n",
       "       [0., 1., 1., 1., 1., 0.],\n",
       "       [0., 1., 1., 1., 1., 0.],\n",
       "       [0., 0., 0., 0., 0., 0.]])"
      ]
     },
     "execution_count": 203,
     "metadata": {},
     "output_type": "execute_result"
    }
   ],
   "source": [
    "arr = np.ones((3,4))\n",
    "np.pad(arr, pad_width=((1,1),(1,1)), constant_values=0)"
   ]
  },
  {
   "cell_type": "code",
   "execution_count": 208,
   "id": "e3f30b68",
   "metadata": {},
   "outputs": [
    {
     "data": {
      "text/plain": [
       "array([[ 1.09908085,  1.09908085,  0.21465397,  0.49015871,  0.49015871],\n",
       "       [ 1.09908085,  1.09908085,  0.21465397,  0.49015871,  0.49015871],\n",
       "       [-0.67275515, -0.67275515, -0.89263339,  1.14658691,  1.14658691],\n",
       "       [ 1.38703574,  1.38703574, -0.86545056,  0.65138971,  0.65138971],\n",
       "       [ 0.17295039,  0.17295039, -0.4398122 ,  0.9671162 ,  0.9671162 ],\n",
       "       [ 0.18624052,  0.18624052, -1.12797759,  0.54915093,  0.54915093],\n",
       "       [ 0.18624052,  0.18624052, -1.12797759,  0.54915093,  0.54915093]])"
      ]
     },
     "execution_count": 208,
     "metadata": {},
     "output_type": "execute_result"
    }
   ],
   "source": [
    "np.pad(np.random.randn(5,3), pad_width=((1,1),(1,1)), mode='edge')"
   ]
  },
  {
   "cell_type": "code",
   "execution_count": null,
   "id": "a4f6b01a",
   "metadata": {},
   "outputs": [],
   "source": [
    "# fancy indexing"
   ]
  },
  {
   "cell_type": "code",
   "execution_count": 216,
   "id": "96ead55a",
   "metadata": {},
   "outputs": [
    {
     "data": {
      "text/plain": [
       "array([[0., 0., 0., 0.],\n",
       "       [0., 1., 1., 0.],\n",
       "       [0., 0., 0., 0.]])"
      ]
     },
     "execution_count": 216,
     "metadata": {},
     "output_type": "execute_result"
    }
   ],
   "source": [
    "arr = np.ones((3,4))\n",
    "arr[:,[0,-1]] = 0 \n",
    "arr[[0,-1], :] = 0\n",
    "arr"
   ]
  },
  {
   "cell_type": "code",
   "execution_count": 242,
   "id": "b76629a1",
   "metadata": {
    "scrolled": true
   },
   "outputs": [
    {
     "name": "stdout",
     "output_type": "stream",
     "text": [
      "[[0. 0. 0. 0. 0. 0. 0.]\n",
      " [0. 1. 1. 1. 1. 1. 0.]\n",
      " [0. 1. 1. 1. 1. 1. 0.]\n",
      " [0. 1. 1. 1. 1. 1. 0.]\n",
      " [0. 1. 1. 1. 1. 1. 0.]\n",
      " [0. 1. 1. 1. 1. 1. 0.]\n",
      " [0. 0. 0. 0. 0. 0. 0.]]\n",
      "[[0. 0. 0. 0. 0. 0. 0.]\n",
      " [0. 1. 1. 1. 1. 1. 0.]\n",
      " [0. 1. 1. 1. 1. 1. 0.]\n",
      " [0. 1. 1. 1. 1. 1. 0.]\n",
      " [0. 1. 1. 1. 1. 1. 0.]\n",
      " [0. 1. 1. 1. 1. 1. 0.]\n",
      " [0. 0. 0. 0. 0. 0. 0.]]\n"
     ]
    }
   ],
   "source": [
    "Z = np.ones((5,5))\n",
    "Z = np.pad(Z, pad_width=1, mode='constant', constant_values=0)\n",
    "print(Z)\n",
    "\n",
    "# Using fancy indexing\n",
    "Z[:, [0, -1]] = 0\n",
    "Z[[0, -1], :] = 0\n",
    "print(Z)"
   ]
  },
  {
   "cell_type": "markdown",
   "id": "64dcadfc",
   "metadata": {},
   "source": [
    "#### 18. Create a 5x5 matrix with values 1,2,3,4 just below the diagonal (★☆☆)"
   ]
  },
  {
   "cell_type": "code",
   "execution_count": 245,
   "id": "a1641f5f",
   "metadata": {},
   "outputs": [
    {
     "data": {
      "text/plain": [
       "array([[0., 0., 0., 0., 0.],\n",
       "       [0., 0., 0., 0., 0.],\n",
       "       [0., 0., 0., 0., 0.],\n",
       "       [0., 0., 0., 0., 0.],\n",
       "       [0., 0., 0., 0., 0.]])"
      ]
     },
     "execution_count": 245,
     "metadata": {},
     "output_type": "execute_result"
    }
   ],
   "source": [
    "arr = np.zeros((5,5))\n",
    "arr"
   ]
  },
  {
   "cell_type": "code",
   "execution_count": 247,
   "id": "3f291a1a",
   "metadata": {},
   "outputs": [
    {
     "data": {
      "text/plain": [
       "array([[0., 0., 0., 0., 0.],\n",
       "       [1., 0., 0., 0., 0.],\n",
       "       [0., 2., 0., 0., 0.],\n",
       "       [0., 0., 3., 0., 0.],\n",
       "       [0., 0., 0., 4., 0.]])"
      ]
     },
     "execution_count": 247,
     "metadata": {},
     "output_type": "execute_result"
    }
   ],
   "source": [
    "arr[np.arange(4)+1, np.arange(4)] = 1+np.arange(4)\n",
    "arr"
   ]
  },
  {
   "cell_type": "code",
   "execution_count": 248,
   "id": "34ea5463",
   "metadata": {},
   "outputs": [
    {
     "name": "stdout",
     "output_type": "stream",
     "text": [
      "[[0 0 0 0 0]\n",
      " [1 0 0 0 0]\n",
      " [0 2 0 0 0]\n",
      " [0 0 3 0 0]\n",
      " [0 0 0 4 0]]\n"
     ]
    }
   ],
   "source": [
    "Z = np.diag(1+np.arange(4),k=-1)\n",
    "print(Z)"
   ]
  },
  {
   "cell_type": "code",
   "execution_count": 252,
   "id": "4321aa2c",
   "metadata": {},
   "outputs": [
    {
     "data": {
      "text/plain": [
       "array([[1, 0, 0, 0],\n",
       "       [0, 2, 0, 0],\n",
       "       [0, 0, 3, 0],\n",
       "       [0, 0, 0, 4]])"
      ]
     },
     "execution_count": 252,
     "metadata": {},
     "output_type": "execute_result"
    }
   ],
   "source": [
    "# numpy diagonal\n",
    "np.diag(1+np.arange(4))"
   ]
  },
  {
   "cell_type": "code",
   "execution_count": 237,
   "id": "63745b7e",
   "metadata": {},
   "outputs": [
    {
     "data": {
      "text/plain": [
       "array([[1, 2, 3, 4],\n",
       "       [1, 2, 3, 4],\n",
       "       [1, 2, 3, 4],\n",
       "       [1, 2, 3, 4]])"
      ]
     },
     "execution_count": 237,
     "metadata": {},
     "output_type": "execute_result"
    }
   ],
   "source": [
    "array = np.repeat(np.array([[1,2,3,4]]), repeats=(4), axis=0)\n",
    "array"
   ]
  },
  {
   "cell_type": "code",
   "execution_count": 241,
   "id": "e6eda150",
   "metadata": {},
   "outputs": [
    {
     "data": {
      "text/plain": [
       "array([[0, 0, 0, 0],\n",
       "       [1, 0, 0, 0],\n",
       "       [1, 2, 0, 0],\n",
       "       [1, 2, 3, 0]])"
      ]
     },
     "execution_count": 241,
     "metadata": {},
     "output_type": "execute_result"
    }
   ],
   "source": [
    "np.tril(array,k=-1)"
   ]
  },
  {
   "cell_type": "code",
   "execution_count": 258,
   "id": "a7cdbba0",
   "metadata": {},
   "outputs": [
    {
     "data": {
      "text/plain": [
       "array([[1, 2, 3],\n",
       "       [1, 2, 3]])"
      ]
     },
     "execution_count": 258,
     "metadata": {},
     "output_type": "execute_result"
    }
   ],
   "source": [
    "arr = np.array([1,2,3])\n",
    "np.tile(arr, (2,1))\n"
   ]
  },
  {
   "cell_type": "markdown",
   "id": "7c8223b3",
   "metadata": {},
   "source": [
    "#### 19. Create a 8x8 matrix and fill it with a checkerboard pattern (★☆☆)"
   ]
  },
  {
   "cell_type": "code",
   "execution_count": 275,
   "id": "e2543ca0",
   "metadata": {},
   "outputs": [
    {
     "data": {
      "text/plain": [
       "array([[1., 0., 1., 0., 1., 0., 1., 0.],\n",
       "       [0., 1., 0., 1., 0., 1., 0., 1.],\n",
       "       [1., 0., 1., 0., 1., 0., 1., 0.],\n",
       "       [0., 1., 0., 1., 0., 1., 0., 1.],\n",
       "       [1., 0., 1., 0., 1., 0., 1., 0.],\n",
       "       [0., 1., 0., 1., 0., 1., 0., 1.],\n",
       "       [1., 0., 1., 0., 1., 0., 1., 0.],\n",
       "       [0., 1., 0., 1., 0., 1., 0., 1.]])"
      ]
     },
     "execution_count": 275,
     "metadata": {},
     "output_type": "execute_result"
    }
   ],
   "source": [
    "arr = np.zeros((8,8))\n",
    "arr[0::2,0::2] = 1\n",
    "arr[1::2,1::2] = 1\n",
    "arr"
   ]
  },
  {
   "cell_type": "code",
   "execution_count": 280,
   "id": "ef5287de",
   "metadata": {},
   "outputs": [
    {
     "data": {
      "text/plain": [
       "array([[1., 0., 1., 0., 1., 0., 1., 0.],\n",
       "       [0., 1., 0., 1., 0., 1., 0., 1.],\n",
       "       [1., 0., 1., 0., 1., 0., 1., 0.],\n",
       "       [0., 1., 0., 1., 0., 1., 0., 1.],\n",
       "       [1., 0., 1., 0., 1., 0., 1., 0.],\n",
       "       [0., 1., 0., 1., 0., 1., 0., 1.],\n",
       "       [1., 0., 1., 0., 1., 0., 1., 0.],\n",
       "       [0., 1., 0., 1., 0., 1., 0., 1.]])"
      ]
     },
     "execution_count": 280,
     "metadata": {},
     "output_type": "execute_result"
    }
   ],
   "source": [
    "arr = np.zeros((8,8))\n",
    "arr[0::2,0::2] = 1\n",
    "arr[1::2,1::2] = 1\n",
    "arr"
   ]
  },
  {
   "cell_type": "code",
   "execution_count": 286,
   "id": "9698c929",
   "metadata": {},
   "outputs": [
    {
     "data": {
      "text/plain": [
       "array([[0., 1., 0., 1., 0., 1., 0., 1.],\n",
       "       [1., 0., 1., 0., 1., 0., 1., 0.],\n",
       "       [0., 1., 0., 1., 0., 1., 0., 1.],\n",
       "       [1., 0., 1., 0., 1., 0., 1., 0.],\n",
       "       [0., 1., 0., 1., 0., 1., 0., 1.],\n",
       "       [1., 0., 1., 0., 1., 0., 1., 0.],\n",
       "       [0., 1., 0., 1., 0., 1., 0., 1.],\n",
       "       [1., 0., 1., 0., 1., 0., 1., 0.]])"
      ]
     },
     "execution_count": 286,
     "metadata": {},
     "output_type": "execute_result"
    }
   ],
   "source": [
    "arr = np.zeros((8,8))\n",
    "arr[0::2,1::2] = 1\n",
    "arr[0::2,0::2] = 0\n",
    "arr[1::2,0::2] = 1\n",
    "arr[1::2,0::2] = 1\n",
    "arr"
   ]
  },
  {
   "cell_type": "code",
   "execution_count": 277,
   "id": "6bf63e38",
   "metadata": {},
   "outputs": [
    {
     "data": {
      "text/plain": [
       "array([[0, 1, 0, 1, 0, 1, 0, 1],\n",
       "       [1, 0, 1, 0, 1, 0, 1, 0],\n",
       "       [0, 1, 0, 1, 0, 1, 0, 1],\n",
       "       [1, 0, 1, 0, 1, 0, 1, 0],\n",
       "       [0, 1, 0, 1, 0, 1, 0, 1],\n",
       "       [1, 0, 1, 0, 1, 0, 1, 0],\n",
       "       [0, 1, 0, 1, 0, 1, 0, 1],\n",
       "       [1, 0, 1, 0, 1, 0, 1, 0]])"
      ]
     },
     "execution_count": 277,
     "metadata": {},
     "output_type": "execute_result"
    }
   ],
   "source": [
    "Z = np.zeros((8,8),dtype=int)\n",
    "Z[1::2,::2] = 1\n",
    "Z[::2,1::2] = 1\n",
    "Z"
   ]
  },
  {
   "cell_type": "markdown",
   "id": "530bbd75",
   "metadata": {},
   "source": [
    "#### 20. Consider a (6,7,8) shape array, what is the index (x,y,z) of the 100th element? (★☆☆)\n",
    "- https://stackoverflow.com/questions/48135736/what-is-an-intuitive-explanation-of-np-unravel-index\n",
    "- gs:nupy np.unravel_index"
   ]
  },
  {
   "cell_type": "code",
   "execution_count": 305,
   "id": "47f0162e",
   "metadata": {
    "scrolled": true
   },
   "outputs": [
    {
     "data": {
      "text/plain": [
       "-0.3430478711930245"
      ]
     },
     "execution_count": 305,
     "metadata": {},
     "output_type": "execute_result"
    }
   ],
   "source": [
    "arr = np.random.randn(6,7,8)\n",
    "# Converts a flat index or array of flat indices into a tuple of coordinate arrays.\n",
    "np.ravel(arr)[100] # NOTE IMPORTANT, THIS IS WRONG: not 100"
   ]
  },
  {
   "cell_type": "code",
   "execution_count": 309,
   "id": "45011a9e",
   "metadata": {},
   "outputs": [
    {
     "data": {
      "text/plain": [
       "-0.2813078919500143"
      ]
     },
     "execution_count": 309,
     "metadata": {},
     "output_type": "execute_result"
    }
   ],
   "source": [
    "np.ravel(arr)[99] # not 100"
   ]
  },
  {
   "cell_type": "code",
   "execution_count": 296,
   "id": "a3de3107",
   "metadata": {},
   "outputs": [
    {
     "data": {
      "text/plain": [
       "(array([3, 6, 6]), array([4, 5, 1]))"
      ]
     },
     "execution_count": 296,
     "metadata": {},
     "output_type": "execute_result"
    }
   ],
   "source": [
    "np.unravel_index([22, 41, 37], (7,6))"
   ]
  },
  {
   "cell_type": "code",
   "execution_count": 310,
   "id": "6633cf26",
   "metadata": {},
   "outputs": [
    {
     "data": {
      "text/plain": [
       "array([-0.28130789])"
      ]
     },
     "execution_count": 310,
     "metadata": {},
     "output_type": "execute_result"
    }
   ],
   "source": [
    "idx = np.unravel_index([99], shape=(6,7,8)) # note, should not be 100\n",
    "\n",
    "arr[idx[0],idx[1],idx[2]]"
   ]
  },
  {
   "cell_type": "code",
   "execution_count": 307,
   "id": "53215fc1",
   "metadata": {},
   "outputs": [
    {
     "data": {
      "text/plain": [
       "array([-0.34304787])"
      ]
     },
     "execution_count": 307,
     "metadata": {},
     "output_type": "execute_result"
    }
   ],
   "source": [
    "arr[*idx]"
   ]
  },
  {
   "cell_type": "code",
   "execution_count": 308,
   "id": "3bc85266",
   "metadata": {},
   "outputs": [
    {
     "name": "stdout",
     "output_type": "stream",
     "text": [
      "(1, 5, 3)\n"
     ]
    }
   ],
   "source": [
    "print(np.unravel_index(99,(6,7,8)))"
   ]
  },
  {
   "cell_type": "code",
   "execution_count": 526,
   "id": "5b4c79aa",
   "metadata": {},
   "outputs": [
    {
     "data": {
      "text/plain": [
       "56"
      ]
     },
     "execution_count": 526,
     "metadata": {},
     "output_type": "execute_result"
    }
   ],
   "source": [
    "7 * 8"
   ]
  },
  {
   "cell_type": "code",
   "execution_count": 528,
   "id": "7f5a5ac9",
   "metadata": {},
   "outputs": [
    {
     "data": {
      "text/plain": [
       "42"
      ]
     },
     "execution_count": 528,
     "metadata": {},
     "output_type": "execute_result"
    }
   ],
   "source": [
    "(99 - 56-1)"
   ]
  },
  {
   "cell_type": "code",
   "execution_count": 530,
   "id": "3fedd317",
   "metadata": {},
   "outputs": [
    {
     "data": {
      "text/plain": [
       "42"
      ]
     },
     "execution_count": 530,
     "metadata": {},
     "output_type": "execute_result"
    }
   ],
   "source": [
    "5 * 8 + 3 -1"
   ]
  },
  {
   "cell_type": "markdown",
   "id": "62539866",
   "metadata": {},
   "source": [
    "#### 21. Create a checkerboard 8x8 matrix using the tile function (★☆☆)"
   ]
  },
  {
   "cell_type": "code",
   "execution_count": 313,
   "id": "b00c70b2",
   "metadata": {},
   "outputs": [
    {
     "data": {
      "text/plain": [
       "array([[0, 1, 0, 1, 0, 1, 0, 1],\n",
       "       [1, 0, 1, 0, 1, 0, 1, 0],\n",
       "       [0, 1, 0, 1, 0, 1, 0, 1],\n",
       "       [1, 0, 1, 0, 1, 0, 1, 0],\n",
       "       [0, 1, 0, 1, 0, 1, 0, 1],\n",
       "       [1, 0, 1, 0, 1, 0, 1, 0],\n",
       "       [0, 1, 0, 1, 0, 1, 0, 1],\n",
       "       [1, 0, 1, 0, 1, 0, 1, 0]])"
      ]
     },
     "execution_count": 313,
     "metadata": {},
     "output_type": "execute_result"
    }
   ],
   "source": [
    "arr = np.array([[0,1],[1,0]])\n",
    "np.tile(arr, (4,4))"
   ]
  },
  {
   "cell_type": "markdown",
   "id": "aa75a9f1",
   "metadata": {},
   "source": [
    "#### 22. Normalize a 5x5 random matrix (★☆☆)"
   ]
  },
  {
   "cell_type": "code",
   "execution_count": 319,
   "id": "8f4c9175",
   "metadata": {},
   "outputs": [
    {
     "data": {
      "text/plain": [
       "array([[-1.1686121 , -2.36634059,  0.44648665,  0.34409408,  1.19138853],\n",
       "       [-0.17983409, -1.41200154, -1.16555204, -1.08514651,  0.62257486],\n",
       "       [-1.03996309,  0.46251986,  0.65779388,  1.4169711 , -0.34036311],\n",
       "       [-0.11862121,  0.5321625 ,  0.54637486,  2.07564422, -0.74967328],\n",
       "       [ 1.00526775,  0.92972134, -0.2331702 , -0.31151633, -0.06020556]])"
      ]
     },
     "execution_count": 319,
     "metadata": {},
     "output_type": "execute_result"
    }
   ],
   "source": [
    "arr = np.random.randn(5,5)\n",
    "arr = (arr - np.mean(arr)) / np.std(arr)\n",
    "arr"
   ]
  },
  {
   "cell_type": "code",
   "execution_count": 320,
   "id": "428d358a",
   "metadata": {},
   "outputs": [
    {
     "name": "stdout",
     "output_type": "stream",
     "text": [
      "[[-1.1686121  -2.36634059  0.44648665  0.34409408  1.19138853]\n",
      " [-0.17983409 -1.41200154 -1.16555204 -1.08514651  0.62257486]\n",
      " [-1.03996309  0.46251986  0.65779388  1.4169711  -0.34036311]\n",
      " [-0.11862121  0.5321625   0.54637486  2.07564422 -0.74967328]\n",
      " [ 1.00526775  0.92972134 -0.2331702  -0.31151633 -0.06020556]]\n"
     ]
    }
   ],
   "source": [
    "# Z = np.random.random((5,5))\n",
    "Z = arr\n",
    "Z = (Z - np.mean (Z)) / (np.std (Z))\n",
    "print(Z)"
   ]
  },
  {
   "cell_type": "markdown",
   "id": "202c396e",
   "metadata": {},
   "source": [
    "#### 23. Create a custom dtype that describes a color as four unsigned bytes (RGBA) (★☆☆)"
   ]
  },
  {
   "cell_type": "code",
   "execution_count": 359,
   "id": "6d300185",
   "metadata": {},
   "outputs": [
    {
     "data": {
      "text/plain": [
       "dtype([('R', '<u8'), ('G', '<u8'), ('B', '<u8'), ('A', '<u8')])"
      ]
     },
     "execution_count": 359,
     "metadata": {},
     "output_type": "execute_result"
    }
   ],
   "source": [
    "dt = np.dtype([('R', np.uint),('G', np.uint),('B', np.uint),('A', np.uint)])\n",
    "dt"
   ]
  },
  {
   "cell_type": "code",
   "execution_count": 393,
   "id": "065f265c",
   "metadata": {},
   "outputs": [
    {
     "data": {
      "text/plain": [
       "array([(0, 0, 0, 0), (0, 0, 0, 0), (0, 0, 0, 0), (0, 0, 0, 0),\n",
       "       (0, 0, 0, 0), (0, 0, 0, 0), (0, 0, 0, 0), (0, 0, 0, 0),\n",
       "       (0, 0, 0, 0), (0, 0, 0, 0)],\n",
       "      dtype=[('R', '<u8'), ('G', '<u8'), ('B', '<u8'), ('A', '<u8')])"
      ]
     },
     "execution_count": 393,
     "metadata": {},
     "output_type": "execute_result"
    }
   ],
   "source": [
    "np.empty(10, dtype=dt)"
   ]
  },
  {
   "cell_type": "code",
   "execution_count": 401,
   "id": "1bbd217b",
   "metadata": {
    "scrolled": true
   },
   "outputs": [
    {
     "data": {
      "text/plain": [
       "array([(0, 0, 0, 0), (0, 0, 0, 0), (0, 0, 0, 0), (0, 0, 0, 0),\n",
       "       (0, 0, 0, 0), (0, 0, 0, 0), (0, 0, 0, 0), (0, 0, 0, 0),\n",
       "       (0, 0, 0, 0), (0, 0, 0, 0), (0, 0, 0, 0), (0, 0, 0, 0),\n",
       "       (0, 0, 0, 0), (0, 0, 0, 0), (0, 0, 0, 0), (0, 0, 0, 0),\n",
       "       (0, 0, 0, 0), (0, 0, 0, 0), (0, 0, 0, 0), (0, 0, 0, 0),\n",
       "       (0, 0, 0, 0), (0, 0, 0, 0), (0, 0, 0, 0), (0, 0, 0, 0),\n",
       "       (0, 0, 0, 0), (0, 0, 0, 0), (0, 0, 0, 0), (0, 0, 0, 0),\n",
       "       (0, 0, 0, 0), (0, 0, 0, 0), (0, 0, 0, 0), (0, 0, 0, 0),\n",
       "       (0, 0, 0, 0), (0, 0, 0, 0), (0, 0, 0, 0), (0, 0, 0, 0),\n",
       "       (0, 0, 0, 0), (0, 0, 0, 0), (0, 0, 0, 0), (0, 0, 0, 0),\n",
       "       (0, 0, 0, 0), (0, 0, 0, 0), (0, 0, 0, 0), (0, 0, 0, 0),\n",
       "       (0, 0, 0, 0), (0, 0, 0, 0), (0, 0, 0, 0), (0, 0, 0, 0),\n",
       "       (0, 0, 0, 0), (0, 0, 0, 0), (0, 0, 0, 0), (0, 0, 0, 0),\n",
       "       (0, 0, 0, 0), (0, 0, 0, 0), (0, 0, 0, 0), (0, 0, 0, 0),\n",
       "       (0, 0, 0, 0), (0, 0, 0, 0), (0, 0, 0, 0), (0, 0, 0, 0),\n",
       "       (0, 0, 0, 0), (0, 0, 0, 0), (0, 0, 0, 0), (0, 0, 0, 0),\n",
       "       (0, 0, 0, 0), (0, 0, 0, 0), (0, 0, 0, 0), (0, 0, 0, 0),\n",
       "       (0, 0, 0, 0), (0, 0, 0, 0), (0, 0, 0, 0), (0, 0, 0, 0),\n",
       "       (0, 0, 0, 0), (0, 0, 0, 0), (0, 0, 0, 0), (0, 0, 0, 0),\n",
       "       (0, 0, 0, 0), (0, 0, 0, 0), (0, 0, 0, 0), (0, 0, 0, 0),\n",
       "       (0, 0, 0, 0), (0, 0, 0, 0), (0, 0, 0, 0), (0, 0, 0, 0),\n",
       "       (0, 0, 0, 0), (0, 0, 0, 0), (0, 0, 0, 0), (0, 0, 0, 0),\n",
       "       (0, 0, 0, 0), (0, 0, 0, 0), (0, 0, 0, 0), (0, 0, 0, 0),\n",
       "       (0, 0, 0, 0), (0, 0, 0, 0), (0, 0, 0, 0), (0, 0, 0, 0),\n",
       "       (0, 0, 0, 0), (0, 0, 0, 0), (0, 0, 0, 0), (0, 0, 0, 0)],\n",
       "      dtype=[('r', 'u1'), ('g', 'u1'), ('b', 'u1'), ('a', 'u1')])"
      ]
     },
     "execution_count": 401,
     "metadata": {},
     "output_type": "execute_result"
    }
   ],
   "source": [
    "color = np.dtype([(\"r\", np.ubyte),\n",
    "                  (\"g\", np.ubyte),\n",
    "                  (\"b\", np.ubyte),\n",
    "                  (\"a\", np.ubyte)])\n",
    "\n",
    "np.empty(100, dtype=color)"
   ]
  },
  {
   "cell_type": "code",
   "execution_count": 321,
   "id": "02adca32",
   "metadata": {},
   "outputs": [],
   "source": [
    "kerneldt = np.dtype([('myintname', np.int32), ('myfloats', np.float64, 9)])"
   ]
  },
  {
   "cell_type": "code",
   "execution_count": 338,
   "id": "5a408c0d",
   "metadata": {},
   "outputs": [],
   "source": [
    "kerneldt = np.dtype([('myintname', np.int32), ('myfloats', np.float64, 9)])\n",
    "\n",
    "arr = np.empty(2, dtype=kerneldt)"
   ]
  },
  {
   "cell_type": "code",
   "execution_count": 344,
   "id": "d387edc9",
   "metadata": {},
   "outputs": [
    {
     "data": {
      "text/plain": [
       "array([(0, [0., 0., 0., 0., 0., 0., 0., 0., 0.]),\n",
       "       (0, [0., 0., 0., 0., 0., 0., 0., 0., 0.])],\n",
       "      dtype=[('myintname', '<i4'), ('myfloats', '<f8', (9,))])"
      ]
     },
     "execution_count": 344,
     "metadata": {},
     "output_type": "execute_result"
    }
   ],
   "source": [
    "arr"
   ]
  },
  {
   "cell_type": "code",
   "execution_count": 337,
   "id": "34c2c66a",
   "metadata": {},
   "outputs": [
    {
     "data": {
      "text/plain": [
       "dtype('float32')"
      ]
     },
     "execution_count": 337,
     "metadata": {},
     "output_type": "execute_result"
    }
   ],
   "source": [
    "np.dtype(np.float32(5))"
   ]
  },
  {
   "cell_type": "markdown",
   "id": "7cb1beea",
   "metadata": {},
   "source": [
    "#### 25. Given a 1D array, negate all elements which are between 3 and 8, in place. (★☆☆)"
   ]
  },
  {
   "cell_type": "code",
   "execution_count": 411,
   "id": "cd2a2c14",
   "metadata": {},
   "outputs": [
    {
     "data": {
      "text/plain": [
       "array([ 0,  1,  2, -3, -4, -5, -6, -7, -8,  9])"
      ]
     },
     "execution_count": 411,
     "metadata": {},
     "output_type": "execute_result"
    }
   ],
   "source": [
    "arr = np.arange(10)\n",
    "arr[(arr>=3) & (arr<=8)] = -arr[(arr>=3) & (arr<=8)]\n",
    "arr"
   ]
  },
  {
   "cell_type": "code",
   "execution_count": 413,
   "id": "36812985",
   "metadata": {},
   "outputs": [
    {
     "data": {
      "text/plain": [
       "10"
      ]
     },
     "execution_count": 413,
     "metadata": {},
     "output_type": "execute_result"
    }
   ],
   "source": [
    "sum(range(5))"
   ]
  },
  {
   "cell_type": "code",
   "execution_count": 416,
   "id": "bee96aca",
   "metadata": {},
   "outputs": [
    {
     "data": {
      "text/plain": [
       "9"
      ]
     },
     "execution_count": 416,
     "metadata": {},
     "output_type": "execute_result"
    }
   ],
   "source": [
    "# this value is added to the sum of items of the iterable\n",
    "sum(range(5),start=-1)"
   ]
  },
  {
   "cell_type": "markdown",
   "id": "ca662a6a",
   "metadata": {},
   "source": [
    "#### 28. What are the result of the following expressions? (★☆☆)\n"
   ]
  },
  {
   "cell_type": "code",
   "execution_count": 440,
   "id": "02284e50",
   "metadata": {},
   "outputs": [],
   "source": [
    "assert str(np.array(0) / np.array(0))  == 'nan' # will have warnings but code runs\n",
    "assert (np.array(0) // np.array(0)) == 0 # will have warnings but code runs\n",
    "assert str(np.array([np.nan])) == '[nan]'\n",
    "assert np.array([np.nan]).astype(int) == 0 \n",
    "assert np.array([np.nan]).astype(int).astype(float) == 0"
   ]
  },
  {
   "cell_type": "code",
   "execution_count": 435,
   "id": "9fe46504",
   "metadata": {},
   "outputs": [
    {
     "data": {
      "text/plain": [
       "array([nan])"
      ]
     },
     "execution_count": 435,
     "metadata": {},
     "output_type": "execute_result"
    }
   ],
   "source": [
    "np.array([np.nan])"
   ]
  },
  {
   "cell_type": "code",
   "execution_count": 436,
   "id": "e7732e37",
   "metadata": {},
   "outputs": [
    {
     "data": {
      "text/plain": [
       "'[nan]'"
      ]
     },
     "execution_count": 436,
     "metadata": {},
     "output_type": "execute_result"
    }
   ],
   "source": [
    "str(np.array([np.nan]))"
   ]
  },
  {
   "cell_type": "markdown",
   "id": "bcb518be",
   "metadata": {},
   "source": [
    "#### 29. How to round away from zero a float array ? (★☆☆)"
   ]
  },
  {
   "cell_type": "code",
   "execution_count": 441,
   "id": "326c94d8",
   "metadata": {},
   "outputs": [
    {
     "name": "stdout",
     "output_type": "stream",
     "text": [
      "[-10.   1.   2.   4.   7.  -2.   8.   1.  -5.   3.]\n"
     ]
    }
   ],
   "source": [
    "Z = np.random.uniform(-10,+10,10)\n",
    "print(np.copysign(np.ceil(np.abs(Z)), Z))"
   ]
  },
  {
   "cell_type": "code",
   "execution_count": 442,
   "id": "b7230eac",
   "metadata": {},
   "outputs": [
    {
     "data": {
      "text/plain": [
       "array([-9.25130647,  0.25571781,  1.35574151,  3.14430913,  6.1756912 ,\n",
       "       -1.8820982 ,  7.09338272,  0.08133671, -4.95737553,  2.30389419])"
      ]
     },
     "execution_count": 442,
     "metadata": {},
     "output_type": "execute_result"
    }
   ],
   "source": [
    "Z"
   ]
  },
  {
   "cell_type": "code",
   "execution_count": 444,
   "id": "84f13df7",
   "metadata": {},
   "outputs": [
    {
     "data": {
      "text/plain": [
       "array([10.,  1.,  2.,  4.,  7.,  2.,  8.,  1.,  5.,  3.])"
      ]
     },
     "execution_count": 444,
     "metadata": {},
     "output_type": "execute_result"
    }
   ],
   "source": [
    "np.ceil(np.abs(Z))"
   ]
  },
  {
   "cell_type": "code",
   "execution_count": 445,
   "id": "1084e14f",
   "metadata": {},
   "outputs": [
    {
     "data": {
      "text/plain": [
       "array([-10.,   1.,   2.,   4.,   7.,  -2.,   8.,   1.,  -5.,   3.])"
      ]
     },
     "execution_count": 445,
     "metadata": {},
     "output_type": "execute_result"
    }
   ],
   "source": [
    "np.copysign(np.ceil(np.abs(Z)), Z)"
   ]
  },
  {
   "cell_type": "markdown",
   "id": "be4159a8",
   "metadata": {},
   "source": [
    "#### 30. How to find common values between two arrays? (★☆☆)"
   ]
  },
  {
   "cell_type": "code",
   "execution_count": 447,
   "id": "b28f74ee",
   "metadata": {},
   "outputs": [
    {
     "data": {
      "text/plain": [
       "array([1, 8, 9])"
      ]
     },
     "execution_count": 447,
     "metadata": {},
     "output_type": "execute_result"
    }
   ],
   "source": [
    "a1 = np.random.randint(0,10,10)\n",
    "a2 = np.random.randint(0,10,10)\n",
    "np.intersect1d(a1, a2)"
   ]
  },
  {
   "cell_type": "code",
   "execution_count": 448,
   "id": "9008a75c",
   "metadata": {},
   "outputs": [
    {
     "name": "stderr",
     "output_type": "stream",
     "text": [
      "/var/folders/q4/s7bw96810896_5s4r65jl0780000gn/T/ipykernel_29596/244602691.py:1: RuntimeWarning: invalid value encountered in sqrt\n",
      "  np.sqrt(-1) == np.emath.sqrt(-1)\n"
     ]
    },
    {
     "data": {
      "text/plain": [
       "False"
      ]
     },
     "execution_count": 448,
     "metadata": {},
     "output_type": "execute_result"
    }
   ],
   "source": [
    "np.sqrt(-1) == np.emath.sqrt(-1)"
   ]
  },
  {
   "cell_type": "code",
   "execution_count": 449,
   "id": "0d67b660",
   "metadata": {},
   "outputs": [
    {
     "name": "stderr",
     "output_type": "stream",
     "text": [
      "/var/folders/q4/s7bw96810896_5s4r65jl0780000gn/T/ipykernel_29596/3438155168.py:1: RuntimeWarning: invalid value encountered in sqrt\n",
      "  np.sqrt(-1)\n"
     ]
    },
    {
     "data": {
      "text/plain": [
       "nan"
      ]
     },
     "execution_count": 449,
     "metadata": {},
     "output_type": "execute_result"
    }
   ],
   "source": [
    "np.sqrt(-1)"
   ]
  },
  {
   "cell_type": "code",
   "execution_count": 450,
   "id": "e4265709",
   "metadata": {},
   "outputs": [
    {
     "data": {
      "text/plain": [
       "1j"
      ]
     },
     "execution_count": 450,
     "metadata": {},
     "output_type": "execute_result"
    }
   ],
   "source": [
    "np.emath.sqrt(-1)"
   ]
  },
  {
   "cell_type": "markdown",
   "id": "b7954db0",
   "metadata": {},
   "source": [
    "#### 33. How to get the dates of yesterday, today and tomorrow? (★☆☆)"
   ]
  },
  {
   "cell_type": "code",
   "execution_count": 454,
   "id": "c41b3029",
   "metadata": {},
   "outputs": [
    {
     "data": {
      "text/plain": [
       "(numpy.datetime64('2023-12-01'),\n",
       " numpy.datetime64('2023-12-02'),\n",
       " numpy.datetime64('2023-12-03'))"
      ]
     },
     "execution_count": 454,
     "metadata": {},
     "output_type": "execute_result"
    }
   ],
   "source": [
    "yesterday = np.datetime64('today') - np.timedelta64(1)\n",
    "today = np.datetime64('today')\n",
    "tomorrow  = np.datetime64('today') + np.timedelta64(1)\n",
    "\n",
    "yesterday, today, tomorrow"
   ]
  },
  {
   "cell_type": "code",
   "execution_count": 455,
   "id": "6dc40531",
   "metadata": {},
   "outputs": [],
   "source": [
    "#### 34. How to get all the dates corresponding to the month of July 2016? (★★☆)"
   ]
  },
  {
   "cell_type": "code",
   "execution_count": 457,
   "id": "7ae95cd3",
   "metadata": {},
   "outputs": [
    {
     "ename": "TypeError",
     "evalue": "unsupported operand type(s) for -: 'str' and 'str'",
     "output_type": "error",
     "traceback": [
      "\u001b[0;31m---------------------------------------------------------------------------\u001b[0m",
      "\u001b[0;31mTypeError\u001b[0m                                 Traceback (most recent call last)",
      "Cell \u001b[0;32mIn[457], line 1\u001b[0m\n\u001b[0;32m----> 1\u001b[0m \u001b[43mnp\u001b[49m\u001b[38;5;241;43m.\u001b[39;49m\u001b[43marange\u001b[49m\u001b[43m(\u001b[49m\u001b[38;5;124;43m'\u001b[39;49m\u001b[38;5;124;43m2016-07\u001b[39;49m\u001b[38;5;124;43m'\u001b[39;49m\u001b[43m,\u001b[49m\u001b[43m \u001b[49m\u001b[38;5;124;43m'\u001b[39;49m\u001b[38;5;124;43m2016-08\u001b[39;49m\u001b[38;5;124;43m'\u001b[39;49m\u001b[43m)\u001b[49m\n",
      "\u001b[0;31mTypeError\u001b[0m: unsupported operand type(s) for -: 'str' and 'str'"
     ]
    }
   ],
   "source": [
    "np.arange('2016-07', '2016-08')"
   ]
  },
  {
   "cell_type": "code",
   "execution_count": 458,
   "id": "ab66de97",
   "metadata": {},
   "outputs": [
    {
     "data": {
      "text/plain": [
       "array(['2016-07-01', '2016-07-02', '2016-07-03', '2016-07-04',\n",
       "       '2016-07-05', '2016-07-06', '2016-07-07', '2016-07-08',\n",
       "       '2016-07-09', '2016-07-10', '2016-07-11', '2016-07-12',\n",
       "       '2016-07-13', '2016-07-14', '2016-07-15', '2016-07-16',\n",
       "       '2016-07-17', '2016-07-18', '2016-07-19', '2016-07-20',\n",
       "       '2016-07-21', '2016-07-22', '2016-07-23', '2016-07-24',\n",
       "       '2016-07-25', '2016-07-26', '2016-07-27', '2016-07-28',\n",
       "       '2016-07-29', '2016-07-30', '2016-07-31'], dtype='datetime64[D]')"
      ]
     },
     "execution_count": 458,
     "metadata": {},
     "output_type": "execute_result"
    }
   ],
   "source": [
    "np.arange('2016-07', '2016-08', dtype='datetime64[D]')"
   ]
  },
  {
   "cell_type": "markdown",
   "id": "9b5b8be2",
   "metadata": {},
   "source": [
    "#### 36. Extract the integer part of a random array of positive numbers using 4 different methods (★★☆)"
   ]
  },
  {
   "cell_type": "code",
   "execution_count": 459,
   "id": "6809cc20",
   "metadata": {},
   "outputs": [
    {
     "name": "stdout",
     "output_type": "stream",
     "text": [
      "[8. 9. 0. 5. 8. 0. 9. 7. 8. 3.]\n",
      "[8. 9. 0. 5. 8. 0. 9. 7. 8. 3.]\n",
      "[8. 9. 0. 5. 8. 0. 9. 7. 8. 3.]\n",
      "[8 9 0 5 8 0 9 7 8 3]\n",
      "[8. 9. 0. 5. 8. 0. 9. 7. 8. 3.]\n"
     ]
    }
   ],
   "source": [
    "Z = np.random.uniform(0,10,10)\n",
    "\n",
    "print(Z - Z%1)\n",
    "print(Z // 1)\n",
    "print(np.floor(Z))\n",
    "print(Z.astype(int))\n",
    "print(np.trunc(Z))"
   ]
  },
  {
   "cell_type": "code",
   "execution_count": 464,
   "id": "b32f3a9c",
   "metadata": {},
   "outputs": [
    {
     "data": {
      "text/plain": [
       "array([8.13829468, 9.45250775, 0.81597766, 5.10392599, 8.68995578,\n",
       "       0.45496586, 9.22240799, 7.62539893, 8.03799815, 3.09668792])"
      ]
     },
     "execution_count": 464,
     "metadata": {},
     "output_type": "execute_result"
    }
   ],
   "source": [
    "Z"
   ]
  },
  {
   "cell_type": "code",
   "execution_count": 463,
   "id": "9af0293c",
   "metadata": {},
   "outputs": [
    {
     "data": {
      "text/plain": [
       "array([0.13829468, 0.45250775, 0.81597766, 0.10392599, 0.68995578,\n",
       "       0.45496586, 0.22240799, 0.62539893, 0.03799815, 0.09668792])"
      ]
     },
     "execution_count": 463,
     "metadata": {},
     "output_type": "execute_result"
    }
   ],
   "source": [
    "Z % 1"
   ]
  },
  {
   "cell_type": "code",
   "execution_count": 465,
   "id": "844c783c",
   "metadata": {},
   "outputs": [
    {
     "data": {
      "text/plain": [
       "array([8., 9., 0., 5., 8., 0., 9., 7., 8., 3.])"
      ]
     },
     "execution_count": 465,
     "metadata": {},
     "output_type": "execute_result"
    }
   ],
   "source": [
    "Z // 1"
   ]
  },
  {
   "cell_type": "code",
   "execution_count": 466,
   "id": "2d7ceb09",
   "metadata": {},
   "outputs": [
    {
     "data": {
      "text/plain": [
       "array([8., 9., 0., 5., 8., 0., 9., 7., 8., 3.])"
      ]
     },
     "execution_count": 466,
     "metadata": {},
     "output_type": "execute_result"
    }
   ],
   "source": [
    "np.floor(Z)"
   ]
  },
  {
   "cell_type": "code",
   "execution_count": 467,
   "id": "d0d707cf",
   "metadata": {},
   "outputs": [
    {
     "data": {
      "text/plain": [
       "array([8, 9, 0, 5, 8, 0, 9, 7, 8, 3])"
      ]
     },
     "execution_count": 467,
     "metadata": {},
     "output_type": "execute_result"
    }
   ],
   "source": [
    "Z.astype(int)"
   ]
  },
  {
   "cell_type": "code",
   "execution_count": 468,
   "id": "ca5661e9",
   "metadata": {},
   "outputs": [
    {
     "data": {
      "text/plain": [
       "array([8., 9., 0., 5., 8., 0., 9., 7., 8., 3.])"
      ]
     },
     "execution_count": 468,
     "metadata": {},
     "output_type": "execute_result"
    }
   ],
   "source": [
    "np.trunc(Z)"
   ]
  },
  {
   "cell_type": "markdown",
   "id": "f489c48c",
   "metadata": {},
   "source": [
    "#### 37. Create a 5x5 matrix with row values ranging from 0 to 4 (★★☆)"
   ]
  },
  {
   "cell_type": "code",
   "execution_count": 470,
   "id": "cf6ff8d5",
   "metadata": {},
   "outputs": [
    {
     "data": {
      "text/plain": [
       "array([[0, 0, 1, 1, 2],\n",
       "       [1, 0, 1, 1, 2],\n",
       "       [1, 2, 1, 0, 1],\n",
       "       [3, 0, 2, 3, 3],\n",
       "       [2, 3, 1, 2, 2]])"
      ]
     },
     "execution_count": 470,
     "metadata": {},
     "output_type": "execute_result"
    }
   ],
   "source": [
    "np.random.randint(low=0, high=4, size=(5,5))"
   ]
  },
  {
   "cell_type": "markdown",
   "id": "cb14b1c4",
   "metadata": {},
   "source": [
    "#### 38. Consider a generator function that generates 10 integers and use it to build an array (★☆☆)"
   ]
  },
  {
   "cell_type": "code",
   "execution_count": 474,
   "id": "f7c79ca7",
   "metadata": {},
   "outputs": [
    {
     "data": {
      "text/plain": [
       "array([0, 1, 2, 3, 4, 5, 6, 7, 8, 9])"
      ]
     },
     "execution_count": 474,
     "metadata": {},
     "output_type": "execute_result"
    }
   ],
   "source": [
    "def generator(size):\n",
    "    for i in range(size):\n",
    "        yield i\n",
    "    return\n",
    "\n",
    "np.array([i for i in generator(10)])"
   ]
  },
  {
   "cell_type": "code",
   "execution_count": 475,
   "id": "510c4f6d",
   "metadata": {},
   "outputs": [
    {
     "name": "stdout",
     "output_type": "stream",
     "text": [
      "[0. 1. 2. 3. 4. 5. 6. 7. 8. 9.]\n"
     ]
    }
   ],
   "source": [
    "def generate():\n",
    "    for x in range(10):\n",
    "        yield x\n",
    "\n",
    "# The number of items to read from iterable. The default is -1, which means all data is read.\n",
    "Z = np.fromiter(generate(),dtype=float, count=-1)\n",
    "\n",
    "print(Z)"
   ]
  },
  {
   "cell_type": "markdown",
   "id": "6a183014",
   "metadata": {},
   "source": [
    "#### 39. Create a vector of size 10 with values ranging from 0 to 1, both excluded (★★☆)\n"
   ]
  },
  {
   "cell_type": "code",
   "execution_count": 479,
   "id": "2ca48805",
   "metadata": {},
   "outputs": [
    {
     "data": {
      "text/plain": [
       "array([0.09090909, 0.18181818, 0.27272727, 0.36363636, 0.45454545,\n",
       "       0.54545455, 0.63636364, 0.72727273, 0.81818182, 0.90909091])"
      ]
     },
     "execution_count": 479,
     "metadata": {},
     "output_type": "execute_result"
    }
   ],
   "source": [
    "np.linspace(0,1,12)[1:-1]"
   ]
  },
  {
   "cell_type": "markdown",
   "id": "c68d0aec",
   "metadata": {},
   "source": [
    "#### 40. Create a random vector of size 10 and sort it (★★☆)"
   ]
  },
  {
   "cell_type": "code",
   "execution_count": 483,
   "id": "3c055b77",
   "metadata": {},
   "outputs": [
    {
     "data": {
      "text/plain": [
       "array([[-1.43439621, -1.27436298, -0.95675948, -0.74161852, -0.1040121 ,\n",
       "         0.51822477,  0.67857642,  1.15364777,  1.21842935,  1.83179134],\n",
       "       [-1.44293286, -0.97655455, -0.58499816, -0.55309176, -0.51183248,\n",
       "        -0.15377089,  0.00687253,  0.22616569,  0.50746826,  2.05195144],\n",
       "       [-2.3244847 , -1.4495198 , -1.0159036 , -0.85591991, -0.84395537,\n",
       "        -0.52813816, -0.24560439, -0.19047912, -0.05213646,  0.17029886]])"
      ]
     },
     "execution_count": 483,
     "metadata": {},
     "output_type": "execute_result"
    }
   ],
   "source": [
    "arr = np.random.randn(3,10)\n",
    "arr.sort(axis=1)\n",
    "arr"
   ]
  },
  {
   "cell_type": "markdown",
   "id": "eafd01a2",
   "metadata": {},
   "source": [
    "#### 41. How to sum a small array faster than np.sum? (★★☆)"
   ]
  },
  {
   "cell_type": "code",
   "execution_count": 484,
   "id": "d0d61a8c",
   "metadata": {},
   "outputs": [
    {
     "data": {
      "text/plain": [
       "45"
      ]
     },
     "execution_count": 484,
     "metadata": {},
     "output_type": "execute_result"
    }
   ],
   "source": [
    "arr = np.arange(10)\n",
    "np.add.reduce(arr)"
   ]
  },
  {
   "cell_type": "markdown",
   "id": "9fda045a",
   "metadata": {},
   "source": [
    "#### 45. Create random vector of size 10 and replace the maximum value by 0 (★★☆)\n"
   ]
  },
  {
   "cell_type": "code",
   "execution_count": 488,
   "id": "5454732d",
   "metadata": {},
   "outputs": [
    {
     "data": {
      "text/plain": [
       "array([-1.33926561, -1.35657154,  0.        ,  1.76727411, -0.23557547,\n",
       "       -0.37203088, -0.52071336,  0.25819476,  1.061954  , -0.8285638 ])"
      ]
     },
     "execution_count": 488,
     "metadata": {},
     "output_type": "execute_result"
    }
   ],
   "source": [
    "arr = np.random.randn(10)\n",
    "arr[arr.argmax()] = 0\n",
    "arr"
   ]
  },
  {
   "cell_type": "markdown",
   "id": "c5cf0425",
   "metadata": {},
   "source": [
    "#### 46. Create a structured array with `x` and `y` coordinates covering the [0,1]x[0,1] area (★★☆)"
   ]
  },
  {
   "cell_type": "code",
   "execution_count": 498,
   "id": "fd5077b6",
   "metadata": {},
   "outputs": [],
   "source": [
    "x = np.linspace(0,1,5)\n",
    "y = np.linspace(0,1,5)\n",
    "xv, yv = np.meshgrid(x,y)\n"
   ]
  },
  {
   "cell_type": "code",
   "execution_count": 502,
   "id": "3d5f99a9",
   "metadata": {},
   "outputs": [
    {
     "data": {
      "text/plain": [
       "array([[(0.  , 0.), (0.25, 0.), (0.5 , 0.), (0.75, 0.), (1.  , 0.)],\n",
       "       [(0.  , 0.), (0.25, 0.), (0.5 , 0.), (0.75, 0.), (1.  , 0.)],\n",
       "       [(0.  , 0.), (0.25, 0.), (0.5 , 0.), (0.75, 0.), (1.  , 0.)],\n",
       "       [(0.  , 0.), (0.25, 0.), (0.5 , 0.), (0.75, 0.), (1.  , 0.)],\n",
       "       [(0.  , 0.), (0.25, 0.), (0.5 , 0.), (0.75, 0.), (1.  , 0.)]],\n",
       "      dtype=[('x', '<f8'), ('y', '<f8')])"
      ]
     },
     "execution_count": 502,
     "metadata": {},
     "output_type": "execute_result"
    }
   ],
   "source": [
    "Z = np.zeros((5,5), dtype=[('x',float),('y',float)])\n",
    "Z['x'] = xv\n",
    "Z"
   ]
  },
  {
   "cell_type": "code",
   "execution_count": 503,
   "id": "d189a3ca",
   "metadata": {},
   "outputs": [
    {
     "data": {
      "text/plain": [
       "array([[(0.  , 0.  ), (0.25, 0.  ), (0.5 , 0.  ), (0.75, 0.  ),\n",
       "        (1.  , 0.  )],\n",
       "       [(0.  , 0.25), (0.25, 0.25), (0.5 , 0.25), (0.75, 0.25),\n",
       "        (1.  , 0.25)],\n",
       "       [(0.  , 0.5 ), (0.25, 0.5 ), (0.5 , 0.5 ), (0.75, 0.5 ),\n",
       "        (1.  , 0.5 )],\n",
       "       [(0.  , 0.75), (0.25, 0.75), (0.5 , 0.75), (0.75, 0.75),\n",
       "        (1.  , 0.75)],\n",
       "       [(0.  , 1.  ), (0.25, 1.  ), (0.5 , 1.  ), (0.75, 1.  ),\n",
       "        (1.  , 1.  )]], dtype=[('x', '<f8'), ('y', '<f8')])"
      ]
     },
     "execution_count": 503,
     "metadata": {},
     "output_type": "execute_result"
    }
   ],
   "source": [
    "Z['y'] = yv\n",
    "Z"
   ]
  },
  {
   "cell_type": "code",
   "execution_count": 491,
   "id": "4ff762ad",
   "metadata": {},
   "outputs": [
    {
     "data": {
      "text/plain": [
       "[array([[0.  , 0.25, 0.5 , 0.75, 1.  ],\n",
       "        [0.  , 0.25, 0.5 , 0.75, 1.  ],\n",
       "        [0.  , 0.25, 0.5 , 0.75, 1.  ],\n",
       "        [0.  , 0.25, 0.5 , 0.75, 1.  ],\n",
       "        [0.  , 0.25, 0.5 , 0.75, 1.  ]]),\n",
       " array([[0.  , 0.  , 0.  , 0.  , 0.  ],\n",
       "        [0.25, 0.25, 0.25, 0.25, 0.25],\n",
       "        [0.5 , 0.5 , 0.5 , 0.5 , 0.5 ],\n",
       "        [0.75, 0.75, 0.75, 0.75, 0.75],\n",
       "        [1.  , 1.  , 1.  , 1.  , 1.  ]])]"
      ]
     },
     "execution_count": 491,
     "metadata": {},
     "output_type": "execute_result"
    }
   ],
   "source": [
    "xv, yv"
   ]
  },
  {
   "cell_type": "markdown",
   "id": "d34f6e07",
   "metadata": {},
   "source": [
    "#### 47. Given two arrays, X and Y, construct the Cauchy matrix C (Cij =1/(xi - yj)) (★★☆)"
   ]
  },
  {
   "cell_type": "code",
   "execution_count": 508,
   "id": "575cff84",
   "metadata": {},
   "outputs": [
    {
     "data": {
      "text/plain": [
       "array([[ -2.63008117,  -0.63041094,   2.42851816, -12.07598802],\n",
       "       [  6.74636012,  -0.94533826,   1.06358288,   2.24398629],\n",
       "       [ -0.76712039,  -0.39846561,  -1.95470473,  -0.99386891],\n",
       "       [ -0.5343877 ,  -0.3249548 ,  -0.92651751,  -0.63536716]])"
      ]
     },
     "execution_count": 508,
     "metadata": {},
     "output_type": "execute_result"
    }
   ],
   "source": [
    "X = np.random.randn(4) \n",
    "Y = np.random.randn(4)\n",
    "\n",
    "X = X.reshape(-1,1) # (B,) -> (B,1)\n",
    "Y = Y.reshape(1,-1) # (B,) -> (1,B)\n",
    "c_inverse = (X - Y)\n",
    "c = 1 / (X-Y)\n",
    "c"
   ]
  },
  {
   "cell_type": "code",
   "execution_count": 513,
   "id": "1017d27a",
   "metadata": {},
   "outputs": [
    {
     "data": {
      "text/plain": [
       "(4, 4)"
      ]
     },
     "execution_count": 513,
     "metadata": {},
     "output_type": "execute_result"
    }
   ],
   "source": [
    "c.shape"
   ]
  },
  {
   "cell_type": "code",
   "execution_count": 511,
   "id": "1f64e580",
   "metadata": {},
   "outputs": [
    {
     "data": {
      "text/plain": [
       "array([[[[ -2.63008117,  -0.63041094,   2.42851816, -12.07598802]]],\n",
       "\n",
       "\n",
       "       [[[  6.74636012,  -0.94533826,   1.06358288,   2.24398629]]],\n",
       "\n",
       "\n",
       "       [[[ -0.76712039,  -0.39846561,  -1.95470473,  -0.99386891]]],\n",
       "\n",
       "\n",
       "       [[[ -0.5343877 ,  -0.3249548 ,  -0.92651751,  -0.63536716]]]])"
      ]
     },
     "execution_count": 511,
     "metadata": {},
     "output_type": "execute_result"
    }
   ],
   "source": [
    "C = 1.0 / np.subtract.outer(X, Y)\n",
    "C"
   ]
  },
  {
   "cell_type": "code",
   "execution_count": 512,
   "id": "402bbe88",
   "metadata": {},
   "outputs": [
    {
     "data": {
      "text/plain": [
       "(4, 1, 1, 4)"
      ]
     },
     "execution_count": 512,
     "metadata": {},
     "output_type": "execute_result"
    }
   ],
   "source": [
    "C.shape"
   ]
  },
  {
   "cell_type": "markdown",
   "id": "b068fa07",
   "metadata": {},
   "source": [
    "#### 50. How to find the closest value (to a given scalar) in a vector? (★★☆)"
   ]
  },
  {
   "cell_type": "code",
   "execution_count": 514,
   "id": "a87e6913",
   "metadata": {},
   "outputs": [
    {
     "data": {
      "text/plain": [
       "0.4125410861603555"
      ]
     },
     "execution_count": 514,
     "metadata": {},
     "output_type": "execute_result"
    }
   ],
   "source": [
    "scalar = 0.2 # np.random.uniform(0,1)\n",
    "arr = np.random.randn(10)\n",
    "\n",
    "min_idx = np.argmin(abs(arr - scalar))\n",
    "arr[min_idx]"
   ]
  },
  {
   "cell_type": "code",
   "execution_count": 523,
   "id": "b9387d62",
   "metadata": {},
   "outputs": [
    {
     "data": {
      "text/plain": [
       "0.3808741738393616"
      ]
     },
     "execution_count": 523,
     "metadata": {},
     "output_type": "execute_result"
    }
   ],
   "source": [
    "# generate uniform value between 0 and 1\n",
    "np.random.uniform(0,1)"
   ]
  },
  {
   "cell_type": "code",
   "execution_count": 515,
   "id": "e28519f9",
   "metadata": {},
   "outputs": [
    {
     "data": {
      "text/plain": [
       "array([-1.55093623,  0.93014061, -0.2364752 , -0.03620578, -0.41053307,\n",
       "       -1.22516217, -1.49359436,  0.58668121,  0.41254109,  0.84619952])"
      ]
     },
     "execution_count": 515,
     "metadata": {},
     "output_type": "execute_result"
    }
   ],
   "source": [
    "arr"
   ]
  },
  {
   "cell_type": "code",
   "execution_count": 517,
   "id": "7dfe615d",
   "metadata": {},
   "outputs": [
    {
     "name": "stdout",
     "output_type": "stream",
     "text": [
      "0.4125410861603555\n"
     ]
    }
   ],
   "source": [
    "index = (np.abs(arr-scalar)).argmin()\n",
    "print(arr[index])"
   ]
  },
  {
   "cell_type": "markdown",
   "id": "11d57390",
   "metadata": {},
   "source": [
    "#### 51. Create a structured array representing a position (x,y) and a color (r,g,b) (★★☆)\n"
   ]
  },
  {
   "cell_type": "code",
   "execution_count": 535,
   "id": "34e36cc6",
   "metadata": {},
   "outputs": [
    {
     "name": "stdout",
     "output_type": "stream",
     "text": [
      "[((0., 0.), (0., 0., 0.)) ((0., 0.), (0., 0., 0.))\n",
      " ((0., 0.), (0., 0., 0.)) ((0., 0.), (0., 0., 0.))\n",
      " ((0., 0.), (0., 0., 0.)) ((0., 0.), (0., 0., 0.))\n",
      " ((0., 0.), (0., 0., 0.)) ((0., 0.), (0., 0., 0.))\n",
      " ((0., 0.), (0., 0., 0.)) ((0., 0.), (0., 0., 0.))]\n"
     ]
    },
    {
     "name": "stderr",
     "output_type": "stream",
     "text": [
      "/var/folders/q4/s7bw96810896_5s4r65jl0780000gn/T/ipykernel_29596/2502239146.py:1: FutureWarning: Passing (type, 1) or '1type' as a synonym of type is deprecated; in a future version of numpy, it will be understood as (type, (1,)) / '(1,)type'.\n",
      "  Z = np.zeros(10, dtype=[ ('position', [ ('x', float, 1),\n"
     ]
    }
   ],
   "source": [
    "Z = np.zeros(10, dtype=[ ('position', [ ('x', float, 1),\n",
    "                                  ('y', float, 1)]),\n",
    "                   ('color',    [ ('r', float, 1),\n",
    "                                  ('g', float, 1),\n",
    "                                  ('b', float, 1)])])\n",
    "print(Z)"
   ]
  },
  {
   "cell_type": "markdown",
   "id": "3e3d2670",
   "metadata": {},
   "source": [
    "#### 52. Consider a random vector with shape (100,2) representing coordinates, find point by point distances (★★☆)\n"
   ]
  },
  {
   "cell_type": "code",
   "execution_count": 563,
   "id": "0dc7b487",
   "metadata": {},
   "outputs": [
    {
     "data": {
      "text/plain": [
       "array([[0.        , 1.37915842, 1.41010368, ..., 3.13802504, 0.33488855,\n",
       "        1.29744483],\n",
       "       [1.37915842, 0.        , 1.00018956, ..., 2.02671724, 1.30982611,\n",
       "        1.12470699],\n",
       "       [1.41010368, 1.00018956, 0.        , ..., 2.96843665, 1.12941008,\n",
       "        0.21115367],\n",
       "       ...,\n",
       "       [3.13802504, 2.02671724, 2.96843665, ..., 0.        , 3.20837438,\n",
       "        3.12740241],\n",
       "       [0.33488855, 1.30982611, 1.12941008, ..., 3.20837438, 0.        ,\n",
       "        0.99364413],\n",
       "       [1.29744483, 1.12470699, 0.21115367, ..., 3.12740241, 0.99364413,\n",
       "        0.        ]])"
      ]
     },
     "execution_count": 563,
     "metadata": {},
     "output_type": "execute_result"
    }
   ],
   "source": [
    "arr = np.random.randn(100,2)\n",
    "# distance = sum_i((xi-yi)**2).sqrt()\n",
    "arr1 = arr.reshape(100,1,2)\n",
    "arr2 = arr.reshape(1,100,2)\n",
    "res = np.sqrt(np.sum((arr1 - arr2)**2, axis=2))\n",
    "res"
   ]
  },
  {
   "cell_type": "code",
   "execution_count": 564,
   "id": "b77b456a",
   "metadata": {},
   "outputs": [
    {
     "name": "stdout",
     "output_type": "stream",
     "text": [
      "[[0.         1.37915842 1.41010368 ... 3.13802504 0.33488855 1.29744483]\n",
      " [1.37915842 0.         1.00018956 ... 2.02671724 1.30982611 1.12470699]\n",
      " [1.41010368 1.00018956 0.         ... 2.96843665 1.12941008 0.21115367]\n",
      " ...\n",
      " [3.13802504 2.02671724 2.96843665 ... 0.         3.20837438 3.12740241]\n",
      " [0.33488855 1.30982611 1.12941008 ... 3.20837438 0.         0.99364413]\n",
      " [1.29744483 1.12470699 0.21115367 ... 3.12740241 0.99364413 0.        ]]\n"
     ]
    }
   ],
   "source": [
    "Z = arr\n",
    "X,Y = np.atleast_2d(Z[:,0], Z[:,1])\n",
    "D = np.sqrt( (X-X.T)**2 + (Y-Y.T)**2)\n",
    "print(D)"
   ]
  },
  {
   "cell_type": "code",
   "execution_count": 565,
   "id": "9eae3f5d",
   "metadata": {},
   "outputs": [
    {
     "data": {
      "text/plain": [
       "array([[0.        , 1.37915842, 1.41010368, ..., 3.13802504, 0.33488855,\n",
       "        1.29744483],\n",
       "       [1.37915842, 0.        , 1.00018956, ..., 2.02671724, 1.30982611,\n",
       "        1.12470699],\n",
       "       [1.41010368, 1.00018956, 0.        , ..., 2.96843665, 1.12941008,\n",
       "        0.21115367],\n",
       "       ...,\n",
       "       [3.13802504, 2.02671724, 2.96843665, ..., 0.        , 3.20837438,\n",
       "        3.12740241],\n",
       "       [0.33488855, 1.30982611, 1.12941008, ..., 3.20837438, 0.        ,\n",
       "        0.99364413],\n",
       "       [1.29744483, 1.12470699, 0.21115367, ..., 3.12740241, 0.99364413,\n",
       "        0.        ]])"
      ]
     },
     "execution_count": 565,
     "metadata": {},
     "output_type": "execute_result"
    }
   ],
   "source": [
    "np.sqrt(((X - X.T)**2 + (Y-Y.T)**2))"
   ]
  },
  {
   "cell_type": "code",
   "execution_count": 557,
   "id": "bb99e628",
   "metadata": {},
   "outputs": [
    {
     "data": {
      "text/plain": [
       "True"
      ]
     },
     "execution_count": 557,
     "metadata": {},
     "output_type": "execute_result"
    }
   ],
   "source": [
    "np.allclose(res, D)"
   ]
  },
  {
   "cell_type": "code",
   "execution_count": 566,
   "id": "e3dfba8e",
   "metadata": {},
   "outputs": [
    {
     "name": "stdout",
     "output_type": "stream",
     "text": [
      "[[0.         0.13261599 0.53035249 0.66323427 0.75126628 0.73893211\n",
      "  0.64587491 0.78107605 0.54896474 0.36110236]\n",
      " [0.13261599 0.         0.64917902 0.77859043 0.88173643 0.86397972\n",
      "  0.77262336 0.91313015 0.68151906 0.49371801]\n",
      " [0.53035249 0.64917902 0.         0.13620807 0.29770559 0.57315365\n",
      "  0.49120464 0.36413466 0.29196754 0.27824581]\n",
      " [0.66323427 0.77859043 0.13620807 0.         0.27284894 0.63329209\n",
      "  0.56413982 0.35110923 0.37297753 0.40571784]\n",
      " [0.75126628 0.88173643 0.29770559 0.27284894 0.         0.41450601\n",
      "  0.37511412 0.07913361 0.25003089 0.4028267 ]\n",
      " [0.73893211 0.86397972 0.57315365 0.63329209 0.41450601 0.\n",
      "  0.09722364 0.3546582  0.28456355 0.42311671]\n",
      " [0.64587491 0.77262336 0.49120464 0.56413982 0.37511412 0.09722364\n",
      "  0.         0.3299677  0.19926174 0.32599554]\n",
      " [0.78107605 0.91313015 0.36413466 0.35110923 0.07913361 0.3546582\n",
      "  0.3299677  0.         0.24802042 0.42311626]\n",
      " [0.54896474 0.68151906 0.29196754 0.37297753 0.25003089 0.28456355\n",
      "  0.19926174 0.24802042 0.         0.18856813]\n",
      " [0.36110236 0.49371801 0.27824581 0.40571784 0.4028267  0.42311671\n",
      "  0.32599554 0.42311626 0.18856813 0.        ]]\n"
     ]
    }
   ],
   "source": [
    "# Much faster with scipy\n",
    "import scipy\n",
    "# Thanks Gavin Heverly-Coulson (#issue 1)\n",
    "import scipy.spatial\n",
    "\n",
    "Z = np.random.random((10,2))\n",
    "D = scipy.spatial.distance.cdist(Z,Z)\n",
    "print(D)"
   ]
  },
  {
   "cell_type": "markdown",
   "id": "dc984570",
   "metadata": {},
   "source": [
    "#### 53. How to convert a float (32 bits) array into an integer (32 bits) in place?"
   ]
  },
  {
   "cell_type": "code",
   "execution_count": 571,
   "id": "ba25bee3",
   "metadata": {},
   "outputs": [
    {
     "data": {
      "text/plain": [
       "dtype('float64')"
      ]
     },
     "execution_count": 571,
     "metadata": {},
     "output_type": "execute_result"
    }
   ],
   "source": [
    "arr = np.random.randn(2,3)\n",
    "assert arr.dtype == np.float64\n",
    "arr.astype(np.int32)\n"
   ]
  },
  {
   "cell_type": "markdown",
   "id": "216af5fb",
   "metadata": {},
   "source": [
    "#### 54. How to read the following file? (★★☆)\n",
    "\n",
    "```\n",
    "1, 2, 3, 4, 5\n",
    "6,  ,  , 7, 8\n",
    " ,  , 9,10,11\n",
    "```"
   ]
  },
  {
   "cell_type": "code",
   "execution_count": 574,
   "id": "8f16f266",
   "metadata": {},
   "outputs": [
    {
     "name": "stdout",
     "output_type": "stream",
     "text": [
      "[[ 1  2  3  4  5]\n",
      " [ 6 -1 -1  7  8]\n",
      " [-1 -1  9 10 11]]\n"
     ]
    }
   ],
   "source": [
    "from io import StringIO\n",
    "# Fake file\n",
    "s = StringIO('''1, 2, 3, 4, 5\n",
    "\n",
    "                6,  ,  , 7, 8\n",
    "\n",
    "                 ,  , 9,10,11\n",
    "''')\n",
    "Z = np.genfromtxt(s, delimiter=\",\", dtype=np.int32)\n",
    "print(Z)"
   ]
  },
  {
   "cell_type": "markdown",
   "id": "36cd7e1a",
   "metadata": {},
   "source": [
    "#### 55. What is the equivalent of enumerate for numpy arrays? (★★☆)"
   ]
  },
  {
   "cell_type": "code",
   "execution_count": 578,
   "id": "6ec91fe3",
   "metadata": {},
   "outputs": [
    {
     "name": "stdout",
     "output_type": "stream",
     "text": [
      "[[ 0.58816099 -0.18413209  1.12744024  0.19073896 -0.23311172]\n",
      " [-0.34055486  0.71604779  0.83845414  0.34800331 -1.08613593]\n",
      " [ 1.52388439  0.49962839 -0.65352075 -0.70334088  0.21618474]\n",
      " [-0.49656601  1.56884503  1.73403019  1.32087836 -1.44682355]]\n"
     ]
    }
   ],
   "source": [
    "arr = np.random.randn(4,5)\n",
    "print(arr)"
   ]
  },
  {
   "cell_type": "code",
   "execution_count": 587,
   "id": "4d886c52",
   "metadata": {},
   "outputs": [
    {
     "name": "stdout",
     "output_type": "stream",
     "text": [
      "(0, 0) 0.588160989790001\n",
      "(0, 1) -0.1841320852934122\n",
      "(0, 2) 1.1274402409330648\n",
      "(0, 3) 0.19073895653054868\n",
      "(0, 4) -0.233111716728374\n",
      "(1, 0) -0.34055486291940024\n",
      "(1, 1) 0.7160477868475582\n",
      "(1, 2) 0.8384541409442194\n",
      "(1, 3) 0.34800331031083404\n",
      "(1, 4) -1.0861359310839542\n",
      "(2, 0) 1.523884392812116\n",
      "(2, 1) 0.4996283858818928\n",
      "(2, 2) -0.6535207540610698\n",
      "(2, 3) -0.7033408805014214\n",
      "(2, 4) 0.21618473995405665\n",
      "(3, 0) -0.49656601107674464\n",
      "(3, 1) 1.5688450283685245\n",
      "(3, 2) 1.734030185881629\n",
      "(3, 3) 1.320878358234996\n",
      "(3, 4) -1.4468235454647957\n"
     ]
    }
   ],
   "source": [
    "for index, value in np.ndenumerate(arr):\n",
    "    print(index, value)"
   ]
  },
  {
   "cell_type": "code",
   "execution_count": null,
   "id": "96c857b4",
   "metadata": {},
   "outputs": [],
   "source": [
    "A = np.arange(3).reshape(3,1)\n",
    "B = np.arange(3).reshape(1,3)\n",
    "it = np.nditer([A,B,None])\n",
    "for x,y,z in it: z[...] = x + y"
   ]
  },
  {
   "cell_type": "code",
   "execution_count": 591,
   "id": "acd20630",
   "metadata": {
    "scrolled": true
   },
   "outputs": [
    {
     "name": "stdout",
     "output_type": "stream",
     "text": [
      "(0, 0)\n",
      "(0, 1)\n",
      "(0, 2)\n",
      "(0, 3)\n",
      "(0, 4)\n",
      "(1, 0)\n",
      "(1, 1)\n",
      "(1, 2)\n",
      "(1, 3)\n",
      "(1, 4)\n",
      "(2, 0)\n",
      "(2, 1)\n",
      "(2, 2)\n",
      "(2, 3)\n",
      "(2, 4)\n",
      "(3, 0)\n",
      "(3, 1)\n",
      "(3, 2)\n",
      "(3, 3)\n",
      "(3, 4)\n"
     ]
    }
   ],
   "source": [
    "for i in np.ndindex(arr.shape):\n",
    "    print(i)"
   ]
  },
  {
   "cell_type": "markdown",
   "id": "973fe214",
   "metadata": {},
   "source": [
    "#### 56. Generate a generic 2D Gaussian-like array (★★☆)"
   ]
  },
  {
   "cell_type": "code",
   "execution_count": null,
   "id": "957866c1",
   "metadata": {},
   "outputs": [],
   "source": [
    "arr = np.random.randn(2,3)\n"
   ]
  },
  {
   "cell_type": "code",
   "execution_count": 592,
   "id": "1427340b",
   "metadata": {},
   "outputs": [
    {
     "name": "stdout",
     "output_type": "stream",
     "text": [
      "[[0.36787944 0.44822088 0.51979489 0.57375342 0.60279818 0.60279818\n",
      "  0.57375342 0.51979489 0.44822088 0.36787944]\n",
      " [0.44822088 0.54610814 0.63331324 0.69905581 0.73444367 0.73444367\n",
      "  0.69905581 0.63331324 0.54610814 0.44822088]\n",
      " [0.51979489 0.63331324 0.73444367 0.81068432 0.85172308 0.85172308\n",
      "  0.81068432 0.73444367 0.63331324 0.51979489]\n",
      " [0.57375342 0.69905581 0.81068432 0.89483932 0.9401382  0.9401382\n",
      "  0.89483932 0.81068432 0.69905581 0.57375342]\n",
      " [0.60279818 0.73444367 0.85172308 0.9401382  0.98773022 0.98773022\n",
      "  0.9401382  0.85172308 0.73444367 0.60279818]\n",
      " [0.60279818 0.73444367 0.85172308 0.9401382  0.98773022 0.98773022\n",
      "  0.9401382  0.85172308 0.73444367 0.60279818]\n",
      " [0.57375342 0.69905581 0.81068432 0.89483932 0.9401382  0.9401382\n",
      "  0.89483932 0.81068432 0.69905581 0.57375342]\n",
      " [0.51979489 0.63331324 0.73444367 0.81068432 0.85172308 0.85172308\n",
      "  0.81068432 0.73444367 0.63331324 0.51979489]\n",
      " [0.44822088 0.54610814 0.63331324 0.69905581 0.73444367 0.73444367\n",
      "  0.69905581 0.63331324 0.54610814 0.44822088]\n",
      " [0.36787944 0.44822088 0.51979489 0.57375342 0.60279818 0.60279818\n",
      "  0.57375342 0.51979489 0.44822088 0.36787944]]\n"
     ]
    }
   ],
   "source": [
    "X, Y = np.meshgrid(np.linspace(-1,1,10), np.linspace(-1,1,10))\n",
    "D = np.sqrt(X*X+Y*Y)\n",
    "sigma, mu = 1.0, 0.0\n",
    "G = np.exp(-( (D-mu)**2 / ( 2.0 * sigma**2 ) ) )\n",
    "print(G)"
   ]
  },
  {
   "cell_type": "markdown",
   "id": "0adbcc61",
   "metadata": {},
   "source": [
    "### 57. How to randomly place p elements in a 2D array? (★★☆)"
   ]
  },
  {
   "cell_type": "code",
   "execution_count": 630,
   "id": "2156a4b7",
   "metadata": {},
   "outputs": [],
   "source": [
    "p = np.arange(6)\n",
    "\n",
    "n = 10\n",
    "p = 3\n",
    "arr = np.zeros((10,10))"
   ]
  },
  {
   "cell_type": "code",
   "execution_count": 631,
   "id": "30684b01",
   "metadata": {
    "scrolled": true
   },
   "outputs": [
    {
     "data": {
      "text/plain": [
       "array([[0., 0., 0., 0., 0., 0., 0., 0., 0., 0.],\n",
       "       [0., 0., 0., 0., 0., 0., 0., 0., 0., 0.],\n",
       "       [0., 0., 0., 0., 0., 0., 0., 0., 0., 0.],\n",
       "       [0., 0., 0., 0., 0., 0., 0., 0., 0., 0.],\n",
       "       [0., 0., 0., 0., 0., 0., 0., 0., 0., 0.],\n",
       "       [0., 0., 0., 0., 0., 0., 0., 0., 0., 0.],\n",
       "       [0., 0., 0., 0., 0., 0., 0., 0., 0., 0.],\n",
       "       [0., 0., 0., 0., 0., 0., 0., 0., 0., 0.],\n",
       "       [0., 0., 0., 0., 0., 0., 0., 0., 0., 0.],\n",
       "       [0., 0., 0., 0., 0., 0., 0., 0., 0., 0.]])"
      ]
     },
     "execution_count": 631,
     "metadata": {},
     "output_type": "execute_result"
    }
   ],
   "source": [
    "arr"
   ]
  },
  {
   "cell_type": "code",
   "execution_count": 612,
   "id": "8ac8d514",
   "metadata": {},
   "outputs": [
    {
     "data": {
      "text/plain": [
       "array([], shape=(0, 1, 2, 3, 4, 5), dtype=int64)"
      ]
     },
     "execution_count": 612,
     "metadata": {},
     "output_type": "execute_result"
    }
   ],
   "source": [
    "\n",
    "np.random.choice(range(n*n), p, replace=False)"
   ]
  },
  {
   "cell_type": "code",
   "execution_count": 632,
   "id": "6c97033b",
   "metadata": {},
   "outputs": [],
   "source": [
    "np.put(arr, np.random.choice(range(n*n), p, replace=False), 1)"
   ]
  },
  {
   "cell_type": "code",
   "execution_count": 634,
   "id": "670c3a6e",
   "metadata": {},
   "outputs": [
    {
     "data": {
      "text/plain": [
       "range(0, 100)"
      ]
     },
     "execution_count": 634,
     "metadata": {},
     "output_type": "execute_result"
    }
   ],
   "source": [
    "range(n*n)"
   ]
  },
  {
   "cell_type": "code",
   "execution_count": 633,
   "id": "9487faf2",
   "metadata": {},
   "outputs": [
    {
     "data": {
      "text/plain": [
       "array([[0., 0., 0., 0., 0., 0., 0., 0., 0., 0.],\n",
       "       [0., 0., 0., 0., 0., 0., 0., 0., 0., 0.],\n",
       "       [0., 0., 0., 0., 0., 0., 0., 0., 0., 0.],\n",
       "       [0., 0., 0., 0., 0., 0., 0., 0., 0., 0.],\n",
       "       [0., 0., 0., 0., 0., 1., 0., 0., 0., 0.],\n",
       "       [0., 0., 0., 0., 0., 0., 0., 0., 0., 0.],\n",
       "       [0., 0., 1., 0., 0., 0., 0., 0., 0., 0.],\n",
       "       [0., 0., 0., 0., 0., 0., 0., 1., 0., 0.],\n",
       "       [0., 0., 0., 0., 0., 0., 0., 0., 0., 0.],\n",
       "       [0., 0., 0., 0., 0., 0., 0., 0., 0., 0.]])"
      ]
     },
     "execution_count": 633,
     "metadata": {},
     "output_type": "execute_result"
    }
   ],
   "source": [
    "arr"
   ]
  },
  {
   "cell_type": "code",
   "execution_count": 621,
   "id": "98360a62",
   "metadata": {},
   "outputs": [
    {
     "name": "stdout",
     "output_type": "stream",
     "text": [
      "[[0. 0. 0. 0. 0. 0. 0. 0. 0. 0.]\n",
      " [0. 0. 0. 0. 0. 1. 0. 0. 0. 0.]\n",
      " [0. 0. 0. 0. 0. 0. 0. 0. 0. 0.]\n",
      " [0. 0. 0. 0. 0. 0. 0. 0. 0. 0.]\n",
      " [0. 0. 0. 0. 0. 0. 0. 0. 0. 0.]\n",
      " [0. 0. 0. 0. 0. 0. 0. 0. 0. 0.]\n",
      " [0. 0. 0. 0. 0. 0. 0. 0. 0. 0.]\n",
      " [0. 0. 0. 1. 0. 0. 0. 0. 0. 0.]\n",
      " [0. 0. 0. 0. 0. 0. 0. 0. 0. 0.]\n",
      " [0. 0. 0. 0. 0. 0. 0. 0. 1. 0.]]\n"
     ]
    }
   ],
   "source": [
    "n = 10\n",
    "p = 3\n",
    "Z = np.zeros((n,n))\n",
    "np.put(Z, np.random.choice(range(n*n), p, replace=False),1)\n",
    "print(Z)"
   ]
  },
  {
   "cell_type": "code",
   "execution_count": 638,
   "id": "498c3eb5",
   "metadata": {},
   "outputs": [],
   "source": [
    "np.put(Z, 4, 5)"
   ]
  },
  {
   "cell_type": "code",
   "execution_count": 639,
   "id": "03fff079",
   "metadata": {},
   "outputs": [
    {
     "data": {
      "text/plain": [
       "array([[0., 0., 0., 0., 5., 0., 0., 0., 0., 0.],\n",
       "       [0., 0., 0., 0., 0., 1., 0., 0., 0., 0.],\n",
       "       [0., 0., 0., 0., 0., 0., 0., 0., 0., 0.],\n",
       "       [0., 0., 0., 0., 0., 0., 0., 0., 0., 0.],\n",
       "       [0., 0., 0., 0., 0., 0., 0., 0., 0., 0.],\n",
       "       [0., 0., 0., 0., 0., 0., 0., 0., 0., 0.],\n",
       "       [0., 0., 0., 0., 0., 0., 0., 0., 0., 0.],\n",
       "       [0., 0., 0., 1., 0., 0., 0., 0., 0., 0.],\n",
       "       [0., 0., 0., 0., 0., 0., 0., 0., 0., 0.],\n",
       "       [0., 0., 0., 0., 0., 0., 0., 0., 1., 5.]])"
      ]
     },
     "execution_count": 639,
     "metadata": {},
     "output_type": "execute_result"
    }
   ],
   "source": [
    "Z"
   ]
  },
  {
   "cell_type": "markdown",
   "id": "70ce2716",
   "metadata": {},
   "source": [
    "#### 58. Subtract the mean of each row of a matrix (★★☆)"
   ]
  },
  {
   "cell_type": "code",
   "execution_count": 642,
   "id": "c6419b6b",
   "metadata": {},
   "outputs": [
    {
     "data": {
      "text/plain": [
       "array([[-0.48593374, -0.91584424, -0.47336603,  1.87514401],\n",
       "       [-0.0165794 ,  1.23827796, -0.16359292, -1.05810564],\n",
       "       [-0.01507912, -0.50069005,  0.08685133,  0.42891783]])"
      ]
     },
     "execution_count": 642,
     "metadata": {},
     "output_type": "execute_result"
    }
   ],
   "source": [
    "arr = np.random.randn(3,4)\n",
    "mean = arr.mean(axis=1).reshape(-1,1)\n",
    "out = arr -  mean\n",
    "out"
   ]
  },
  {
   "cell_type": "code",
   "execution_count": 647,
   "id": "e442fa44",
   "metadata": {},
   "outputs": [
    {
     "data": {
      "text/plain": [
       "array([[-0.48593374, -0.91584424, -0.47336603,  1.87514401],\n",
       "       [-0.0165794 ,  1.23827796, -0.16359292, -1.05810564],\n",
       "       [-0.01507912, -0.50069005,  0.08685133,  0.42891783]])"
      ]
     },
     "execution_count": 647,
     "metadata": {},
     "output_type": "execute_result"
    }
   ],
   "source": [
    "mean = arr.mean(axis=1, keepdims=True)\n",
    "\n",
    "out2 = arr - mean\n",
    "out2"
   ]
  },
  {
   "cell_type": "markdown",
   "id": "09696dc4",
   "metadata": {},
   "source": [
    "#### 59. How to sort an array by the nth column? (★★☆)"
   ]
  },
  {
   "cell_type": "code",
   "execution_count": 650,
   "id": "4d845969",
   "metadata": {},
   "outputs": [
    {
     "ename": "AxisError",
     "evalue": "axis 2 is out of bounds for array of dimension 2",
     "output_type": "error",
     "traceback": [
      "\u001b[0;31m---------------------------------------------------------------------------\u001b[0m",
      "\u001b[0;31mAxisError\u001b[0m                                 Traceback (most recent call last)",
      "Cell \u001b[0;32mIn[650], line 2\u001b[0m\n\u001b[1;32m      1\u001b[0m arr \u001b[38;5;241m=\u001b[39m np\u001b[38;5;241m.\u001b[39mrandom\u001b[38;5;241m.\u001b[39mrandn(\u001b[38;5;241m3\u001b[39m,\u001b[38;5;241m4\u001b[39m)\n\u001b[0;32m----> 2\u001b[0m \u001b[43mnp\u001b[49m\u001b[38;5;241;43m.\u001b[39;49m\u001b[43msort\u001b[49m\u001b[43m(\u001b[49m\u001b[43marr\u001b[49m\u001b[43m,\u001b[49m\u001b[43m \u001b[49m\u001b[43maxis\u001b[49m\u001b[38;5;241;43m=\u001b[39;49m\u001b[38;5;241;43m2\u001b[39;49m\u001b[43m)\u001b[49m\n",
      "File \u001b[0;32m<__array_function__ internals>:180\u001b[0m, in \u001b[0;36msort\u001b[0;34m(*args, **kwargs)\u001b[0m\n",
      "File \u001b[0;32m/opt/homebrew/lib/python3.11/site-packages/numpy/core/fromnumeric.py:1004\u001b[0m, in \u001b[0;36msort\u001b[0;34m(a, axis, kind, order)\u001b[0m\n\u001b[1;32m   1002\u001b[0m \u001b[38;5;28;01melse\u001b[39;00m:\n\u001b[1;32m   1003\u001b[0m     a \u001b[38;5;241m=\u001b[39m asanyarray(a)\u001b[38;5;241m.\u001b[39mcopy(order\u001b[38;5;241m=\u001b[39m\u001b[38;5;124m\"\u001b[39m\u001b[38;5;124mK\u001b[39m\u001b[38;5;124m\"\u001b[39m)\n\u001b[0;32m-> 1004\u001b[0m \u001b[43ma\u001b[49m\u001b[38;5;241;43m.\u001b[39;49m\u001b[43msort\u001b[49m\u001b[43m(\u001b[49m\u001b[43maxis\u001b[49m\u001b[38;5;241;43m=\u001b[39;49m\u001b[43maxis\u001b[49m\u001b[43m,\u001b[49m\u001b[43m \u001b[49m\u001b[43mkind\u001b[49m\u001b[38;5;241;43m=\u001b[39;49m\u001b[43mkind\u001b[49m\u001b[43m,\u001b[49m\u001b[43m \u001b[49m\u001b[43morder\u001b[49m\u001b[38;5;241;43m=\u001b[39;49m\u001b[43morder\u001b[49m\u001b[43m)\u001b[49m\n\u001b[1;32m   1005\u001b[0m \u001b[38;5;28;01mreturn\u001b[39;00m a\n",
      "\u001b[0;31mAxisError\u001b[0m: axis 2 is out of bounds for array of dimension 2"
     ]
    }
   ],
   "source": [
    "arr = np.random.randn(3,4)\n",
    "np.sort(arr, axis=2)"
   ]
  },
  {
   "cell_type": "code",
   "execution_count": 652,
   "id": "5e84d773",
   "metadata": {},
   "outputs": [
    {
     "data": {
      "text/plain": [
       "array([[-0.36535971,  0.26737404, -0.23760077,  0.76739251],\n",
       "       [-1.34692885, -0.91457998,  0.54363422, -0.3311822 ],\n",
       "       [ 0.59387584, -0.16118981,  0.74986464,  0.49813251]])"
      ]
     },
     "execution_count": 652,
     "metadata": {},
     "output_type": "execute_result"
    }
   ],
   "source": [
    "n = 2\n",
    "arr[np.argsort(arr[:,n])]"
   ]
  },
  {
   "cell_type": "markdown",
   "id": "5955df24",
   "metadata": {},
   "source": [
    "#### 60. How to tell if a given 2D array has null columns? (★★☆)"
   ]
  },
  {
   "cell_type": "code",
   "execution_count": 655,
   "id": "b8db40c9",
   "metadata": {},
   "outputs": [
    {
     "data": {
      "text/plain": [
       "array([[ 0.79985346, -3.11668824,         nan, -1.05570492],\n",
       "       [ 0.22247118, -0.12403024,         nan,  0.0978099 ],\n",
       "       [-0.0370751 , -0.47981207,         nan,  0.74529397]])"
      ]
     },
     "execution_count": 655,
     "metadata": {},
     "output_type": "execute_result"
    }
   ],
   "source": [
    "arr = np.random.randn(3,4)\n",
    "arr[:,2] = np.nan\n",
    "arr"
   ]
  },
  {
   "cell_type": "code",
   "execution_count": 665,
   "id": "a922ea2e",
   "metadata": {},
   "outputs": [
    {
     "data": {
      "text/plain": [
       "array([ True,  True,  True,  True])"
      ]
     },
     "execution_count": 665,
     "metadata": {},
     "output_type": "execute_result"
    }
   ],
   "source": [
    "arr.any(axis=0)"
   ]
  },
  {
   "cell_type": "code",
   "execution_count": 667,
   "id": "3fc0869d",
   "metadata": {},
   "outputs": [
    {
     "data": {
      "text/plain": [
       "array([False, False,  True, False])"
      ]
     },
     "execution_count": 667,
     "metadata": {},
     "output_type": "execute_result"
    }
   ],
   "source": [
    "np.isnan(arr).all(axis=0)"
   ]
  },
  {
   "cell_type": "markdown",
   "id": "8eb48c34",
   "metadata": {},
   "source": [
    "when null is 0"
   ]
  },
  {
   "cell_type": "code",
   "execution_count": 668,
   "id": "c922760a",
   "metadata": {},
   "outputs": [
    {
     "name": "stdout",
     "output_type": "stream",
     "text": [
      "True\n"
     ]
    }
   ],
   "source": [
    "# null : 0 \n",
    "Z = arr\n",
    "arr[:,1] = 0\n",
    "print((~Z.any(axis=0)).any())"
   ]
  },
  {
   "cell_type": "code",
   "execution_count": 671,
   "id": "3c87714d",
   "metadata": {},
   "outputs": [
    {
     "data": {
      "text/plain": [
       "array([[ 0.79985346,  0.        ,         nan, -1.05570492],\n",
       "       [ 0.22247118,  0.        ,         nan,  0.0978099 ],\n",
       "       [-0.0370751 ,  0.        ,         nan,  0.74529397]])"
      ]
     },
     "execution_count": 671,
     "metadata": {},
     "output_type": "execute_result"
    }
   ],
   "source": [
    "Z"
   ]
  },
  {
   "cell_type": "code",
   "execution_count": 669,
   "id": "c147affb",
   "metadata": {},
   "outputs": [
    {
     "data": {
      "text/plain": [
       "array([ True, False,  True,  True])"
      ]
     },
     "execution_count": 669,
     "metadata": {},
     "output_type": "execute_result"
    }
   ],
   "source": [
    "Z.any(axis=0)"
   ]
  },
  {
   "cell_type": "markdown",
   "id": "bf0d7f25",
   "metadata": {},
   "source": [
    "#### 61. Find the nearest value from a given value in an array (★★☆)"
   ]
  },
  {
   "cell_type": "code",
   "execution_count": 680,
   "id": "2c3844d5",
   "metadata": {},
   "outputs": [
    {
     "data": {
      "text/plain": [
       "array([0.11892463, 0.91420248, 0.71680921, 0.52677798, 0.43387591,\n",
       "       0.43599015, 0.72686141, 0.0077248 , 0.2455863 , 0.65933462])"
      ]
     },
     "execution_count": 680,
     "metadata": {},
     "output_type": "execute_result"
    }
   ],
   "source": [
    "value = 1\n",
    "arr = np.random.randint(low=0, high=10, size=(12,))\n",
    "arr = np.random.uniform(0,1,(10))\n",
    "arr"
   ]
  },
  {
   "cell_type": "code",
   "execution_count": 681,
   "id": "6beb175a",
   "metadata": {},
   "outputs": [
    {
     "data": {
      "text/plain": [
       "0.2455862991064407"
      ]
     },
     "execution_count": 681,
     "metadata": {},
     "output_type": "execute_result"
    }
   ],
   "source": [
    "val = 0.2\n",
    "arr[abs(arr - val).argmin()]"
   ]
  },
  {
   "cell_type": "code",
   "execution_count": 682,
   "id": "c6c15389",
   "metadata": {},
   "outputs": [
    {
     "name": "stdout",
     "output_type": "stream",
     "text": [
      "0.2455862991064407\n"
     ]
    }
   ],
   "source": [
    "val = 0.2\n",
    "m = arr.flat[np.abs(arr - val).argmin()]\n",
    "print(m)"
   ]
  },
  {
   "cell_type": "code",
   "execution_count": 684,
   "id": "f9c10d55",
   "metadata": {},
   "outputs": [
    {
     "data": {
      "text/plain": [
       "0.71680921039529"
      ]
     },
     "execution_count": 684,
     "metadata": {},
     "output_type": "execute_result"
    }
   ],
   "source": [
    "arr.flat[2]"
   ]
  },
  {
   "cell_type": "code",
   "execution_count": 685,
   "id": "b620e90c",
   "metadata": {},
   "outputs": [
    {
     "data": {
      "text/plain": [
       "array([[1, 2, 3],\n",
       "       [4, 5, 6]])"
      ]
     },
     "execution_count": 685,
     "metadata": {},
     "output_type": "execute_result"
    }
   ],
   "source": [
    "x = np.arange(1, 7).reshape(2, 3)\n",
    "x"
   ]
  },
  {
   "cell_type": "code",
   "execution_count": 687,
   "id": "8762989a",
   "metadata": {},
   "outputs": [
    {
     "data": {
      "text/plain": [
       "6"
      ]
     },
     "execution_count": 687,
     "metadata": {},
     "output_type": "execute_result"
    }
   ],
   "source": [
    "x.flat[5]"
   ]
  },
  {
   "cell_type": "markdown",
   "id": "905a12d2",
   "metadata": {},
   "source": [
    "#### 64. Consider a given vector, how to add 1 to each element indexed by a second vector (be careful with repeated indices)? (★★★)"
   ]
  },
  {
   "cell_type": "code",
   "execution_count": 690,
   "id": "fe8ce1b0",
   "metadata": {},
   "outputs": [],
   "source": [
    "arr = np.zeros(10)\n",
    "index = [0,0,1,1,2,2]\n",
    "np.add.at(arr, index, 1)"
   ]
  },
  {
   "cell_type": "code",
   "execution_count": 691,
   "id": "8c8d84a0",
   "metadata": {},
   "outputs": [
    {
     "data": {
      "text/plain": [
       "array([2., 2., 2., 0., 0., 0., 0., 0., 0., 0.])"
      ]
     },
     "execution_count": 691,
     "metadata": {},
     "output_type": "execute_result"
    }
   ],
   "source": [
    "arr"
   ]
  },
  {
   "cell_type": "markdown",
   "id": "9384c1aa",
   "metadata": {},
   "source": [
    "#### 65. How to accumulate elements of a vector (X) to an array (F) based on an index list (I)? (★★★)"
   ]
  },
  {
   "cell_type": "code",
   "execution_count": 695,
   "id": "a55930ef",
   "metadata": {},
   "outputs": [],
   "source": [
    "F = np.zeros(10)\n",
    "X = np.arange(10)\n",
    "I = np.random.randint(10, size=(10,))"
   ]
  },
  {
   "cell_type": "code",
   "execution_count": 696,
   "id": "6ca303ac",
   "metadata": {},
   "outputs": [
    {
     "data": {
      "text/plain": [
       "array([3, 6, 6, 1, 9, 1, 8, 6, 6, 9])"
      ]
     },
     "execution_count": 696,
     "metadata": {},
     "output_type": "execute_result"
    }
   ],
   "source": [
    "I"
   ]
  },
  {
   "cell_type": "code",
   "execution_count": 700,
   "id": "627bcd61",
   "metadata": {},
   "outputs": [],
   "source": [
    "np.put_along_axis(F, I, X, axis=0)"
   ]
  },
  {
   "cell_type": "code",
   "execution_count": 701,
   "id": "26a9c136",
   "metadata": {},
   "outputs": [
    {
     "data": {
      "text/plain": [
       "array([0., 5., 0., 0., 0., 0., 8., 0., 6., 9.])"
      ]
     },
     "execution_count": 701,
     "metadata": {},
     "output_type": "execute_result"
    }
   ],
   "source": [
    "F"
   ]
  },
  {
   "cell_type": "code",
   "execution_count": null,
   "id": "8a785f06",
   "metadata": {},
   "outputs": [],
   "source": []
  },
  {
   "cell_type": "code",
   "execution_count": 704,
   "id": "029b97ce",
   "metadata": {},
   "outputs": [
    {
     "data": {
      "text/plain": [
       "array([3, 6, 6, 1, 9, 1, 8, 6, 6, 9])"
      ]
     },
     "execution_count": 704,
     "metadata": {},
     "output_type": "execute_result"
    }
   ],
   "source": [
    "I"
   ]
  },
  {
   "cell_type": "code",
   "execution_count": 705,
   "id": "3cd1d75a",
   "metadata": {},
   "outputs": [
    {
     "data": {
      "text/plain": [
       "array([0, 1, 2, 3, 4, 5, 6, 7, 8, 9])"
      ]
     },
     "execution_count": 705,
     "metadata": {},
     "output_type": "execute_result"
    }
   ],
   "source": [
    "X"
   ]
  },
  {
   "cell_type": "code",
   "execution_count": 703,
   "id": "44e11ae9",
   "metadata": {},
   "outputs": [
    {
     "data": {
      "text/plain": [
       "array([ 0.,  8.,  0.,  0.,  0.,  0., 18.,  0.,  6., 13.])"
      ]
     },
     "execution_count": 703,
     "metadata": {},
     "output_type": "execute_result"
    }
   ],
   "source": [
    "F = np.bincount(I, weights=X)\n",
    "F"
   ]
  },
  {
   "cell_type": "code",
   "execution_count": 706,
   "id": "1a5eea37",
   "metadata": {},
   "outputs": [],
   "source": [
    "# pos == 1, values is 3 and 5 = 8\n",
    "# pos == 9, values is 4 and 9 = 13"
   ]
  },
  {
   "cell_type": "markdown",
   "id": "ef65d08d",
   "metadata": {},
   "source": [
    "66. Considering a (w,h,3) image of (dtype=ubyte), compute the number of unique colors (★★☆)"
   ]
  },
  {
   "cell_type": "code",
   "execution_count": 711,
   "id": "fddaf305",
   "metadata": {},
   "outputs": [],
   "source": [
    "w, h = 256, 256\n",
    "I = np.random.randint(0, 4, (h, w, 3))#.astype(np.ubyte)"
   ]
  },
  {
   "cell_type": "code",
   "execution_count": 712,
   "id": "20b65917",
   "metadata": {
    "scrolled": true
   },
   "outputs": [
    {
     "data": {
      "text/plain": [
       "array([[[1, 1, 2],\n",
       "        [3, 1, 3],\n",
       "        [2, 3, 2],\n",
       "        ...,\n",
       "        [0, 0, 1],\n",
       "        [0, 3, 0],\n",
       "        [2, 0, 1]],\n",
       "\n",
       "       [[0, 3, 0],\n",
       "        [3, 3, 0],\n",
       "        [2, 1, 3],\n",
       "        ...,\n",
       "        [0, 3, 1],\n",
       "        [1, 0, 1],\n",
       "        [3, 0, 1]],\n",
       "\n",
       "       [[1, 3, 0],\n",
       "        [3, 2, 1],\n",
       "        [2, 1, 2],\n",
       "        ...,\n",
       "        [0, 3, 1],\n",
       "        [0, 2, 0],\n",
       "        [0, 0, 2]],\n",
       "\n",
       "       ...,\n",
       "\n",
       "       [[1, 1, 1],\n",
       "        [0, 0, 3],\n",
       "        [1, 3, 2],\n",
       "        ...,\n",
       "        [3, 1, 3],\n",
       "        [1, 1, 3],\n",
       "        [3, 2, 0]],\n",
       "\n",
       "       [[3, 2, 2],\n",
       "        [1, 1, 1],\n",
       "        [3, 3, 3],\n",
       "        ...,\n",
       "        [3, 1, 3],\n",
       "        [3, 1, 2],\n",
       "        [3, 0, 2]],\n",
       "\n",
       "       [[1, 0, 0],\n",
       "        [1, 2, 1],\n",
       "        [3, 3, 3],\n",
       "        ...,\n",
       "        [2, 3, 3],\n",
       "        [2, 3, 2],\n",
       "        [1, 1, 2]]])"
      ]
     },
     "execution_count": 712,
     "metadata": {},
     "output_type": "execute_result"
    }
   ],
   "source": [
    "I"
   ]
  },
  {
   "cell_type": "code",
   "execution_count": 713,
   "id": "ad8196aa",
   "metadata": {},
   "outputs": [],
   "source": [
    "colors = np.unique(I.reshape(-1, 3), axis=0)\n",
    "n = len(colors)"
   ]
  },
  {
   "cell_type": "code",
   "execution_count": 714,
   "id": "b556c8d2",
   "metadata": {
    "scrolled": true
   },
   "outputs": [
    {
     "data": {
      "text/plain": [
       "array([[0, 0, 0],\n",
       "       [0, 0, 1],\n",
       "       [0, 0, 2],\n",
       "       [0, 0, 3],\n",
       "       [0, 1, 0],\n",
       "       [0, 1, 1],\n",
       "       [0, 1, 2],\n",
       "       [0, 1, 3],\n",
       "       [0, 2, 0],\n",
       "       [0, 2, 1],\n",
       "       [0, 2, 2],\n",
       "       [0, 2, 3],\n",
       "       [0, 3, 0],\n",
       "       [0, 3, 1],\n",
       "       [0, 3, 2],\n",
       "       [0, 3, 3],\n",
       "       [1, 0, 0],\n",
       "       [1, 0, 1],\n",
       "       [1, 0, 2],\n",
       "       [1, 0, 3],\n",
       "       [1, 1, 0],\n",
       "       [1, 1, 1],\n",
       "       [1, 1, 2],\n",
       "       [1, 1, 3],\n",
       "       [1, 2, 0],\n",
       "       [1, 2, 1],\n",
       "       [1, 2, 2],\n",
       "       [1, 2, 3],\n",
       "       [1, 3, 0],\n",
       "       [1, 3, 1],\n",
       "       [1, 3, 2],\n",
       "       [1, 3, 3],\n",
       "       [2, 0, 0],\n",
       "       [2, 0, 1],\n",
       "       [2, 0, 2],\n",
       "       [2, 0, 3],\n",
       "       [2, 1, 0],\n",
       "       [2, 1, 1],\n",
       "       [2, 1, 2],\n",
       "       [2, 1, 3],\n",
       "       [2, 2, 0],\n",
       "       [2, 2, 1],\n",
       "       [2, 2, 2],\n",
       "       [2, 2, 3],\n",
       "       [2, 3, 0],\n",
       "       [2, 3, 1],\n",
       "       [2, 3, 2],\n",
       "       [2, 3, 3],\n",
       "       [3, 0, 0],\n",
       "       [3, 0, 1],\n",
       "       [3, 0, 2],\n",
       "       [3, 0, 3],\n",
       "       [3, 1, 0],\n",
       "       [3, 1, 1],\n",
       "       [3, 1, 2],\n",
       "       [3, 1, 3],\n",
       "       [3, 2, 0],\n",
       "       [3, 2, 1],\n",
       "       [3, 2, 2],\n",
       "       [3, 2, 3],\n",
       "       [3, 3, 0],\n",
       "       [3, 3, 1],\n",
       "       [3, 3, 2],\n",
       "       [3, 3, 3]])"
      ]
     },
     "execution_count": 714,
     "metadata": {},
     "output_type": "execute_result"
    }
   ],
   "source": [
    "colors"
   ]
  },
  {
   "cell_type": "markdown",
   "id": "0fe6bdc2",
   "metadata": {},
   "source": [
    "#### 68. Considering a one-dimensional vector D, how to compute means of subsets of D using a vector S of same size describing subset  indices? (★★★)"
   ]
  },
  {
   "cell_type": "code",
   "execution_count": 716,
   "id": "f3ca7815",
   "metadata": {},
   "outputs": [],
   "source": [
    "D = np.random.randn(10)\n",
    "S = [0,0,0,1,1,1,2,2,2,2]\n",
    "\n",
    "D_sums = np.bincount(S, weights=D)\n",
    "D_counts = np.bincount(S)"
   ]
  },
  {
   "cell_type": "code",
   "execution_count": 717,
   "id": "ae6f931b",
   "metadata": {},
   "outputs": [
    {
     "data": {
      "text/plain": [
       "array([ 3.00367887, -1.56492899,  0.07120616])"
      ]
     },
     "execution_count": 717,
     "metadata": {},
     "output_type": "execute_result"
    }
   ],
   "source": [
    "D_sums "
   ]
  },
  {
   "cell_type": "code",
   "execution_count": 719,
   "id": "ea0a7eff",
   "metadata": {},
   "outputs": [
    {
     "data": {
      "text/plain": [
       "array([3, 3, 4])"
      ]
     },
     "execution_count": 719,
     "metadata": {},
     "output_type": "execute_result"
    }
   ],
   "source": [
    "D_counts"
   ]
  },
  {
   "cell_type": "code",
   "execution_count": 720,
   "id": "abbf27f1",
   "metadata": {},
   "outputs": [
    {
     "data": {
      "text/plain": [
       "array([ 1.00122629, -0.521643  ,  0.01780154])"
      ]
     },
     "execution_count": 720,
     "metadata": {},
     "output_type": "execute_result"
    }
   ],
   "source": [
    "D_sums / D_counts"
   ]
  },
  {
   "cell_type": "markdown",
   "id": "c144f17b",
   "metadata": {},
   "source": [
    "#### 69. How to get the diagonal of a dot product? (★★★)"
   ]
  },
  {
   "cell_type": "code",
   "execution_count": 723,
   "id": "fa8a7aa8",
   "metadata": {},
   "outputs": [
    {
     "data": {
      "text/plain": [
       "array([ 0.95772641, -0.52772261])"
      ]
     },
     "execution_count": 723,
     "metadata": {},
     "output_type": "execute_result"
    }
   ],
   "source": [
    "arr1 = np.random.randn(2,3)\n",
    "arr2 = np.random.randn(2,3)\n",
    "np.einsum('ij,ij -> i', arr1, arr2)"
   ]
  },
  {
   "cell_type": "code",
   "execution_count": 724,
   "id": "1ab40530",
   "metadata": {},
   "outputs": [
    {
     "data": {
      "text/plain": [
       "array([ 0.95772641, -0.52772261])"
      ]
     },
     "execution_count": 724,
     "metadata": {},
     "output_type": "execute_result"
    }
   ],
   "source": [
    "np.diagonal(arr1.dot(arr2.T))"
   ]
  },
  {
   "cell_type": "code",
   "execution_count": 725,
   "id": "3d0f3979",
   "metadata": {},
   "outputs": [
    {
     "data": {
      "text/plain": [
       "array([ 0.95772641, -0.52772261])"
      ]
     },
     "execution_count": 725,
     "metadata": {},
     "output_type": "execute_result"
    }
   ],
   "source": [
    "np.sum(arr1 * arr2, axis=1)"
   ]
  },
  {
   "cell_type": "markdown",
   "id": "7d14ea87",
   "metadata": {},
   "source": [
    "#### 70. Consider the vector [1, 2, 3, 4, 5], how to build a new vector with 3 consecutive zeros interleaved between each value? (★★★)"
   ]
  },
  {
   "cell_type": "code",
   "execution_count": 727,
   "id": "48cb7df0",
   "metadata": {},
   "outputs": [
    {
     "ename": "ValueError",
     "evalue": "attempt to assign sequence of size 3 to extended slice of size 2",
     "output_type": "error",
     "traceback": [
      "\u001b[0;31m---------------------------------------------------------------------------\u001b[0m",
      "\u001b[0;31mValueError\u001b[0m                                Traceback (most recent call last)",
      "Cell \u001b[0;32mIn[727], line 2\u001b[0m\n\u001b[1;32m      1\u001b[0m V \u001b[38;5;241m=\u001b[39m [\u001b[38;5;241m1\u001b[39m,\u001b[38;5;241m2\u001b[39m,\u001b[38;5;241m3\u001b[39m,\u001b[38;5;241m4\u001b[39m,\u001b[38;5;241m5\u001b[39m]\n\u001b[0;32m----> 2\u001b[0m \u001b[43mV\u001b[49m\u001b[43m[\u001b[49m\u001b[43m:\u001b[49m\u001b[43m:\u001b[49m\u001b[38;5;241;43m3\u001b[39;49m\u001b[43m]\u001b[49m \u001b[38;5;241m=\u001b[39m [\u001b[38;5;241m0\u001b[39m,\u001b[38;5;241m0\u001b[39m,\u001b[38;5;241m0\u001b[39m]\n",
      "\u001b[0;31mValueError\u001b[0m: attempt to assign sequence of size 3 to extended slice of size 2"
     ]
    }
   ],
   "source": [
    "V = [1,2,3,4,5]\n",
    "V[::3] = [0,0,0]"
   ]
  },
  {
   "cell_type": "code",
   "execution_count": 739,
   "id": "9a2a9cd1",
   "metadata": {},
   "outputs": [
    {
     "ename": "ValueError",
     "evalue": "could not broadcast input array from shape (5,) into shape (6,)",
     "output_type": "error",
     "traceback": [
      "\u001b[0;31m---------------------------------------------------------------------------\u001b[0m",
      "\u001b[0;31mValueError\u001b[0m                                Traceback (most recent call last)",
      "Cell \u001b[0;32mIn[739], line 4\u001b[0m\n\u001b[1;32m      2\u001b[0m nz \u001b[38;5;241m=\u001b[39m \u001b[38;5;241m3\u001b[39m\n\u001b[1;32m      3\u001b[0m V0 \u001b[38;5;241m=\u001b[39m np\u001b[38;5;241m.\u001b[39mzeros(\u001b[38;5;28mlen\u001b[39m(V) \u001b[38;5;241m+\u001b[39m (\u001b[38;5;28mlen\u001b[39m(V)\u001b[38;5;241m-\u001b[39m\u001b[38;5;241m1\u001b[39m)\u001b[38;5;241m*\u001b[39m(nz))\n\u001b[0;32m----> 4\u001b[0m \u001b[43mV0\u001b[49m\u001b[43m[\u001b[49m\u001b[43m:\u001b[49m\u001b[43m:\u001b[49m\u001b[38;5;241;43m3\u001b[39;49m\u001b[43m]\u001b[49m \u001b[38;5;241m=\u001b[39m V\n",
      "\u001b[0;31mValueError\u001b[0m: could not broadcast input array from shape (5,) into shape (6,)"
     ]
    }
   ],
   "source": [
    "V = [1,2,3,4,5]\n",
    "nz = 3\n",
    "# V = [1,0,0,0,2,0,0,0,3,0,0,0,4,0,0,0,5]\n",
    "V0 = np.zeros(len(V) + (len(V)-1)*(nz))\n",
    "V0[::3] = V"
   ]
  },
  {
   "cell_type": "code",
   "execution_count": 740,
   "id": "249da2cc",
   "metadata": {},
   "outputs": [
    {
     "data": {
      "text/plain": [
       "array([0., 0., 0., 0., 0., 0.])"
      ]
     },
     "execution_count": 740,
     "metadata": {},
     "output_type": "execute_result"
    }
   ],
   "source": [
    "V0[::3] # 6 entries"
   ]
  },
  {
   "cell_type": "code",
   "execution_count": 742,
   "id": "264d9fc3",
   "metadata": {},
   "outputs": [
    {
     "data": {
      "text/plain": [
       "array([0., 0., 0., 0., 0.])"
      ]
     },
     "execution_count": 742,
     "metadata": {},
     "output_type": "execute_result"
    }
   ],
   "source": [
    "V0[::4] # 5 entries"
   ]
  },
  {
   "cell_type": "code",
   "execution_count": 743,
   "id": "fea92f7f",
   "metadata": {},
   "outputs": [
    {
     "data": {
      "text/plain": [
       "array([1., 0., 0., 0., 2., 0., 0., 0., 3., 0., 0., 0., 4., 0., 0., 0., 5.])"
      ]
     },
     "execution_count": 743,
     "metadata": {},
     "output_type": "execute_result"
    }
   ],
   "source": [
    "V0[::4] = V\n",
    "V0"
   ]
  },
  {
   "cell_type": "markdown",
   "id": "5aece223",
   "metadata": {},
   "source": [
    "#### 72. How to swap two rows of an array? (★★★)"
   ]
  },
  {
   "cell_type": "code",
   "execution_count": 748,
   "id": "3a235667",
   "metadata": {},
   "outputs": [
    {
     "data": {
      "text/plain": [
       "array([[-0.14630951,  0.32804657, -0.31254678,  0.28583638],\n",
       "       [ 0.13375134, -0.02502779, -0.09040018, -1.44258345],\n",
       "       [-0.01959636, -0.00168695,  1.34631544, -1.39704729]])"
      ]
     },
     "execution_count": 748,
     "metadata": {},
     "output_type": "execute_result"
    }
   ],
   "source": [
    "arr = np.random.randn(3,4)\n",
    "arr"
   ]
  },
  {
   "cell_type": "code",
   "execution_count": 750,
   "id": "0bb16722",
   "metadata": {},
   "outputs": [
    {
     "data": {
      "text/plain": [
       "array([[ 0.13375134, -0.02502779, -0.09040018, -1.44258345],\n",
       "       [-0.14630951,  0.32804657, -0.31254678,  0.28583638],\n",
       "       [-0.01959636, -0.00168695,  1.34631544, -1.39704729]])"
      ]
     },
     "execution_count": 750,
     "metadata": {},
     "output_type": "execute_result"
    }
   ],
   "source": [
    "arr[[0,1]] = arr[[1,0]]\n",
    "arr"
   ]
  },
  {
   "cell_type": "markdown",
   "id": "73c1942a",
   "metadata": {},
   "source": [
    "#### 73. Consider a set of 10 triplets describing 10 triangles (with shared vertices), find the set of unique line segments composing all the  triangles (★★★)\n"
   ]
  },
  {
   "cell_type": "code",
   "execution_count": 754,
   "id": "d3933365",
   "metadata": {},
   "outputs": [
    {
     "data": {
      "text/plain": [
       "array([[96, 19,  4],\n",
       "       [48, 23, 30],\n",
       "       [16, 51, 45],\n",
       "       [81, 55, 42],\n",
       "       [ 3, 87, 33],\n",
       "       [29, 94, 31],\n",
       "       [16, 41, 41],\n",
       "       [89, 28, 32],\n",
       "       [73, 88,  8],\n",
       "       [37, 82, 58]])"
      ]
     },
     "execution_count": 754,
     "metadata": {},
     "output_type": "execute_result"
    }
   ],
   "source": [
    "faces = np.random.randint(0,100,(10,3))\n",
    "faces"
   ]
  },
  {
   "cell_type": "code",
   "execution_count": 755,
   "id": "751c19d8",
   "metadata": {},
   "outputs": [
    {
     "data": {
      "text/plain": [
       "array([[96, 96, 19, 19,  4,  4],\n",
       "       [48, 48, 23, 23, 30, 30],\n",
       "       [16, 16, 51, 51, 45, 45],\n",
       "       [81, 81, 55, 55, 42, 42],\n",
       "       [ 3,  3, 87, 87, 33, 33],\n",
       "       [29, 29, 94, 94, 31, 31],\n",
       "       [16, 16, 41, 41, 41, 41],\n",
       "       [89, 89, 28, 28, 32, 32],\n",
       "       [73, 73, 88, 88,  8,  8],\n",
       "       [37, 37, 82, 82, 58, 58]])"
      ]
     },
     "execution_count": 755,
     "metadata": {},
     "output_type": "execute_result"
    }
   ],
   "source": [
    "faces.repeat(2,axis=1)"
   ]
  },
  {
   "cell_type": "code",
   "execution_count": 756,
   "id": "790e4424",
   "metadata": {},
   "outputs": [
    {
     "data": {
      "text/plain": [
       "array([[96, 19, 19,  4,  4, 96],\n",
       "       [48, 23, 23, 30, 30, 48],\n",
       "       [16, 51, 51, 45, 45, 16],\n",
       "       [81, 55, 55, 42, 42, 81],\n",
       "       [ 3, 87, 87, 33, 33,  3],\n",
       "       [29, 94, 94, 31, 31, 29],\n",
       "       [16, 41, 41, 41, 41, 16],\n",
       "       [89, 28, 28, 32, 32, 89],\n",
       "       [73, 88, 88,  8,  8, 73],\n",
       "       [37, 82, 82, 58, 58, 37]])"
      ]
     },
     "execution_count": 756,
     "metadata": {},
     "output_type": "execute_result"
    }
   ],
   "source": [
    "F = np.roll(faces.repeat(2,axis=1),-1,axis=1)\n",
    "F"
   ]
  },
  {
   "cell_type": "code",
   "execution_count": 757,
   "id": "8eddc3cd",
   "metadata": {},
   "outputs": [
    {
     "data": {
      "text/plain": [
       "array([[96, 19],\n",
       "       [19,  4],\n",
       "       [ 4, 96],\n",
       "       [48, 23],\n",
       "       [23, 30],\n",
       "       [30, 48],\n",
       "       [16, 51],\n",
       "       [51, 45],\n",
       "       [45, 16],\n",
       "       [81, 55],\n",
       "       [55, 42],\n",
       "       [42, 81],\n",
       "       [ 3, 87],\n",
       "       [87, 33],\n",
       "       [33,  3],\n",
       "       [29, 94],\n",
       "       [94, 31],\n",
       "       [31, 29],\n",
       "       [16, 41],\n",
       "       [41, 41],\n",
       "       [41, 16],\n",
       "       [89, 28],\n",
       "       [28, 32],\n",
       "       [32, 89],\n",
       "       [73, 88],\n",
       "       [88,  8],\n",
       "       [ 8, 73],\n",
       "       [37, 82],\n",
       "       [82, 58],\n",
       "       [58, 37]])"
      ]
     },
     "execution_count": 757,
     "metadata": {},
     "output_type": "execute_result"
    }
   ],
   "source": [
    "F = F.reshape(len(F)*3,2)\n",
    "F"
   ]
  },
  {
   "cell_type": "code",
   "execution_count": 758,
   "id": "12f3cfb4",
   "metadata": {},
   "outputs": [
    {
     "data": {
      "text/plain": [
       "array([[19, 96],\n",
       "       [ 4, 19],\n",
       "       [ 4, 96],\n",
       "       [23, 48],\n",
       "       [23, 30],\n",
       "       [30, 48],\n",
       "       [16, 51],\n",
       "       [45, 51],\n",
       "       [16, 45],\n",
       "       [55, 81],\n",
       "       [42, 55],\n",
       "       [42, 81],\n",
       "       [ 3, 87],\n",
       "       [33, 87],\n",
       "       [ 3, 33],\n",
       "       [29, 94],\n",
       "       [31, 94],\n",
       "       [29, 31],\n",
       "       [16, 41],\n",
       "       [41, 41],\n",
       "       [16, 41],\n",
       "       [28, 89],\n",
       "       [28, 32],\n",
       "       [32, 89],\n",
       "       [73, 88],\n",
       "       [ 8, 88],\n",
       "       [ 8, 73],\n",
       "       [37, 82],\n",
       "       [58, 82],\n",
       "       [37, 58]])"
      ]
     },
     "execution_count": 758,
     "metadata": {},
     "output_type": "execute_result"
    }
   ],
   "source": [
    "F = np.sort(F,axis=1)\n",
    "F"
   ]
  },
  {
   "cell_type": "code",
   "execution_count": 760,
   "id": "fe472c71",
   "metadata": {},
   "outputs": [
    {
     "data": {
      "text/plain": [
       "array([[(19, 96)],\n",
       "       [( 4, 19)],\n",
       "       [( 4, 96)],\n",
       "       [(23, 48)],\n",
       "       [(23, 30)],\n",
       "       [(30, 48)],\n",
       "       [(16, 51)],\n",
       "       [(45, 51)],\n",
       "       [(16, 45)],\n",
       "       [(55, 81)],\n",
       "       [(42, 55)],\n",
       "       [(42, 81)],\n",
       "       [( 3, 87)],\n",
       "       [(33, 87)],\n",
       "       [( 3, 33)],\n",
       "       [(29, 94)],\n",
       "       [(31, 94)],\n",
       "       [(29, 31)],\n",
       "       [(16, 41)],\n",
       "       [(41, 41)],\n",
       "       [(16, 41)],\n",
       "       [(28, 89)],\n",
       "       [(28, 32)],\n",
       "       [(32, 89)],\n",
       "       [(73, 88)],\n",
       "       [( 8, 88)],\n",
       "       [( 8, 73)],\n",
       "       [(37, 82)],\n",
       "       [(58, 82)],\n",
       "       [(37, 58)]], dtype=[('p0', '<i8'), ('p1', '<i8')])"
      ]
     },
     "execution_count": 760,
     "metadata": {},
     "output_type": "execute_result"
    }
   ],
   "source": [
    "G = F.view( dtype=[('p0',F.dtype),('p1',F.dtype)] )\n",
    "G"
   ]
  },
  {
   "cell_type": "code",
   "execution_count": 761,
   "id": "fc5e9ce3",
   "metadata": {},
   "outputs": [
    {
     "name": "stdout",
     "output_type": "stream",
     "text": [
      "[( 3, 33) ( 3, 87) ( 4, 19) ( 4, 96) ( 8, 73) ( 8, 88) (16, 41) (16, 45)\n",
      " (16, 51) (19, 96) (23, 30) (23, 48) (28, 32) (28, 89) (29, 31) (29, 94)\n",
      " (30, 48) (31, 94) (32, 89) (33, 87) (37, 58) (37, 82) (41, 41) (42, 55)\n",
      " (42, 81) (45, 51) (55, 81) (58, 82) (73, 88)]\n"
     ]
    }
   ],
   "source": [
    "G = np.unique(G)\n",
    "print(G)"
   ]
  },
  {
   "cell_type": "code",
   "execution_count": null,
   "id": "e47eec04",
   "metadata": {},
   "outputs": [],
   "source": []
  },
  {
   "cell_type": "markdown",
   "id": "e8e599a4",
   "metadata": {},
   "source": [
    "#### 74. Given a sorted array C that corresponds to a bincount, how to produce an array A such that np.bincount(A) == C? (★★★)"
   ]
  },
  {
   "cell_type": "code",
   "execution_count": 764,
   "id": "cea173d7",
   "metadata": {},
   "outputs": [
    {
     "name": "stdout",
     "output_type": "stream",
     "text": [
      "[1 1 2 3 4 4 6]\n"
     ]
    }
   ],
   "source": [
    "C = np.bincount([1,1,2,3,4,4,6])\n",
    "# The number of repetitions for each element. repeats is broadcasted to fit the shape of the given axis.\n",
    "A = np.repeat(np.arange(len(C)), C)\n",
    "print(A)"
   ]
  },
  {
   "cell_type": "code",
   "execution_count": 765,
   "id": "97a65a85",
   "metadata": {},
   "outputs": [
    {
     "data": {
      "text/plain": [
       "array([0, 2, 1, 1, 2, 0, 1])"
      ]
     },
     "execution_count": 765,
     "metadata": {},
     "output_type": "execute_result"
    }
   ],
   "source": [
    "C"
   ]
  },
  {
   "cell_type": "code",
   "execution_count": 766,
   "id": "ceb04e8e",
   "metadata": {},
   "outputs": [
    {
     "data": {
      "text/plain": [
       "array([0, 1, 2, 3, 4, 5, 6])"
      ]
     },
     "execution_count": 766,
     "metadata": {},
     "output_type": "execute_result"
    }
   ],
   "source": [
    "np.arange(len(C))"
   ]
  },
  {
   "cell_type": "markdown",
   "id": "a56ea316",
   "metadata": {},
   "source": [
    "#### 75. How to compute averages using a sliding window over an array? (★★★)"
   ]
  },
  {
   "cell_type": "code",
   "execution_count": 767,
   "id": "0820af73",
   "metadata": {},
   "outputs": [
    {
     "name": "stdout",
     "output_type": "stream",
     "text": [
      "[ 1.  2.  3.  4.  5.  6.  7.  8.  9. 10. 11. 12. 13. 14. 15. 16. 17. 18.]\n"
     ]
    }
   ],
   "source": [
    "def moving_average(a, n=3) :\n",
    "    ret = np.cumsum(a, dtype=float)\n",
    "    ret[n:] = ret[n:] - ret[:-n]\n",
    "    return ret[n - 1:] / n\n",
    "Z = np.arange(20)\n",
    "print(moving_average(Z, n=3))"
   ]
  },
  {
   "cell_type": "code",
   "execution_count": 770,
   "id": "f29b8ccd",
   "metadata": {},
   "outputs": [
    {
     "data": {
      "text/plain": [
       "array([  0,   1,   3,   6,  10,  15,  21,  28,  36,  45,  55,  66,  78,\n",
       "        91, 105, 120, 136, 153, 171, 190])"
      ]
     },
     "execution_count": 770,
     "metadata": {},
     "output_type": "execute_result"
    }
   ],
   "source": [
    "n = 3\n",
    "cs = np.cumsum(Z)\n",
    "cs"
   ]
  },
  {
   "cell_type": "code",
   "execution_count": 776,
   "id": "0f9ad521",
   "metadata": {},
   "outputs": [
    {
     "data": {
      "text/plain": [
       "array([ 6,  9, 12, 15, 18, 21, 24, 27, 30, 33, 36, 39, 42, 45, 48, 51, 54])"
      ]
     },
     "execution_count": 776,
     "metadata": {},
     "output_type": "execute_result"
    }
   ],
   "source": [
    "cs = np.cumsum(Z)\n",
    "cs[n:] = cs[n:] - cs[:-n]\n",
    "cs[n:]"
   ]
  },
  {
   "cell_type": "code",
   "execution_count": 780,
   "id": "2b930154",
   "metadata": {},
   "outputs": [
    {
     "data": {
      "text/plain": [
       "array([ 0,  1,  3,  6,  9, 12, 15, 18, 21, 24, 27, 30, 33, 36, 39, 42, 45,\n",
       "       48, 51, 54])"
      ]
     },
     "execution_count": 780,
     "metadata": {},
     "output_type": "execute_result"
    }
   ],
   "source": [
    "cs"
   ]
  },
  {
   "cell_type": "code",
   "execution_count": 779,
   "id": "9d38d1e1",
   "metadata": {},
   "outputs": [
    {
     "data": {
      "text/plain": [
       "array([ 1.,  2.,  3.,  4.,  5.,  6.,  7.,  8.,  9., 10., 11., 12., 13.,\n",
       "       14., 15., 16., 17., 18.])"
      ]
     },
     "execution_count": 779,
     "metadata": {},
     "output_type": "execute_result"
    }
   ],
   "source": [
    "cs[n-1:] / n"
   ]
  },
  {
   "cell_type": "code",
   "execution_count": null,
   "id": "b768a09a",
   "metadata": {},
   "outputs": [],
   "source": [
    "[0,1,2,3,4,5,6,7,8,9,10]"
   ]
  },
  {
   "cell_type": "code",
   "execution_count": 784,
   "id": "e7fbeb4a",
   "metadata": {},
   "outputs": [
    {
     "data": {
      "text/plain": [
       "array([[ 0,  1,  2],\n",
       "       [ 1,  2,  3],\n",
       "       [ 2,  3,  4],\n",
       "       [ 3,  4,  5],\n",
       "       [ 4,  5,  6],\n",
       "       [ 5,  6,  7],\n",
       "       [ 6,  7,  8],\n",
       "       [ 7,  8,  9],\n",
       "       [ 8,  9, 10],\n",
       "       [ 9, 10, 11],\n",
       "       [10, 11, 12],\n",
       "       [11, 12, 13],\n",
       "       [12, 13, 14],\n",
       "       [13, 14, 15],\n",
       "       [14, 15, 16],\n",
       "       [15, 16, 17],\n",
       "       [16, 17, 18],\n",
       "       [17, 18, 19]])"
      ]
     },
     "execution_count": 784,
     "metadata": {},
     "output_type": "execute_result"
    }
   ],
   "source": [
    "from numpy.lib.stride_tricks import sliding_window_view\n",
    "sliding_window = sliding_window_view(Z, window_shape=3)\n",
    "sliding_window"
   ]
  },
  {
   "cell_type": "code",
   "execution_count": 785,
   "id": "7e0a982a",
   "metadata": {},
   "outputs": [
    {
     "data": {
      "text/plain": [
       "array([ 1.,  2.,  3.,  4.,  5.,  6.,  7.,  8.,  9., 10., 11., 12., 13.,\n",
       "       14., 15., 16., 17., 18.])"
      ]
     },
     "execution_count": 785,
     "metadata": {},
     "output_type": "execute_result"
    }
   ],
   "source": [
    "sliding_window.mean(axis=-1)"
   ]
  },
  {
   "cell_type": "markdown",
   "id": "cd802ecf",
   "metadata": {},
   "source": [
    "#### 76. Consider a one-dimensional array Z, build a two-dimensional array whose first row is (Z[0],Z[1],Z[2]) and each subsequent row is  shifted by 1 (last row should be (Z[-3],Z[-2],Z[-1]) (★★★)"
   ]
  },
  {
   "cell_type": "code",
   "execution_count": 790,
   "id": "2108877b",
   "metadata": {},
   "outputs": [
    {
     "data": {
      "text/plain": [
       "array([ 0,  1,  2,  3,  4,  5,  6,  7,  8,  9, 10, 11])"
      ]
     },
     "execution_count": 790,
     "metadata": {},
     "output_type": "execute_result"
    }
   ],
   "source": [
    "Z = np.arange(12)\n",
    "Z"
   ]
  },
  {
   "cell_type": "code",
   "execution_count": 791,
   "id": "5b7b7771",
   "metadata": {},
   "outputs": [
    {
     "data": {
      "text/plain": [
       "array([[ 0,  1,  2],\n",
       "       [ 3,  4,  5],\n",
       "       [ 6,  7,  8],\n",
       "       [ 9, 10, 11]])"
      ]
     },
     "execution_count": 791,
     "metadata": {},
     "output_type": "execute_result"
    }
   ],
   "source": [
    "Z.reshape(-1,3)"
   ]
  },
  {
   "cell_type": "code",
   "execution_count": 792,
   "id": "a1733b0f",
   "metadata": {},
   "outputs": [
    {
     "name": "stdout",
     "output_type": "stream",
     "text": [
      "[[0 1 2]\n",
      " [1 2 3]\n",
      " [2 3 4]\n",
      " [3 4 5]\n",
      " [4 5 6]\n",
      " [5 6 7]\n",
      " [6 7 8]\n",
      " [7 8 9]]\n",
      "[[0 1 2]\n",
      " [1 2 3]\n",
      " [2 3 4]\n",
      " [3 4 5]\n",
      " [4 5 6]\n",
      " [5 6 7]\n",
      " [6 7 8]\n",
      " [7 8 9]]\n"
     ]
    }
   ],
   "source": [
    "from numpy.lib import stride_tricks\n",
    "\n",
    "def rolling(a, window):\n",
    "    shape = (a.size - window + 1, window)\n",
    "    strides = (a.strides[0], a.strides[0])\n",
    "    return stride_tricks.as_strided(a, shape=shape, strides=strides)\n",
    "Z = rolling(np.arange(10), 3)\n",
    "print(Z)\n",
    "\n",
    "# Author: Jeff Luo (@Jeff1999)\n",
    "\n",
    "Z = np.arange(10)\n",
    "print(sliding_window_view(Z, window_shape=3))"
   ]
  },
  {
   "cell_type": "code",
   "execution_count": 794,
   "id": "c21b08ff",
   "metadata": {},
   "outputs": [
    {
     "data": {
      "text/plain": [
       "(8, 3)"
      ]
     },
     "execution_count": 794,
     "metadata": {},
     "output_type": "execute_result"
    }
   ],
   "source": [
    "window = 3\n",
    "(Z.size - window + 1, window)"
   ]
  },
  {
   "cell_type": "code",
   "execution_count": 799,
   "id": "02b37f2c",
   "metadata": {},
   "outputs": [
    {
     "data": {
      "text/plain": [
       "(8,)"
      ]
     },
     "execution_count": 799,
     "metadata": {},
     "output_type": "execute_result"
    }
   ],
   "source": [
    "Z.strides"
   ]
  },
  {
   "cell_type": "code",
   "execution_count": 801,
   "id": "93d52bb4",
   "metadata": {},
   "outputs": [
    {
     "data": {
      "text/plain": [
       "array([[0, 1, 2],\n",
       "       [1, 2, 3],\n",
       "       [2, 3, 4],\n",
       "       [3, 4, 5],\n",
       "       [4, 5, 6],\n",
       "       [5, 6, 7],\n",
       "       [6, 7, 8],\n",
       "       [7, 8, 9]])"
      ]
     },
     "execution_count": 801,
     "metadata": {},
     "output_type": "execute_result"
    }
   ],
   "source": [
    "# shape is the output shape that we want. \n",
    "stride_tricks.as_strided(Z, shape=(Z.size - window + 1, window), strides=(Z.strides[0],Z.strides[0]))"
   ]
  },
  {
   "cell_type": "code",
   "execution_count": 802,
   "id": "bf88ff3c",
   "metadata": {},
   "outputs": [
    {
     "data": {
      "text/plain": [
       "array([[0, 1, 2],\n",
       "       [1, 2, 3],\n",
       "       [2, 3, 4],\n",
       "       [3, 4, 5],\n",
       "       [4, 5, 6],\n",
       "       [5, 6, 7],\n",
       "       [6, 7, 8],\n",
       "       [7, 8, 9]])"
      ]
     },
     "execution_count": 802,
     "metadata": {},
     "output_type": "execute_result"
    }
   ],
   "source": [
    "# otherwise\n",
    "sliding_window_view(Z, window_shape=3)"
   ]
  },
  {
   "cell_type": "markdown",
   "id": "5b7491ce",
   "metadata": {},
   "source": [
    "#### 77. How to negate a boolean, or to change the sign of a float inplace? (★★★)"
   ]
  },
  {
   "cell_type": "code",
   "execution_count": 810,
   "id": "290428f7",
   "metadata": {},
   "outputs": [
    {
     "data": {
      "text/plain": [
       "array([0, 0, 1, 0, 1, 1, 1, 0, 1, 1, 0, 0, 1, 0, 0, 0, 1, 0, 1, 1, 0, 1,\n",
       "       0, 1, 1, 0, 1, 0, 1, 1, 1, 0, 1, 1, 0, 0, 0, 1, 1, 0, 0, 1, 0, 0,\n",
       "       1, 1, 0, 1, 0, 1, 1, 1, 0, 1, 1, 1, 1, 1, 0, 1, 0, 1, 0, 1, 0, 0,\n",
       "       1, 1, 1, 0, 1, 1, 1, 1, 0, 1, 0, 1, 0, 1, 1, 1, 1, 1, 1, 0, 1, 0,\n",
       "       0, 0, 0, 1, 0, 1, 1, 1, 0, 1, 0, 1])"
      ]
     },
     "execution_count": 810,
     "metadata": {},
     "output_type": "execute_result"
    }
   ],
   "source": [
    "Z = np.random.randint(0,2,100)\n",
    "Z"
   ]
  },
  {
   "cell_type": "code",
   "execution_count": 814,
   "id": "faac4223",
   "metadata": {},
   "outputs": [
    {
     "data": {
      "text/plain": [
       "array([0, 0, 1, 0, 1, 1, 1, 0, 1, 1, 0, 0, 1, 0, 0, 0, 1, 0, 1, 1, 0, 1,\n",
       "       0, 1, 1, 0, 1, 0, 1, 1, 1, 0, 1, 1, 0, 0, 0, 1, 1, 0, 0, 1, 0, 0,\n",
       "       1, 1, 0, 1, 0, 1, 1, 1, 0, 1, 1, 1, 1, 1, 0, 1, 0, 1, 0, 1, 0, 0,\n",
       "       1, 1, 1, 0, 1, 1, 1, 1, 0, 1, 0, 1, 0, 1, 1, 1, 1, 1, 1, 0, 1, 0,\n",
       "       0, 0, 0, 1, 0, 1, 1, 1, 0, 1, 0, 1])"
      ]
     },
     "execution_count": 814,
     "metadata": {},
     "output_type": "execute_result"
    }
   ],
   "source": [
    "arr2 = Z.copy()\n",
    "# out: f not provided or None, a freshly-allocated array is returned.\n",
    "np.logical_not(arr2, out=arr2) # do inplace\n",
    "arr2"
   ]
  },
  {
   "cell_type": "code",
   "execution_count": 818,
   "id": "ec96a532",
   "metadata": {},
   "outputs": [
    {
     "data": {
      "text/plain": [
       "array([ 0.19781699, -0.17005326,  0.62951396,  0.63166529,  0.10489033,\n",
       "       -0.79346749, -0.2421489 , -0.58242948,  0.48281369, -0.99523328,\n",
       "        0.05774931, -0.48761676, -0.57400641,  0.94767106, -0.26661449,\n",
       "       -0.96373705, -0.70237614,  0.01586019, -0.18577113, -0.96359665,\n",
       "        0.77233529, -0.11414287, -0.0419412 ,  0.28929492, -0.25114257,\n",
       "       -0.71090687, -0.07638582,  0.32462081, -0.36612893, -0.4971453 ,\n",
       "       -0.1601139 ,  0.2251824 ,  0.24522814,  0.81791926, -0.20034213,\n",
       "        0.60809556, -0.49664228, -0.30223626,  0.15734709, -0.48106517,\n",
       "       -0.19844774, -0.26329489, -0.68532491, -0.70633334,  0.70168121,\n",
       "        0.56080756,  0.82346878,  0.75825587, -0.87617151, -0.73208472,\n",
       "       -0.21586617, -0.02855463, -0.46661186,  0.93017719,  0.60296849,\n",
       "        0.46166312, -0.91190086, -0.8775438 , -0.29462907,  0.50883839,\n",
       "       -0.83355456, -0.20707596,  0.12988792, -0.79171167,  0.73224449,\n",
       "        0.46233164,  0.41618394, -0.90373281,  0.81745394, -0.40419697,\n",
       "        0.0252514 , -0.35735618, -0.13338255, -0.71793062, -0.16923411,\n",
       "        0.65969261, -0.59497069,  0.62725987, -0.48246857,  0.5657242 ,\n",
       "       -0.25416577,  0.39922591, -0.62641664, -0.17238017,  0.6598593 ,\n",
       "       -0.30740965, -0.03613191, -0.75580377,  0.2143872 , -0.66165661,\n",
       "        0.78854881, -0.56397097, -0.62157937,  0.13916156, -0.35383872,\n",
       "        0.69072936, -0.13660964, -0.1288892 ,  0.49515896, -0.51129878])"
      ]
     },
     "execution_count": 818,
     "metadata": {},
     "output_type": "execute_result"
    }
   ],
   "source": [
    "Z = np.random.uniform(-1.0,1.0,100)\n",
    "Z"
   ]
  },
  {
   "cell_type": "code",
   "execution_count": 819,
   "id": "a364fe89",
   "metadata": {},
   "outputs": [
    {
     "data": {
      "text/plain": [
       "array([-0.19781699,  0.17005326, -0.62951396, -0.63166529, -0.10489033,\n",
       "        0.79346749,  0.2421489 ,  0.58242948, -0.48281369,  0.99523328,\n",
       "       -0.05774931,  0.48761676,  0.57400641, -0.94767106,  0.26661449,\n",
       "        0.96373705,  0.70237614, -0.01586019,  0.18577113,  0.96359665,\n",
       "       -0.77233529,  0.11414287,  0.0419412 , -0.28929492,  0.25114257,\n",
       "        0.71090687,  0.07638582, -0.32462081,  0.36612893,  0.4971453 ,\n",
       "        0.1601139 , -0.2251824 , -0.24522814, -0.81791926,  0.20034213,\n",
       "       -0.60809556,  0.49664228,  0.30223626, -0.15734709,  0.48106517,\n",
       "        0.19844774,  0.26329489,  0.68532491,  0.70633334, -0.70168121,\n",
       "       -0.56080756, -0.82346878, -0.75825587,  0.87617151,  0.73208472,\n",
       "        0.21586617,  0.02855463,  0.46661186, -0.93017719, -0.60296849,\n",
       "       -0.46166312,  0.91190086,  0.8775438 ,  0.29462907, -0.50883839,\n",
       "        0.83355456,  0.20707596, -0.12988792,  0.79171167, -0.73224449,\n",
       "       -0.46233164, -0.41618394,  0.90373281, -0.81745394,  0.40419697,\n",
       "       -0.0252514 ,  0.35735618,  0.13338255,  0.71793062,  0.16923411,\n",
       "       -0.65969261,  0.59497069, -0.62725987,  0.48246857, -0.5657242 ,\n",
       "        0.25416577, -0.39922591,  0.62641664,  0.17238017, -0.6598593 ,\n",
       "        0.30740965,  0.03613191,  0.75580377, -0.2143872 ,  0.66165661,\n",
       "       -0.78854881,  0.56397097,  0.62157937, -0.13916156,  0.35383872,\n",
       "       -0.69072936,  0.13660964,  0.1288892 , -0.49515896,  0.51129878])"
      ]
     },
     "execution_count": 819,
     "metadata": {},
     "output_type": "execute_result"
    }
   ],
   "source": [
    "z2 = Z.copy()\n",
    "np.negative(Z, out=z2)"
   ]
  },
  {
   "cell_type": "markdown",
   "id": "dfb47d67",
   "metadata": {},
   "source": [
    "#### 82. Compute a matrix rank (★★★)"
   ]
  },
  {
   "cell_type": "code",
   "execution_count": 820,
   "id": "62f7d632",
   "metadata": {},
   "outputs": [
    {
     "name": "stdout",
     "output_type": "stream",
     "text": [
      "10\n"
     ]
    }
   ],
   "source": [
    "Z = np.random.uniform(0,1,(10,10))\n",
    "U, S, V = np.linalg.svd(Z) # Singular Value Decomposition\n",
    "rank = np.sum(S > 1e-10)\n",
    "print(rank)"
   ]
  },
  {
   "cell_type": "code",
   "execution_count": 821,
   "id": "0dd1f5ce",
   "metadata": {},
   "outputs": [
    {
     "name": "stdout",
     "output_type": "stream",
     "text": [
      "10\n"
     ]
    }
   ],
   "source": [
    "rank = np.linalg.matrix_rank(Z)\n",
    "print(rank)"
   ]
  },
  {
   "cell_type": "markdown",
   "id": "238743c8",
   "metadata": {},
   "source": [
    "#### 83. How to find the most frequent value in an array?"
   ]
  },
  {
   "cell_type": "code",
   "execution_count": 825,
   "id": "ab41d96d",
   "metadata": {},
   "outputs": [
    {
     "data": {
      "text/plain": [
       "4"
      ]
     },
     "execution_count": 825,
     "metadata": {},
     "output_type": "execute_result"
    }
   ],
   "source": [
    "arr = np.random.randint(0,10, size=(20))\n",
    "np.bincount(arr).argmax()"
   ]
  },
  {
   "cell_type": "markdown",
   "id": "65a79ae8",
   "metadata": {},
   "source": [
    "#### 84. Extract all the contiguous 3x3 blocks from a random 10x10 matrix (★★★)"
   ]
  },
  {
   "cell_type": "code",
   "execution_count": 831,
   "id": "46193abc",
   "metadata": {},
   "outputs": [
    {
     "data": {
      "text/plain": [
       "array([[ 0,  1,  2,  3,  4,  5,  6,  7,  8,  9],\n",
       "       [10, 11, 12, 13, 14, 15, 16, 17, 18, 19],\n",
       "       [20, 21, 22, 23, 24, 25, 26, 27, 28, 29],\n",
       "       [30, 31, 32, 33, 34, 35, 36, 37, 38, 39],\n",
       "       [40, 41, 42, 43, 44, 45, 46, 47, 48, 49],\n",
       "       [50, 51, 52, 53, 54, 55, 56, 57, 58, 59],\n",
       "       [60, 61, 62, 63, 64, 65, 66, 67, 68, 69],\n",
       "       [70, 71, 72, 73, 74, 75, 76, 77, 78, 79],\n",
       "       [80, 81, 82, 83, 84, 85, 86, 87, 88, 89],\n",
       "       [90, 91, 92, 93, 94, 95, 96, 97, 98, 99]])"
      ]
     },
     "execution_count": 831,
     "metadata": {},
     "output_type": "execute_result"
    }
   ],
   "source": [
    "arr = np.arange(100).reshape(10,10)\n",
    "arr"
   ]
  },
  {
   "cell_type": "code",
   "execution_count": 832,
   "id": "47bb5f78",
   "metadata": {},
   "outputs": [
    {
     "data": {
      "text/plain": [
       "array([[[[ 0,  1,  2],\n",
       "         [10, 11, 12],\n",
       "         [20, 21, 22]],\n",
       "\n",
       "        [[ 1,  2,  3],\n",
       "         [11, 12, 13],\n",
       "         [21, 22, 23]],\n",
       "\n",
       "        [[ 2,  3,  4],\n",
       "         [12, 13, 14],\n",
       "         [22, 23, 24]],\n",
       "\n",
       "        [[ 3,  4,  5],\n",
       "         [13, 14, 15],\n",
       "         [23, 24, 25]],\n",
       "\n",
       "        [[ 4,  5,  6],\n",
       "         [14, 15, 16],\n",
       "         [24, 25, 26]],\n",
       "\n",
       "        [[ 5,  6,  7],\n",
       "         [15, 16, 17],\n",
       "         [25, 26, 27]],\n",
       "\n",
       "        [[ 6,  7,  8],\n",
       "         [16, 17, 18],\n",
       "         [26, 27, 28]],\n",
       "\n",
       "        [[ 7,  8,  9],\n",
       "         [17, 18, 19],\n",
       "         [27, 28, 29]]],\n",
       "\n",
       "\n",
       "       [[[10, 11, 12],\n",
       "         [20, 21, 22],\n",
       "         [30, 31, 32]],\n",
       "\n",
       "        [[11, 12, 13],\n",
       "         [21, 22, 23],\n",
       "         [31, 32, 33]],\n",
       "\n",
       "        [[12, 13, 14],\n",
       "         [22, 23, 24],\n",
       "         [32, 33, 34]],\n",
       "\n",
       "        [[13, 14, 15],\n",
       "         [23, 24, 25],\n",
       "         [33, 34, 35]],\n",
       "\n",
       "        [[14, 15, 16],\n",
       "         [24, 25, 26],\n",
       "         [34, 35, 36]],\n",
       "\n",
       "        [[15, 16, 17],\n",
       "         [25, 26, 27],\n",
       "         [35, 36, 37]],\n",
       "\n",
       "        [[16, 17, 18],\n",
       "         [26, 27, 28],\n",
       "         [36, 37, 38]],\n",
       "\n",
       "        [[17, 18, 19],\n",
       "         [27, 28, 29],\n",
       "         [37, 38, 39]]],\n",
       "\n",
       "\n",
       "       [[[20, 21, 22],\n",
       "         [30, 31, 32],\n",
       "         [40, 41, 42]],\n",
       "\n",
       "        [[21, 22, 23],\n",
       "         [31, 32, 33],\n",
       "         [41, 42, 43]],\n",
       "\n",
       "        [[22, 23, 24],\n",
       "         [32, 33, 34],\n",
       "         [42, 43, 44]],\n",
       "\n",
       "        [[23, 24, 25],\n",
       "         [33, 34, 35],\n",
       "         [43, 44, 45]],\n",
       "\n",
       "        [[24, 25, 26],\n",
       "         [34, 35, 36],\n",
       "         [44, 45, 46]],\n",
       "\n",
       "        [[25, 26, 27],\n",
       "         [35, 36, 37],\n",
       "         [45, 46, 47]],\n",
       "\n",
       "        [[26, 27, 28],\n",
       "         [36, 37, 38],\n",
       "         [46, 47, 48]],\n",
       "\n",
       "        [[27, 28, 29],\n",
       "         [37, 38, 39],\n",
       "         [47, 48, 49]]],\n",
       "\n",
       "\n",
       "       [[[30, 31, 32],\n",
       "         [40, 41, 42],\n",
       "         [50, 51, 52]],\n",
       "\n",
       "        [[31, 32, 33],\n",
       "         [41, 42, 43],\n",
       "         [51, 52, 53]],\n",
       "\n",
       "        [[32, 33, 34],\n",
       "         [42, 43, 44],\n",
       "         [52, 53, 54]],\n",
       "\n",
       "        [[33, 34, 35],\n",
       "         [43, 44, 45],\n",
       "         [53, 54, 55]],\n",
       "\n",
       "        [[34, 35, 36],\n",
       "         [44, 45, 46],\n",
       "         [54, 55, 56]],\n",
       "\n",
       "        [[35, 36, 37],\n",
       "         [45, 46, 47],\n",
       "         [55, 56, 57]],\n",
       "\n",
       "        [[36, 37, 38],\n",
       "         [46, 47, 48],\n",
       "         [56, 57, 58]],\n",
       "\n",
       "        [[37, 38, 39],\n",
       "         [47, 48, 49],\n",
       "         [57, 58, 59]]],\n",
       "\n",
       "\n",
       "       [[[40, 41, 42],\n",
       "         [50, 51, 52],\n",
       "         [60, 61, 62]],\n",
       "\n",
       "        [[41, 42, 43],\n",
       "         [51, 52, 53],\n",
       "         [61, 62, 63]],\n",
       "\n",
       "        [[42, 43, 44],\n",
       "         [52, 53, 54],\n",
       "         [62, 63, 64]],\n",
       "\n",
       "        [[43, 44, 45],\n",
       "         [53, 54, 55],\n",
       "         [63, 64, 65]],\n",
       "\n",
       "        [[44, 45, 46],\n",
       "         [54, 55, 56],\n",
       "         [64, 65, 66]],\n",
       "\n",
       "        [[45, 46, 47],\n",
       "         [55, 56, 57],\n",
       "         [65, 66, 67]],\n",
       "\n",
       "        [[46, 47, 48],\n",
       "         [56, 57, 58],\n",
       "         [66, 67, 68]],\n",
       "\n",
       "        [[47, 48, 49],\n",
       "         [57, 58, 59],\n",
       "         [67, 68, 69]]],\n",
       "\n",
       "\n",
       "       [[[50, 51, 52],\n",
       "         [60, 61, 62],\n",
       "         [70, 71, 72]],\n",
       "\n",
       "        [[51, 52, 53],\n",
       "         [61, 62, 63],\n",
       "         [71, 72, 73]],\n",
       "\n",
       "        [[52, 53, 54],\n",
       "         [62, 63, 64],\n",
       "         [72, 73, 74]],\n",
       "\n",
       "        [[53, 54, 55],\n",
       "         [63, 64, 65],\n",
       "         [73, 74, 75]],\n",
       "\n",
       "        [[54, 55, 56],\n",
       "         [64, 65, 66],\n",
       "         [74, 75, 76]],\n",
       "\n",
       "        [[55, 56, 57],\n",
       "         [65, 66, 67],\n",
       "         [75, 76, 77]],\n",
       "\n",
       "        [[56, 57, 58],\n",
       "         [66, 67, 68],\n",
       "         [76, 77, 78]],\n",
       "\n",
       "        [[57, 58, 59],\n",
       "         [67, 68, 69],\n",
       "         [77, 78, 79]]],\n",
       "\n",
       "\n",
       "       [[[60, 61, 62],\n",
       "         [70, 71, 72],\n",
       "         [80, 81, 82]],\n",
       "\n",
       "        [[61, 62, 63],\n",
       "         [71, 72, 73],\n",
       "         [81, 82, 83]],\n",
       "\n",
       "        [[62, 63, 64],\n",
       "         [72, 73, 74],\n",
       "         [82, 83, 84]],\n",
       "\n",
       "        [[63, 64, 65],\n",
       "         [73, 74, 75],\n",
       "         [83, 84, 85]],\n",
       "\n",
       "        [[64, 65, 66],\n",
       "         [74, 75, 76],\n",
       "         [84, 85, 86]],\n",
       "\n",
       "        [[65, 66, 67],\n",
       "         [75, 76, 77],\n",
       "         [85, 86, 87]],\n",
       "\n",
       "        [[66, 67, 68],\n",
       "         [76, 77, 78],\n",
       "         [86, 87, 88]],\n",
       "\n",
       "        [[67, 68, 69],\n",
       "         [77, 78, 79],\n",
       "         [87, 88, 89]]],\n",
       "\n",
       "\n",
       "       [[[70, 71, 72],\n",
       "         [80, 81, 82],\n",
       "         [90, 91, 92]],\n",
       "\n",
       "        [[71, 72, 73],\n",
       "         [81, 82, 83],\n",
       "         [91, 92, 93]],\n",
       "\n",
       "        [[72, 73, 74],\n",
       "         [82, 83, 84],\n",
       "         [92, 93, 94]],\n",
       "\n",
       "        [[73, 74, 75],\n",
       "         [83, 84, 85],\n",
       "         [93, 94, 95]],\n",
       "\n",
       "        [[74, 75, 76],\n",
       "         [84, 85, 86],\n",
       "         [94, 95, 96]],\n",
       "\n",
       "        [[75, 76, 77],\n",
       "         [85, 86, 87],\n",
       "         [95, 96, 97]],\n",
       "\n",
       "        [[76, 77, 78],\n",
       "         [86, 87, 88],\n",
       "         [96, 97, 98]],\n",
       "\n",
       "        [[77, 78, 79],\n",
       "         [87, 88, 89],\n",
       "         [97, 98, 99]]]])"
      ]
     },
     "execution_count": 832,
     "metadata": {},
     "output_type": "execute_result"
    }
   ],
   "source": [
    "sliding_window_view(arr, window_shape=(3,3))"
   ]
  },
  {
   "cell_type": "markdown",
   "id": "d3cab3b8",
   "metadata": {},
   "source": [
    "#### 86. Consider a set of p matrices with shape (n,n) and a set of p vectors with shape (n,1). How to compute the sum of of the p matrix products at once? (result has shape (n,1)) (★★★)"
   ]
  },
  {
   "cell_type": "code",
   "execution_count": 834,
   "id": "fba79f8d",
   "metadata": {},
   "outputs": [],
   "source": [
    "p = 5\n",
    "n=3\n",
    "a1 = np.stack([np.random.randn(n,n) for _ in range(p)]) # (n,n) -> (p,n,n)\n",
    "a2 = np.stack([np.random.randn(n,1) for _ in range(p)]) # (n,1) -> (p,n,1)"
   ]
  },
  {
   "cell_type": "code",
   "execution_count": 835,
   "id": "8a9cbff5",
   "metadata": {},
   "outputs": [
    {
     "data": {
      "text/plain": [
       "(5, 3, 3)"
      ]
     },
     "execution_count": 835,
     "metadata": {},
     "output_type": "execute_result"
    }
   ],
   "source": [
    "a1.reshape(n,n,p).dot(a2)."
   ]
  },
  {
   "cell_type": "code",
   "execution_count": 837,
   "id": "cd99da89",
   "metadata": {},
   "outputs": [
    {
     "data": {
      "text/plain": [
       "array([[ 2.04073632],\n",
       "       [-1.82424532],\n",
       "       [-4.93335053]])"
      ]
     },
     "execution_count": 837,
     "metadata": {},
     "output_type": "execute_result"
    }
   ],
   "source": [
    "# using einsum\n",
    "np.einsum('ijk,ikl -> jl', a1, a2)"
   ]
  },
  {
   "cell_type": "code",
   "execution_count": 836,
   "id": "c1dbf1f5",
   "metadata": {},
   "outputs": [
    {
     "name": "stdout",
     "output_type": "stream",
     "text": [
      "[[ 2.04073632]\n",
      " [-1.82424532]\n",
      " [-4.93335053]]\n"
     ]
    }
   ],
   "source": [
    "# dot product between p and p and then n and n\n",
    "S = np.tensordot(a1, a2, axes=[[0, 2], [0, 1]]) # a1=(p,n,n), a2= (p,n,1) -> (n,1)\n",
    "print(S)"
   ]
  },
  {
   "cell_type": "markdown",
   "id": "90072691",
   "metadata": {},
   "source": [
    "#### 87. Consider a 16x16 array, how to get the block-sum (block size is 4x4)? (★★★)"
   ]
  },
  {
   "cell_type": "code",
   "execution_count": 851,
   "id": "fc22850a",
   "metadata": {},
   "outputs": [],
   "source": [
    "Z = np.arange(16*16).reshape(16,16)\n",
    "k = 4\n",
    "\n",
    "windows = np.lib.stride_tricks.sliding_window_view(Z, (k, k))"
   ]
  },
  {
   "cell_type": "code",
   "execution_count": 852,
   "id": "a6a97624",
   "metadata": {},
   "outputs": [
    {
     "data": {
      "text/plain": [
       "(13, 13, 4, 4)"
      ]
     },
     "execution_count": 852,
     "metadata": {},
     "output_type": "execute_result"
    }
   ],
   "source": [
    "windows.shape"
   ]
  },
  {
   "cell_type": "code",
   "execution_count": 857,
   "id": "4f56d243",
   "metadata": {},
   "outputs": [
    {
     "data": {
      "text/plain": [
       "array([[[[  0,   1,   2,   3],\n",
       "         [ 16,  17,  18,  19],\n",
       "         [ 32,  33,  34,  35],\n",
       "         [ 48,  49,  50,  51]],\n",
       "\n",
       "        [[  1,   2,   3,   4],\n",
       "         [ 17,  18,  19,  20],\n",
       "         [ 33,  34,  35,  36],\n",
       "         [ 49,  50,  51,  52]],\n",
       "\n",
       "        [[  2,   3,   4,   5],\n",
       "         [ 18,  19,  20,  21],\n",
       "         [ 34,  35,  36,  37],\n",
       "         [ 50,  51,  52,  53]],\n",
       "\n",
       "        [[  3,   4,   5,   6],\n",
       "         [ 19,  20,  21,  22],\n",
       "         [ 35,  36,  37,  38],\n",
       "         [ 51,  52,  53,  54]],\n",
       "\n",
       "        [[  4,   5,   6,   7],\n",
       "         [ 20,  21,  22,  23],\n",
       "         [ 36,  37,  38,  39],\n",
       "         [ 52,  53,  54,  55]]],\n",
       "\n",
       "\n",
       "       [[[ 16,  17,  18,  19],\n",
       "         [ 32,  33,  34,  35],\n",
       "         [ 48,  49,  50,  51],\n",
       "         [ 64,  65,  66,  67]],\n",
       "\n",
       "        [[ 17,  18,  19,  20],\n",
       "         [ 33,  34,  35,  36],\n",
       "         [ 49,  50,  51,  52],\n",
       "         [ 65,  66,  67,  68]],\n",
       "\n",
       "        [[ 18,  19,  20,  21],\n",
       "         [ 34,  35,  36,  37],\n",
       "         [ 50,  51,  52,  53],\n",
       "         [ 66,  67,  68,  69]],\n",
       "\n",
       "        [[ 19,  20,  21,  22],\n",
       "         [ 35,  36,  37,  38],\n",
       "         [ 51,  52,  53,  54],\n",
       "         [ 67,  68,  69,  70]],\n",
       "\n",
       "        [[ 20,  21,  22,  23],\n",
       "         [ 36,  37,  38,  39],\n",
       "         [ 52,  53,  54,  55],\n",
       "         [ 68,  69,  70,  71]]],\n",
       "\n",
       "\n",
       "       [[[ 32,  33,  34,  35],\n",
       "         [ 48,  49,  50,  51],\n",
       "         [ 64,  65,  66,  67],\n",
       "         [ 80,  81,  82,  83]],\n",
       "\n",
       "        [[ 33,  34,  35,  36],\n",
       "         [ 49,  50,  51,  52],\n",
       "         [ 65,  66,  67,  68],\n",
       "         [ 81,  82,  83,  84]],\n",
       "\n",
       "        [[ 34,  35,  36,  37],\n",
       "         [ 50,  51,  52,  53],\n",
       "         [ 66,  67,  68,  69],\n",
       "         [ 82,  83,  84,  85]],\n",
       "\n",
       "        [[ 35,  36,  37,  38],\n",
       "         [ 51,  52,  53,  54],\n",
       "         [ 67,  68,  69,  70],\n",
       "         [ 83,  84,  85,  86]],\n",
       "\n",
       "        [[ 36,  37,  38,  39],\n",
       "         [ 52,  53,  54,  55],\n",
       "         [ 68,  69,  70,  71],\n",
       "         [ 84,  85,  86,  87]]],\n",
       "\n",
       "\n",
       "       [[[ 48,  49,  50,  51],\n",
       "         [ 64,  65,  66,  67],\n",
       "         [ 80,  81,  82,  83],\n",
       "         [ 96,  97,  98,  99]],\n",
       "\n",
       "        [[ 49,  50,  51,  52],\n",
       "         [ 65,  66,  67,  68],\n",
       "         [ 81,  82,  83,  84],\n",
       "         [ 97,  98,  99, 100]],\n",
       "\n",
       "        [[ 50,  51,  52,  53],\n",
       "         [ 66,  67,  68,  69],\n",
       "         [ 82,  83,  84,  85],\n",
       "         [ 98,  99, 100, 101]],\n",
       "\n",
       "        [[ 51,  52,  53,  54],\n",
       "         [ 67,  68,  69,  70],\n",
       "         [ 83,  84,  85,  86],\n",
       "         [ 99, 100, 101, 102]],\n",
       "\n",
       "        [[ 52,  53,  54,  55],\n",
       "         [ 68,  69,  70,  71],\n",
       "         [ 84,  85,  86,  87],\n",
       "         [100, 101, 102, 103]]],\n",
       "\n",
       "\n",
       "       [[[ 64,  65,  66,  67],\n",
       "         [ 80,  81,  82,  83],\n",
       "         [ 96,  97,  98,  99],\n",
       "         [112, 113, 114, 115]],\n",
       "\n",
       "        [[ 65,  66,  67,  68],\n",
       "         [ 81,  82,  83,  84],\n",
       "         [ 97,  98,  99, 100],\n",
       "         [113, 114, 115, 116]],\n",
       "\n",
       "        [[ 66,  67,  68,  69],\n",
       "         [ 82,  83,  84,  85],\n",
       "         [ 98,  99, 100, 101],\n",
       "         [114, 115, 116, 117]],\n",
       "\n",
       "        [[ 67,  68,  69,  70],\n",
       "         [ 83,  84,  85,  86],\n",
       "         [ 99, 100, 101, 102],\n",
       "         [115, 116, 117, 118]],\n",
       "\n",
       "        [[ 68,  69,  70,  71],\n",
       "         [ 84,  85,  86,  87],\n",
       "         [100, 101, 102, 103],\n",
       "         [116, 117, 118, 119]]]])"
      ]
     },
     "execution_count": 857,
     "metadata": {},
     "output_type": "execute_result"
    }
   ],
   "source": [
    "windows[:5,:5]"
   ]
  },
  {
   "cell_type": "code",
   "execution_count": 843,
   "id": "ad7b9b43",
   "metadata": {},
   "outputs": [
    {
     "data": {
      "text/plain": [
       "(4, 4)"
      ]
     },
     "execution_count": 843,
     "metadata": {},
     "output_type": "execute_result"
    }
   ],
   "source": [
    "S = windows[::k, ::k, ...].sum(axis=(-2, -1))\n",
    "S.shape"
   ]
  },
  {
   "cell_type": "code",
   "execution_count": 860,
   "id": "0a2a6c13",
   "metadata": {},
   "outputs": [
    {
     "data": {
      "text/plain": [
       "array([[16., 16., 16., 16.],\n",
       "       [16., 16., 16., 16.],\n",
       "       [16., 16., 16., 16.],\n",
       "       [16., 16., 16., 16.]])"
      ]
     },
     "execution_count": 860,
     "metadata": {},
     "output_type": "execute_result"
    }
   ],
   "source": [
    "S"
   ]
  },
  {
   "cell_type": "code",
   "execution_count": 853,
   "id": "6c2e3e50",
   "metadata": {},
   "outputs": [
    {
     "data": {
      "text/plain": [
       "(13, 13, 4, 4)"
      ]
     },
     "execution_count": 853,
     "metadata": {},
     "output_type": "execute_result"
    }
   ],
   "source": [
    "windows.shape"
   ]
  },
  {
   "cell_type": "code",
   "execution_count": 854,
   "id": "b2b5eab4",
   "metadata": {
    "scrolled": true
   },
   "outputs": [
    {
     "data": {
      "text/plain": [
       "array([[[[  0,   1,   2,   3],\n",
       "         [ 16,  17,  18,  19],\n",
       "         [ 32,  33,  34,  35],\n",
       "         [ 48,  49,  50,  51]],\n",
       "\n",
       "        [[  4,   5,   6,   7],\n",
       "         [ 20,  21,  22,  23],\n",
       "         [ 36,  37,  38,  39],\n",
       "         [ 52,  53,  54,  55]],\n",
       "\n",
       "        [[  8,   9,  10,  11],\n",
       "         [ 24,  25,  26,  27],\n",
       "         [ 40,  41,  42,  43],\n",
       "         [ 56,  57,  58,  59]],\n",
       "\n",
       "        [[ 12,  13,  14,  15],\n",
       "         [ 28,  29,  30,  31],\n",
       "         [ 44,  45,  46,  47],\n",
       "         [ 60,  61,  62,  63]]],\n",
       "\n",
       "\n",
       "       [[[ 64,  65,  66,  67],\n",
       "         [ 80,  81,  82,  83],\n",
       "         [ 96,  97,  98,  99],\n",
       "         [112, 113, 114, 115]],\n",
       "\n",
       "        [[ 68,  69,  70,  71],\n",
       "         [ 84,  85,  86,  87],\n",
       "         [100, 101, 102, 103],\n",
       "         [116, 117, 118, 119]],\n",
       "\n",
       "        [[ 72,  73,  74,  75],\n",
       "         [ 88,  89,  90,  91],\n",
       "         [104, 105, 106, 107],\n",
       "         [120, 121, 122, 123]],\n",
       "\n",
       "        [[ 76,  77,  78,  79],\n",
       "         [ 92,  93,  94,  95],\n",
       "         [108, 109, 110, 111],\n",
       "         [124, 125, 126, 127]]],\n",
       "\n",
       "\n",
       "       [[[128, 129, 130, 131],\n",
       "         [144, 145, 146, 147],\n",
       "         [160, 161, 162, 163],\n",
       "         [176, 177, 178, 179]],\n",
       "\n",
       "        [[132, 133, 134, 135],\n",
       "         [148, 149, 150, 151],\n",
       "         [164, 165, 166, 167],\n",
       "         [180, 181, 182, 183]],\n",
       "\n",
       "        [[136, 137, 138, 139],\n",
       "         [152, 153, 154, 155],\n",
       "         [168, 169, 170, 171],\n",
       "         [184, 185, 186, 187]],\n",
       "\n",
       "        [[140, 141, 142, 143],\n",
       "         [156, 157, 158, 159],\n",
       "         [172, 173, 174, 175],\n",
       "         [188, 189, 190, 191]]],\n",
       "\n",
       "\n",
       "       [[[192, 193, 194, 195],\n",
       "         [208, 209, 210, 211],\n",
       "         [224, 225, 226, 227],\n",
       "         [240, 241, 242, 243]],\n",
       "\n",
       "        [[196, 197, 198, 199],\n",
       "         [212, 213, 214, 215],\n",
       "         [228, 229, 230, 231],\n",
       "         [244, 245, 246, 247]],\n",
       "\n",
       "        [[200, 201, 202, 203],\n",
       "         [216, 217, 218, 219],\n",
       "         [232, 233, 234, 235],\n",
       "         [248, 249, 250, 251]],\n",
       "\n",
       "        [[204, 205, 206, 207],\n",
       "         [220, 221, 222, 223],\n",
       "         [236, 237, 238, 239],\n",
       "         [252, 253, 254, 255]]]])"
      ]
     },
     "execution_count": 854,
     "metadata": {},
     "output_type": "execute_result"
    }
   ],
   "source": [
    "windows[::k,::k,...]"
   ]
  },
  {
   "cell_type": "code",
   "execution_count": 855,
   "id": "e7163809",
   "metadata": {
    "scrolled": true
   },
   "outputs": [
    {
     "data": {
      "text/plain": [
       "array([[ 408,  424,  440,  456,  472,  488,  504,  520,  536,  552,  568,\n",
       "         584,  600],\n",
       "       [ 664,  680,  696,  712,  728,  744,  760,  776,  792,  808,  824,\n",
       "         840,  856],\n",
       "       [ 920,  936,  952,  968,  984, 1000, 1016, 1032, 1048, 1064, 1080,\n",
       "        1096, 1112],\n",
       "       [1176, 1192, 1208, 1224, 1240, 1256, 1272, 1288, 1304, 1320, 1336,\n",
       "        1352, 1368],\n",
       "       [1432, 1448, 1464, 1480, 1496, 1512, 1528, 1544, 1560, 1576, 1592,\n",
       "        1608, 1624],\n",
       "       [1688, 1704, 1720, 1736, 1752, 1768, 1784, 1800, 1816, 1832, 1848,\n",
       "        1864, 1880],\n",
       "       [1944, 1960, 1976, 1992, 2008, 2024, 2040, 2056, 2072, 2088, 2104,\n",
       "        2120, 2136],\n",
       "       [2200, 2216, 2232, 2248, 2264, 2280, 2296, 2312, 2328, 2344, 2360,\n",
       "        2376, 2392],\n",
       "       [2456, 2472, 2488, 2504, 2520, 2536, 2552, 2568, 2584, 2600, 2616,\n",
       "        2632, 2648],\n",
       "       [2712, 2728, 2744, 2760, 2776, 2792, 2808, 2824, 2840, 2856, 2872,\n",
       "        2888, 2904],\n",
       "       [2968, 2984, 3000, 3016, 3032, 3048, 3064, 3080, 3096, 3112, 3128,\n",
       "        3144, 3160],\n",
       "       [3224, 3240, 3256, 3272, 3288, 3304, 3320, 3336, 3352, 3368, 3384,\n",
       "        3400, 3416],\n",
       "       [3480, 3496, 3512, 3528, 3544, 3560, 3576, 3592, 3608, 3624, 3640,\n",
       "        3656, 3672]])"
      ]
     },
     "execution_count": 855,
     "metadata": {},
     "output_type": "execute_result"
    }
   ],
   "source": [
    "windows.sum(axis=(-2,-1))"
   ]
  },
  {
   "cell_type": "code",
   "execution_count": 859,
   "id": "7e960b76",
   "metadata": {},
   "outputs": [
    {
     "name": "stdout",
     "output_type": "stream",
     "text": [
      "[[16. 16. 16. 16.]\n",
      " [16. 16. 16. 16.]\n",
      " [16. 16. 16. 16.]\n",
      " [16. 16. 16. 16.]]\n"
     ]
    }
   ],
   "source": [
    "Z = np.ones((16,16))\n",
    "k = 4\n",
    "S = np.add.reduceat(\n",
    "    np.add.reduceat(Z, np.arange(0, Z.shape[0], k), axis=0),\n",
    "    np.arange(0, Z.shape[1], k), axis=1)\n",
    "print(S)"
   ]
  },
  {
   "cell_type": "code",
   "execution_count": 868,
   "id": "6f591c6b",
   "metadata": {},
   "outputs": [
    {
     "data": {
      "text/plain": [
       "array([[ 96, 100, 104, 108, 112, 116, 120, 124, 128, 132, 136, 140, 144,\n",
       "        148, 152, 156],\n",
       "       [352, 356, 360, 364, 368, 372, 376, 380, 384, 388, 392, 396, 400,\n",
       "        404, 408, 412],\n",
       "       [608, 612, 616, 620, 624, 628, 632, 636, 640, 644, 648, 652, 656,\n",
       "        660, 664, 668],\n",
       "       [864, 868, 872, 876, 880, 884, 888, 892, 896, 900, 904, 908, 912,\n",
       "        916, 920, 924]])"
      ]
     },
     "execution_count": 868,
     "metadata": {},
     "output_type": "execute_result"
    }
   ],
   "source": [
    "a = np.arange(16*16).reshape(16,16)\n",
    "np.add.reduceat(a, np.arange(0, a.shape[0], k), axis=0)"
   ]
  },
  {
   "cell_type": "code",
   "execution_count": 881,
   "id": "2490e63f",
   "metadata": {},
   "outputs": [
    {
     "data": {
      "text/plain": [
       "(4, 16)"
      ]
     },
     "execution_count": 881,
     "metadata": {},
     "output_type": "execute_result"
    }
   ],
   "source": [
    "np.add.reduceat(a, np.arange(0, a.shape[0], k), axis=0).shape"
   ]
  },
  {
   "cell_type": "code",
   "execution_count": 869,
   "id": "4e29cd96",
   "metadata": {},
   "outputs": [
    {
     "data": {
      "text/plain": [
       "array([ 0,  4,  8, 12])"
      ]
     },
     "execution_count": 869,
     "metadata": {},
     "output_type": "execute_result"
    }
   ],
   "source": [
    "np.arange(0, a.shape[0], k)"
   ]
  },
  {
   "cell_type": "code",
   "execution_count": 885,
   "id": "3d9896f9",
   "metadata": {},
   "outputs": [
    {
     "data": {
      "text/plain": [
       "array([ 96, 100, 104, 108, 112, 116, 120, 124, 128, 132, 136, 140, 144,\n",
       "       148, 152, 156])"
      ]
     },
     "execution_count": 885,
     "metadata": {},
     "output_type": "execute_result"
    }
   ],
   "source": [
    "a[0:4,:].sum(axis=0)"
   ]
  },
  {
   "cell_type": "code",
   "execution_count": 877,
   "id": "a37376a9",
   "metadata": {},
   "outputs": [
    {
     "data": {
      "text/plain": [
       "array([[  0,   1,   2,   3,   4,   5,   6,   7,   8,   9,  10,  11,  12,\n",
       "         13,  14,  15],\n",
       "       [ 16,  17,  18,  19,  20,  21,  22,  23,  24,  25,  26,  27,  28,\n",
       "         29,  30,  31],\n",
       "       [ 32,  33,  34,  35,  36,  37,  38,  39,  40,  41,  42,  43,  44,\n",
       "         45,  46,  47],\n",
       "       [ 48,  49,  50,  51,  52,  53,  54,  55,  56,  57,  58,  59,  60,\n",
       "         61,  62,  63],\n",
       "       [ 64,  65,  66,  67,  68,  69,  70,  71,  72,  73,  74,  75,  76,\n",
       "         77,  78,  79],\n",
       "       [ 80,  81,  82,  83,  84,  85,  86,  87,  88,  89,  90,  91,  92,\n",
       "         93,  94,  95],\n",
       "       [ 96,  97,  98,  99, 100, 101, 102, 103, 104, 105, 106, 107, 108,\n",
       "        109, 110, 111],\n",
       "       [112, 113, 114, 115, 116, 117, 118, 119, 120, 121, 122, 123, 124,\n",
       "        125, 126, 127],\n",
       "       [128, 129, 130, 131, 132, 133, 134, 135, 136, 137, 138, 139, 140,\n",
       "        141, 142, 143],\n",
       "       [144, 145, 146, 147, 148, 149, 150, 151, 152, 153, 154, 155, 156,\n",
       "        157, 158, 159],\n",
       "       [160, 161, 162, 163, 164, 165, 166, 167, 168, 169, 170, 171, 172,\n",
       "        173, 174, 175],\n",
       "       [176, 177, 178, 179, 180, 181, 182, 183, 184, 185, 186, 187, 188,\n",
       "        189, 190, 191],\n",
       "       [192, 193, 194, 195, 196, 197, 198, 199, 200, 201, 202, 203, 204,\n",
       "        205, 206, 207],\n",
       "       [208, 209, 210, 211, 212, 213, 214, 215, 216, 217, 218, 219, 220,\n",
       "        221, 222, 223],\n",
       "       [224, 225, 226, 227, 228, 229, 230, 231, 232, 233, 234, 235, 236,\n",
       "        237, 238, 239],\n",
       "       [240, 241, 242, 243, 244, 245, 246, 247, 248, 249, 250, 251, 252,\n",
       "        253, 254, 255]])"
      ]
     },
     "execution_count": 877,
     "metadata": {},
     "output_type": "execute_result"
    }
   ],
   "source": [
    "a"
   ]
  },
  {
   "cell_type": "code",
   "execution_count": 858,
   "id": "a0d664b0",
   "metadata": {},
   "outputs": [
    {
     "data": {
      "text/plain": [
       "(array([ 0,  4,  8, 12]),)"
      ]
     },
     "execution_count": 858,
     "metadata": {},
     "output_type": "execute_result"
    }
   ],
   "source": [
    "np.arange(0, Z.shape[0], k),"
   ]
  },
  {
   "cell_type": "markdown",
   "id": "fb919956",
   "metadata": {},
   "source": [
    "#### 89. How to get the n largest values of an array (★★★)"
   ]
  },
  {
   "cell_type": "code",
   "execution_count": 886,
   "id": "0f58b081",
   "metadata": {},
   "outputs": [
    {
     "name": "stdout",
     "output_type": "stream",
     "text": [
      "[9995 9996 9997 9998 9999]\n",
      "[9999 9998 9996 9997 9995]\n"
     ]
    }
   ],
   "source": [
    "Z = np.arange(10000)\n",
    "np.random.shuffle(Z)\n",
    "n = 5\n",
    "\n",
    "# Slow\n",
    "print (Z[np.argsort(Z)[-n:]])\n",
    "\n",
    "# Fast\n",
    "print (Z[np.argpartition(-Z,n)[:n]])"
   ]
  },
  {
   "cell_type": "code",
   "execution_count": 887,
   "id": "a1f0677b",
   "metadata": {
    "scrolled": true
   },
   "outputs": [
    {
     "name": "stdout",
     "output_type": "stream",
     "text": [
      "[[1 4 6]\n",
      " [1 4 7]\n",
      " [1 5 6]\n",
      " [1 5 7]\n",
      " [2 4 6]\n",
      " [2 4 7]\n",
      " [2 5 6]\n",
      " [2 5 7]\n",
      " [3 4 6]\n",
      " [3 4 7]\n",
      " [3 5 6]\n",
      " [3 5 7]]\n"
     ]
    }
   ],
   "source": [
    "def cartesian(arrays):\n",
    "    arrays = [np.asarray(a) for a in arrays]\n",
    "    shape = (len(x) for x in arrays)\n",
    "\n",
    "    ix = np.indices(shape, dtype=int)\n",
    "    ix = ix.reshape(len(arrays), -1).T\n",
    "\n",
    "    for n, arr in enumerate(arrays):\n",
    "        ix[:, n] = arrays[n][ix[:, n]]\n",
    "\n",
    "    return ix\n",
    "\n",
    "print (cartesian(([1, 2, 3], [4, 5], [6, 7])))"
   ]
  },
  {
   "cell_type": "code",
   "execution_count": 901,
   "id": "3bb07db0",
   "metadata": {},
   "outputs": [],
   "source": [
    "arrays_og = [1, 2, 3], [4, 5], [6, 7]\n",
    "arrays = [np.asarray(a) for a in arrays_og]\n",
    "shape = [len(x) for x in arrays]\n",
    "\n",
    "# x, y, z position\n",
    "ix = np.indices(shape, dtype=int) # (len(arrays), *shape)\n",
    "ix2 = ix.reshape(len(arrays), -1).T"
   ]
  },
  {
   "cell_type": "code",
   "execution_count": 904,
   "id": "e0db080d",
   "metadata": {},
   "outputs": [
    {
     "data": {
      "text/plain": [
       "array([[0, 0, 0, 0, 1, 1, 1, 1, 2, 2, 2, 2],\n",
       "       [0, 0, 1, 1, 0, 0, 1, 1, 0, 0, 1, 1],\n",
       "       [0, 1, 0, 1, 0, 1, 0, 1, 0, 1, 0, 1]])"
      ]
     },
     "execution_count": 904,
     "metadata": {},
     "output_type": "execute_result"
    }
   ],
   "source": [
    "ix.reshape(len(arrays),-1)"
   ]
  },
  {
   "cell_type": "code",
   "execution_count": 905,
   "id": "decf6b95",
   "metadata": {},
   "outputs": [
    {
     "data": {
      "text/plain": [
       "array([[0, 0, 0],\n",
       "       [0, 0, 1],\n",
       "       [0, 1, 0],\n",
       "       [0, 1, 1],\n",
       "       [1, 0, 0],\n",
       "       [1, 0, 1],\n",
       "       [1, 1, 0],\n",
       "       [1, 1, 1],\n",
       "       [2, 0, 0],\n",
       "       [2, 0, 1],\n",
       "       [2, 1, 0],\n",
       "       [2, 1, 1]])"
      ]
     },
     "execution_count": 905,
     "metadata": {},
     "output_type": "execute_result"
    }
   ],
   "source": [
    "ix.reshape(len(arrays),-1).T"
   ]
  },
  {
   "cell_type": "code",
   "execution_count": 908,
   "id": "15732fe7",
   "metadata": {},
   "outputs": [
    {
     "data": {
      "text/plain": [
       "array([1, 1, 1, 1, 2, 2, 2, 2, 3, 3, 3, 3])"
      ]
     },
     "execution_count": 908,
     "metadata": {},
     "output_type": "execute_result"
    }
   ],
   "source": [
    "arrays[0][ix2[:,0]]"
   ]
  },
  {
   "cell_type": "code",
   "execution_count": 910,
   "id": "b5dba294",
   "metadata": {},
   "outputs": [
    {
     "data": {
      "text/plain": [
       "array([4, 4, 5, 5, 4, 4, 5, 5, 4, 4, 5, 5])"
      ]
     },
     "execution_count": 910,
     "metadata": {},
     "output_type": "execute_result"
    }
   ],
   "source": [
    "arrays[1][ix2[:,1]]"
   ]
  },
  {
   "cell_type": "code",
   "execution_count": 912,
   "id": "7a926f3a",
   "metadata": {},
   "outputs": [
    {
     "data": {
      "text/plain": [
       "array([6, 7, 6, 7, 6, 7, 6, 7, 6, 7, 6, 7])"
      ]
     },
     "execution_count": 912,
     "metadata": {},
     "output_type": "execute_result"
    }
   ],
   "source": [
    "arrays[2][ix2[:,2]]"
   ]
  },
  {
   "cell_type": "code",
   "execution_count": 891,
   "id": "56ea3ccb",
   "metadata": {},
   "outputs": [
    {
     "data": {
      "text/plain": [
       "[array([1, 2, 3]), array([4, 5]), array([6, 7])]"
      ]
     },
     "execution_count": 891,
     "metadata": {},
     "output_type": "execute_result"
    }
   ],
   "source": [
    "arrays"
   ]
  },
  {
   "cell_type": "code",
   "execution_count": 896,
   "id": "89aa922a",
   "metadata": {},
   "outputs": [
    {
     "data": {
      "text/plain": [
       "[3, 2, 2]"
      ]
     },
     "execution_count": 896,
     "metadata": {},
     "output_type": "execute_result"
    }
   ],
   "source": [
    "shape"
   ]
  },
  {
   "cell_type": "code",
   "execution_count": 899,
   "id": "cd768449",
   "metadata": {},
   "outputs": [
    {
     "data": {
      "text/plain": [
       "(3, 3, 2, 2)"
      ]
     },
     "execution_count": 899,
     "metadata": {},
     "output_type": "execute_result"
    }
   ],
   "source": [
    "ix.shape # ()"
   ]
  },
  {
   "cell_type": "code",
   "execution_count": 898,
   "id": "a7b75949",
   "metadata": {},
   "outputs": [
    {
     "data": {
      "text/plain": [
       "array([[[0, 0],\n",
       "        [0, 0]],\n",
       "\n",
       "       [[1, 1],\n",
       "        [1, 1]],\n",
       "\n",
       "       [[2, 2],\n",
       "        [2, 2]]])"
      ]
     },
     "execution_count": 898,
     "metadata": {},
     "output_type": "execute_result"
    }
   ],
   "source": [
    "np.indices(shape, dtype=int)[0]"
   ]
  },
  {
   "cell_type": "code",
   "execution_count": 900,
   "id": "29e15ea8",
   "metadata": {},
   "outputs": [
    {
     "data": {
      "text/plain": [
       "array([[[0, 0],\n",
       "        [1, 1]],\n",
       "\n",
       "       [[0, 0],\n",
       "        [1, 1]],\n",
       "\n",
       "       [[0, 0],\n",
       "        [1, 1]]])"
      ]
     },
     "execution_count": 900,
     "metadata": {},
     "output_type": "execute_result"
    }
   ],
   "source": [
    "np.indices(shape, dtype=int)[1]"
   ]
  },
  {
   "cell_type": "markdown",
   "id": "d3cdf623",
   "metadata": {},
   "source": [
    "#### 92. Consider a large vector Z, compute Z to the power of 3 using 3 different methods (★★★)\n"
   ]
  },
  {
   "cell_type": "code",
   "execution_count": 913,
   "id": "80382122",
   "metadata": {},
   "outputs": [
    {
     "name": "stdout",
     "output_type": "stream",
     "text": [
      "411 ms ± 5.73 ms per loop (mean ± std. dev. of 7 runs, 1 loop each)\n",
      "69.7 ms ± 1.07 ms per loop (mean ± std. dev. of 7 runs, 10 loops each)\n",
      "70.1 ms ± 602 µs per loop (mean ± std. dev. of 7 runs, 10 loops each)\n"
     ]
    }
   ],
   "source": [
    "x = np.random.rand(int(5e7))\n",
    "\n",
    "%timeit np.power(x,3)\n",
    "%timeit x*x*x\n",
    "%timeit np.einsum('i,i,i->i',x,x,x)"
   ]
  },
  {
   "cell_type": "markdown",
   "id": "f05dbd2a",
   "metadata": {},
   "source": [
    "#### 93. Consider two arrays A and B of shape (8,3) and (2,2). How to find rows of A that contain elements of each row of B regardless of the order of the elements in B? (★★★)\n"
   ]
  },
  {
   "cell_type": "code",
   "execution_count": 914,
   "id": "50ad56a5",
   "metadata": {},
   "outputs": [],
   "source": [
    "A = np.random.randint(0,5,(8,3))\n",
    "B = np.random.randint(0,5,(2,2))\n",
    "\n",
    "C = (A[..., np.newaxis, np.newaxis] == B)"
   ]
  },
  {
   "cell_type": "code",
   "execution_count": 921,
   "id": "66247e23",
   "metadata": {},
   "outputs": [
    {
     "data": {
      "text/plain": [
       "array([[1, 3, 4],\n",
       "       [4, 0, 1],\n",
       "       [1, 1, 1],\n",
       "       [3, 1, 4],\n",
       "       [2, 2, 0],\n",
       "       [0, 3, 1],\n",
       "       [2, 4, 0],\n",
       "       [4, 3, 3]])"
      ]
     },
     "execution_count": 921,
     "metadata": {},
     "output_type": "execute_result"
    }
   ],
   "source": [
    "A # array([0, 1, 3, 4, 6, 7])"
   ]
  },
  {
   "cell_type": "code",
   "execution_count": null,
   "id": "32cd5d7e",
   "metadata": {},
   "outputs": [],
   "source": [
    "v"
   ]
  },
  {
   "cell_type": "code",
   "execution_count": 922,
   "id": "74dcdada",
   "metadata": {},
   "outputs": [
    {
     "data": {
      "text/plain": [
       "array([[4, 2],\n",
       "       [4, 0]])"
      ]
     },
     "execution_count": 922,
     "metadata": {},
     "output_type": "execute_result"
    }
   ],
   "source": [
    "B"
   ]
  },
  {
   "cell_type": "code",
   "execution_count": 915,
   "id": "0d162e0c",
   "metadata": {
    "scrolled": true
   },
   "outputs": [
    {
     "data": {
      "text/plain": [
       "array([[[[False, False],\n",
       "         [False, False]],\n",
       "\n",
       "        [[False, False],\n",
       "         [False, False]],\n",
       "\n",
       "        [[ True, False],\n",
       "         [ True, False]]],\n",
       "\n",
       "\n",
       "       [[[ True, False],\n",
       "         [ True, False]],\n",
       "\n",
       "        [[False, False],\n",
       "         [False,  True]],\n",
       "\n",
       "        [[False, False],\n",
       "         [False, False]]],\n",
       "\n",
       "\n",
       "       [[[False, False],\n",
       "         [False, False]],\n",
       "\n",
       "        [[False, False],\n",
       "         [False, False]],\n",
       "\n",
       "        [[False, False],\n",
       "         [False, False]]],\n",
       "\n",
       "\n",
       "       [[[False, False],\n",
       "         [False, False]],\n",
       "\n",
       "        [[False, False],\n",
       "         [False, False]],\n",
       "\n",
       "        [[ True, False],\n",
       "         [ True, False]]],\n",
       "\n",
       "\n",
       "       [[[False,  True],\n",
       "         [False, False]],\n",
       "\n",
       "        [[False,  True],\n",
       "         [False, False]],\n",
       "\n",
       "        [[False, False],\n",
       "         [False,  True]]],\n",
       "\n",
       "\n",
       "       [[[False, False],\n",
       "         [False,  True]],\n",
       "\n",
       "        [[False, False],\n",
       "         [False, False]],\n",
       "\n",
       "        [[False, False],\n",
       "         [False, False]]],\n",
       "\n",
       "\n",
       "       [[[False,  True],\n",
       "         [False, False]],\n",
       "\n",
       "        [[ True, False],\n",
       "         [ True, False]],\n",
       "\n",
       "        [[False, False],\n",
       "         [False,  True]]],\n",
       "\n",
       "\n",
       "       [[[ True, False],\n",
       "         [ True, False]],\n",
       "\n",
       "        [[False, False],\n",
       "         [False, False]],\n",
       "\n",
       "        [[False, False],\n",
       "         [False, False]]]])"
      ]
     },
     "execution_count": 915,
     "metadata": {},
     "output_type": "execute_result"
    }
   ],
   "source": [
    "C"
   ]
  },
  {
   "cell_type": "code",
   "execution_count": 925,
   "id": "e035ce00",
   "metadata": {},
   "outputs": [
    {
     "data": {
      "text/plain": [
       "(8, 3, 2, 2)"
      ]
     },
     "execution_count": 925,
     "metadata": {},
     "output_type": "execute_result"
    }
   ],
   "source": [
    "C.shape"
   ]
  },
  {
   "cell_type": "code",
   "execution_count": 924,
   "id": "af99b0d5",
   "metadata": {},
   "outputs": [
    {
     "data": {
      "text/plain": [
       "array([0, 1, 3, 4, 6, 7])"
      ]
     },
     "execution_count": 924,
     "metadata": {},
     "output_type": "execute_result"
    }
   ],
   "source": [
    "rows = np.where(C.any((3,1)).all(1))[0]\n",
    "rows"
   ]
  },
  {
   "cell_type": "markdown",
   "id": "25ba6b66",
   "metadata": {},
   "source": [
    "#### 94. Considering a 10x3 matrix, extract rows with unequal values (e.g. [2,2,3]) (★★★)"
   ]
  },
  {
   "cell_type": "code",
   "execution_count": 929,
   "id": "ab5d3c96",
   "metadata": {},
   "outputs": [
    {
     "data": {
      "text/plain": [
       "array([[0, 3, 2],\n",
       "       [0, 0, 0],\n",
       "       [3, 4, 0],\n",
       "       [0, 0, 4],\n",
       "       [0, 1, 3],\n",
       "       [3, 4, 4],\n",
       "       [2, 0, 4],\n",
       "       [4, 0, 1],\n",
       "       [2, 4, 1],\n",
       "       [1, 0, 3]])"
      ]
     },
     "execution_count": 929,
     "metadata": {},
     "output_type": "execute_result"
    }
   ],
   "source": [
    "Z = np.random.randint(0,5,(10,3))\n",
    "Z"
   ]
  },
  {
   "cell_type": "code",
   "execution_count": 932,
   "id": "b69b1257",
   "metadata": {},
   "outputs": [
    {
     "data": {
      "text/plain": [
       "array([[3, 2],\n",
       "       [0, 0],\n",
       "       [4, 0],\n",
       "       [0, 4],\n",
       "       [1, 3],\n",
       "       [4, 4],\n",
       "       [0, 4],\n",
       "       [0, 1],\n",
       "       [4, 1],\n",
       "       [0, 3]])"
      ]
     },
     "execution_count": 932,
     "metadata": {},
     "output_type": "execute_result"
    }
   ],
   "source": [
    "Z[:,1:]"
   ]
  },
  {
   "cell_type": "code",
   "execution_count": 933,
   "id": "ca76e158",
   "metadata": {},
   "outputs": [
    {
     "data": {
      "text/plain": [
       "array([[0, 3],\n",
       "       [0, 0],\n",
       "       [3, 4],\n",
       "       [0, 0],\n",
       "       [0, 1],\n",
       "       [3, 4],\n",
       "       [2, 0],\n",
       "       [4, 0],\n",
       "       [2, 4],\n",
       "       [1, 0]])"
      ]
     },
     "execution_count": 933,
     "metadata": {},
     "output_type": "execute_result"
    }
   ],
   "source": [
    "Z[:,:-1]"
   ]
  },
  {
   "cell_type": "code",
   "execution_count": 931,
   "id": "d5aea836",
   "metadata": {},
   "outputs": [
    {
     "data": {
      "text/plain": [
       "array([False,  True, False, False, False, False, False, False, False,\n",
       "       False])"
      ]
     },
     "execution_count": 931,
     "metadata": {},
     "output_type": "execute_result"
    }
   ],
   "source": [
    "# solution for arrays of all dtypes (including string arrays and record arrays)\n",
    "E = np.all(Z[:,1:] == Z[:,:-1], axis=1)\n",
    "E"
   ]
  },
  {
   "cell_type": "code",
   "execution_count": 934,
   "id": "6d2b6218",
   "metadata": {},
   "outputs": [
    {
     "data": {
      "text/plain": [
       "array([[0, 3, 2],\n",
       "       [3, 4, 0],\n",
       "       [0, 0, 4],\n",
       "       [0, 1, 3],\n",
       "       [3, 4, 4],\n",
       "       [2, 0, 4],\n",
       "       [4, 0, 1],\n",
       "       [2, 4, 1],\n",
       "       [1, 0, 3]])"
      ]
     },
     "execution_count": 934,
     "metadata": {},
     "output_type": "execute_result"
    }
   ],
   "source": [
    "U = Z[~E]\n",
    "U"
   ]
  },
  {
   "cell_type": "markdown",
   "id": "48384f8e",
   "metadata": {},
   "source": [
    "#### 96. Given a two dimensional array, how to extract unique rows? (★★★)"
   ]
  },
  {
   "cell_type": "code",
   "execution_count": 935,
   "id": "396a0918",
   "metadata": {},
   "outputs": [
    {
     "name": "stdout",
     "output_type": "stream",
     "text": [
      "[[0 0 0]\n",
      " [0 0 4]\n",
      " [0 1 3]\n",
      " [0 3 2]\n",
      " [1 0 3]\n",
      " [2 0 4]\n",
      " [2 4 1]\n",
      " [3 4 0]\n",
      " [3 4 4]\n",
      " [4 0 1]]\n"
     ]
    }
   ],
   "source": [
    "uZ = np.unique(Z, axis=0)\n",
    "print(uZ)"
   ]
  },
  {
   "cell_type": "markdown",
   "id": "8e17e196",
   "metadata": {},
   "source": [
    "#### 97. Considering 2 vectors A & B, write the einsum equivalent of inner, outer, sum, and mul function (★★★)\n"
   ]
  },
  {
   "cell_type": "code",
   "execution_count": 940,
   "id": "f1e54bb7",
   "metadata": {},
   "outputs": [],
   "source": [
    "a = np.random.randn(3)\n",
    "b = np.random.randn(3)"
   ]
  },
  {
   "cell_type": "code",
   "execution_count": 941,
   "id": "c7231af4",
   "metadata": {},
   "outputs": [
    {
     "data": {
      "text/plain": [
       "2.39166428653553"
      ]
     },
     "execution_count": 941,
     "metadata": {},
     "output_type": "execute_result"
    }
   ],
   "source": [
    "# inner\n",
    "np.einsum('i,j->', a, b)"
   ]
  },
  {
   "cell_type": "code",
   "execution_count": 950,
   "id": "ba56859e",
   "metadata": {},
   "outputs": [
    {
     "data": {
      "text/plain": [
       "-0.17948615712789384"
      ]
     },
     "execution_count": 950,
     "metadata": {},
     "output_type": "execute_result"
    }
   ],
   "source": [
    "# inner\n",
    "np.einsum('i,i', a, b)"
   ]
  },
  {
   "cell_type": "code",
   "execution_count": 942,
   "id": "8ce8dd04",
   "metadata": {},
   "outputs": [
    {
     "data": {
      "text/plain": [
       "array([[ 0.03593506,  0.06627533,  0.02867029],\n",
       "       [-0.67910163, -1.25247268, -0.54181172],\n",
       "       [ 1.29983038,  2.39728779,  1.03705146]])"
      ]
     },
     "execution_count": 942,
     "metadata": {},
     "output_type": "execute_result"
    }
   ],
   "source": [
    "# outer\n",
    "np.einsum('i,j->ij', a, b)"
   ]
  },
  {
   "cell_type": "code",
   "execution_count": 943,
   "id": "4467f806",
   "metadata": {},
   "outputs": [
    {
     "data": {
      "text/plain": [
       "array([ 0.03593506, -1.25247268,  1.03705146])"
      ]
     },
     "execution_count": 943,
     "metadata": {},
     "output_type": "execute_result"
    }
   ],
   "source": [
    "# product\n",
    "np.einsum('i,i->i', a, b)"
   ]
  },
  {
   "cell_type": "code",
   "execution_count": 944,
   "id": "4384a468",
   "metadata": {},
   "outputs": [
    {
     "data": {
      "text/plain": [
       "array([ 0.03593506, -1.25247268,  1.03705146])"
      ]
     },
     "execution_count": 944,
     "metadata": {},
     "output_type": "execute_result"
    }
   ],
   "source": [
    "a * b"
   ]
  },
  {
   "cell_type": "code",
   "execution_count": 946,
   "id": "7145a5e7",
   "metadata": {},
   "outputs": [
    {
     "data": {
      "text/plain": [
       "-0.6449402662937395"
      ]
     },
     "execution_count": 946,
     "metadata": {},
     "output_type": "execute_result"
    }
   ],
   "source": [
    "# sum\n",
    "np.einsum('i->', a)"
   ]
  },
  {
   "cell_type": "markdown",
   "id": "215f39c9",
   "metadata": {},
   "source": [
    "#### 100. Compute bootstrapped 95% confidence intervals for the mean of a 1D array X (i.e., resample the elements of an array with replacement N times, compute the mean of each sample, and then compute percentiles over the means). (★★★)\n"
   ]
  },
  {
   "cell_type": "code",
   "execution_count": 957,
   "id": "c1a382bc",
   "metadata": {},
   "outputs": [
    {
     "data": {
      "text/plain": [
       "array([-0.59217843,  0.82580126])"
      ]
     },
     "execution_count": 957,
     "metadata": {},
     "output_type": "execute_result"
    }
   ],
   "source": [
    "X = np.random.randn(10)\n",
    "\n",
    "N = 1000 # number of bootstrap samples\n",
    "idx = np.random.randint(0, X.size, (N, X.size)) # (1000, 10)\n",
    "\n",
    "means = X[idx].mean(axis=1) # (1000)\n",
    "confint = np.percentile(means, [2.5, 97.5])\n",
    "confint # ()"
   ]
  }
 ],
 "metadata": {
  "kernelspec": {
   "display_name": "Python 3 (ipykernel)",
   "language": "python",
   "name": "python3"
  },
  "language_info": {
   "codemirror_mode": {
    "name": "ipython",
    "version": 3
   },
   "file_extension": ".py",
   "mimetype": "text/x-python",
   "name": "python",
   "nbconvert_exporter": "python",
   "pygments_lexer": "ipython3",
   "version": "3.11.3"
  }
 },
 "nbformat": 4,
 "nbformat_minor": 5
}
